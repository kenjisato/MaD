{
 "cells": [
  {
   "cell_type": "markdown",
   "metadata": {},
   "source": [
    "# Week 12: 資料兼課題\n",
    "\n",
    "## 0. この資料の目標\n",
    "\n",
    "### トピック\n",
    "\n",
    "- 最適成長モデル（ラムゼー・モデル）\n",
    "\n",
    "### モデルの概要\n",
    "\n",
    "- 企業の行動はソロー・モデルとほぼ同じ。\n",
    "- 家計は異時点間の最適化問題を解いて消費と貯蓄を決める。\n",
    "\n",
    "\n",
    "#### 企業の行動\n",
    "\n",
    "利潤最大化条件\n",
    "\n",
    "$$\n",
    "\\begin{aligned}\n",
    "\\frac{\\partial F}{\\partial K}(K_{t-1},A_{t-1}L_{t-1}) = f'(k_{t-1}) =r_{t}+\\delta\n",
    "\\end{aligned}\n",
    "$$\n",
    "\n",
    "- $\\delta$: 資本減耗率\n",
    "- $k_t = K_t/(A_t L_t)$: は効率労働当たりの資本。\n",
    "- $r$: 実質利子率\n",
    "\n",
    "これと資本蓄積の方程式が重要。\n",
    "\n",
    "$$\n",
    "K_{t}-K_{t-1}=Y_{t}-C_{t}-\\delta K_{t-1}\n",
    "$$\n",
    "\n",
    "$I = Y - C = S$ は投資。ソローモデルと違って，貯蓄（投資）が内生的に決まる。\n",
    "\n",
    "\n",
    "これを効率労働当たりの変数に書き換えたものが次の方程式。\n",
    "\n",
    "$$\n",
    "k_{t}=\\frac{f(k_{t-1})-c_{t}+(1-\\delta)k_{t-1}}{(1+g)(1+n)}\n",
    "$$\n",
    "\n",
    "\n",
    "\n",
    "#### 家計の行動\n",
    "\n",
    "- $\\bar{c} = C/L$: 1人当たりの消費, \n",
    "- $\\bar{s}$: 1人当たりの貯蓄,  \n",
    "- $w$: 労働所得,  \n",
    "- $\\beta$: 割引因子,  \n",
    "- $n$: 人口成長率,  \n",
    "- $u$: 瞬時効用関数,  \n",
    "- $r$: 実質利子率\n",
    "- $R_t$: 累積実質利子率を人口増加率で調整したもの\n",
    "\n",
    "家計は次の効用最大化問題を解く。\n",
    "\n",
    "$$\n",
    "\\begin{aligned}\n",
    "&\\max\\sum_{t=1}^{\\infty}\\left\\{ \\beta(1+n)\\right\\} ^{t-1}u(\\bar{c}_{t})\\\\\n",
    "&\\text{subject to}\\\\\n",
    "&\\qquad\\sum_{t=1}^{\\infty}\\frac{\\bar{c}_{t}}{1+R_{t}}\\le\\sum_{t=1}^{\\infty}\\frac{w_{t}}{1+R_{t}}+\\bar{s}_{0}\n",
    "\\end{aligned}\n",
    "$$\n",
    "\n",
    "隣り合う2期間について，2期間モデルと同様の最適条件が得られる。\n",
    "\n",
    "$$\n",
    "\\frac{u'(\\bar{c}_{t})}{u'(\\bar{c}_{t+1})}=\\beta(1+r_{t+1})\n",
    "$$\n",
    "\n",
    "CRRA効用関数 $u(c) = (c^{1-\\theta}-1) / (1-\\theta)$ を仮定，効率労働あたりの消費 $c_t = C_t / (A_{t-1}L_{t-1})$ に書き直すと次のように変形できる。\n",
    "\n",
    "$$\n",
    "\\frac{c_{t+1}}{c_{t}}\n",
    "=\\frac{\\left\\{ \\beta(1+r_{t+1})\\right\\} ^{1/\\theta}}{1+g}\n",
    "$$\n",
    "\n",
    "\n",
    "#### 均衡\n",
    "\n",
    "市場を通じて企業と家計が結びつく。特に，\n",
    "\n",
    "- 家計が直面する利子率，賃金は企業の生産活動によって決まる\n",
    "- 企業の投資資金は家計の貯蓄によって供給される。\n",
    "\n",
    "ことに注意すると，経済のダイナミクスは以下の方程式で定まることがわかる。\n",
    "\n",
    "\n",
    "$$\n",
    "\\begin{aligned}\n",
    "k_{t} &= \\frac{f(k_{t-1})-c_{t}+(1-\\delta)k_{t-1}}{(1+g)(1+n)}\\\\\n",
    "\\frac{c_{t+1}}{c_{t}}\n",
    "&= \\frac{\\left\\{ \\beta(1+r_{t+1})\\right\\} ^{1/\\theta}}{1+g}\n",
    "\\end{aligned}\n",
    "$$\n",
    "\n",
    "\n",
    "ただし，初期値は $k_0$ が与えられている。\n",
    "\n",
    "\n",
    "### 目標\n",
    "\n",
    "- ラムゼーモデルの数値解法の1つを身につける。\n",
    "- この資料の解法は，蓮見 (2020) 『動学マクロ経済学へのいざない』日本評論社 の2章を参考にした。\n",
    "\n",
    "### 提出方法\n",
    "\n",
    "Teams の課題として提出\n",
    "\n",
    "### 締切\n",
    "\n",
    "8月７日"
   ]
  },
  {
   "cell_type": "markdown",
   "metadata": {},
   "source": [
    "### 準備\n",
    "\n",
    "まず，必要なライブラリをインポートしてください。"
   ]
  },
  {
   "cell_type": "code",
   "execution_count": 2,
   "metadata": {},
   "outputs": [],
   "source": [
    "import numpy as np\n",
    "from scipy.optimize import fsolve\n",
    "import matplotlib.pyplot as plt\n",
    "import sympy as sp\n",
    "sp.init_printing()"
   ]
  },
  {
   "cell_type": "markdown",
   "metadata": {},
   "source": [
    "## 考え方\n",
    "\n",
    "- 初期値の数が足りないので普通のシミュレーションの方法は使えない。\n",
    "- 終端条件（横断性条件）が最適性により定まるので，それを使う。\n",
    "\n",
    "次の連立方程式を解くことを考える。\n",
    "\n",
    "$$\n",
    "\\begin{align}\n",
    "k_{1} =\\frac{f(k_{0})-c_{1}+(1-\\delta)k_{0}}{(1+g)(1+n)},\n",
    "&\\quad \n",
    "c_{2} =\\frac{c_{1}\\left[\\beta\\left\\{ f'(k_{0})+1-\\delta\\right\\} \\right]^{1/\\theta}}{1+g}\n",
    "\\\\\n",
    "k_{2} =\\frac{f(k_{1})-c_{2}+(1-\\delta)k_{1}}{(1+g)(1+n)}, \n",
    "&\\quad\n",
    "c_{3} =\\frac{c_{2}\\left[\\beta\\left\\{ f'(k_{1})+1-\\delta\\right\\} \\right]^{1/\\theta}}{1+g}\n",
    "\\\\\n",
    "k_{3} =\\frac{f(k_{2})-c_{3}+(1-\\delta)k_{2}}{(1+g)(1+n)},\n",
    "&\\quad \n",
    "c_{4} =\\frac{c_{3}\\left[\\beta\\left\\{ f'(k_{2})+1-\\delta\\right\\} \\right]^{1/\\theta}}{1+g}\n",
    "\\\\\n",
    "\\qquad \\vdots\\\\\n",
    "k_{T} = \\frac{f(k_{T-1})-c_{T}+(1-\\delta)k_{T-1}}{(1+g)(1+n)}\n",
    "&\\quad \n",
    "c_{T+1} = \\frac{c_{T}\\left[\\beta\\left\\{ f'(k_{T})+1-\\delta\\right\\} \\right]^{1/\\theta}}{1+g}\n",
    "\\end{align}\n",
    "$$\n",
    "\n",
    "$k$, $c$ は $2T+2$個，方程式は $2T$ 個ある。$k_0$ は所与，$c_{T+1}$ は定常状態の値 $c^*$ で定めてやれば，未知数 $2T$個の $2T$本の連立方程式になるので，解くことができる。\n"
   ]
  },
  {
   "cell_type": "markdown",
   "metadata": {},
   "source": [
    "## Step 1. 定常状態を求める\n",
    "\n",
    "定常状態 $(k^*, c^*)$ は次の方程式を満たす。\n",
    "\n",
    "$$\n",
    "k^* =\\frac{f(k^*)-c^*+(1-\\delta)k^*}{(1+g)(1+n)},\n",
    "\\quad \n",
    "c^* =\\frac{c^*\\left[\\beta\\left\\{ f'(k^*)+1-\\delta\\right\\} \\right]^{1/\\theta}}{1+g}\n",
    "$$\n",
    "\n",
    "### シンボルの定義\n",
    "\n",
    "まずは定常状態を求めよう。必要なシンボルを導入する。"
   ]
  },
  {
   "cell_type": "code",
   "execution_count": 4,
   "metadata": {},
   "outputs": [],
   "source": [
    "k1, k0, c1, c0, g, n = sp.symbols(\"k1,k0,c1,c0,g,n\")\n",
    "alpha, beta, delta, theta = sp.symbols(\"alpha beta delta theta\")"
   ]
  },
  {
   "cell_type": "markdown",
   "metadata": {},
   "source": [
    "生産関数はコブダグラス型とする。"
   ]
  },
  {
   "cell_type": "code",
   "execution_count": 5,
   "metadata": {},
   "outputs": [
    {
     "data": {
      "image/png": "[encoded data removed]",
      "text/latex": [
       "$\\displaystyle k_{0}^{\\alpha}$"
      ],
      "text/plain": [
       "  α\n",
       "k₀ "
      ]
     },
     "execution_count": 5,
     "metadata": {},
     "output_type": "execute_result"
    }
   ],
   "source": [
    "f = sp.Lambda(k0, k0**alpha) #sp.Lambdaで関数定義\n",
    "f(k0)"
   ]
  },
  {
   "cell_type": "markdown",
   "metadata": {},
   "source": [
    "### 動学方程式をシンボリックに表現する\n",
    "\n",
    "資本蓄積方程式に関連する均衡条件を次のように定義する。"
   ]
  },
  {
   "cell_type": "code",
   "execution_count": 6,
   "metadata": {},
   "outputs": [
    {
     "data": {
      "image/png": "[encoded data removed]",
      "text/latex": [
       "$\\displaystyle k_{1} - \\frac{- c_{0} + k_{0} \\left(1 - \\delta\\right) + k_{0}^{\\alpha}}{\\left(g + 1\\right) \\left(n + 1\\right)}$"
      ],
      "text/plain": [
       "                          α\n",
       "     -c₀ + k₀⋅(1 - δ) + k₀ \n",
       "k₁ - ──────────────────────\n",
       "        (g + 1)⋅(n + 1)    "
      ]
     },
     "execution_count": 6,
     "metadata": {},
     "output_type": "execute_result"
    }
   ],
   "source": [
    "EK = k1 - (f(k0) - c0 + (1 - delta) * k0) / (1+g) / (1+n)\n",
    "EK"
   ]
  },
  {
   "cell_type": "markdown",
   "metadata": {},
   "source": [
    "オイラー条件（最適消費の条件）に対応する均衡条件を次のように定義する。"
   ]
  },
  {
   "cell_type": "code",
   "execution_count": 7,
   "metadata": {},
   "outputs": [
    {
     "data": {
      "image/png": "[encoded data removed]",
      "text/latex": [
       "$\\displaystyle - \\frac{c_{0} \\left(\\beta \\left(\\frac{\\alpha k_{1}^{\\alpha}}{k_{1}} - \\delta + 1\\right)\\right)^{\\frac{1}{\\theta}}}{g + 1} + c_{1}$"
      ],
      "text/plain": [
       "             ___________________     \n",
       "            ╱   ⎛    α        ⎞      \n",
       "           ╱    ⎜α⋅k₁         ⎟      \n",
       "  c₀⋅theta╱   β⋅⎜───── - δ + 1⎟      \n",
       "        ╲╱      ⎝  k₁         ⎠      \n",
       "- ────────────────────────────── + c₁\n",
       "              g + 1                  "
      ]
     },
     "execution_count": 7,
     "metadata": {},
     "output_type": "execute_result"
    }
   ],
   "source": [
    "EC = c1 - c0 * (beta * (f(k1).diff(k1) + 1 - delta)) ** (1 / theta) / (1 + g)\n",
    "EC"
   ]
  },
  {
   "cell_type": "markdown",
   "metadata": {},
   "source": [
    "### 定常状態の方程式をシンボリックに表現する\n",
    "\n",
    "\n",
    "`k1 == k0`, `c1 == c0` となるのが定常状態。これを行列形式（列ベクトル）で表現しておきます。これがゼロになる"
   ]
  },
  {
   "cell_type": "code",
   "execution_count": 8,
   "metadata": {},
   "outputs": [
    {
     "data": {
      "text/latex": [
       "$\\displaystyle \\left[\\begin{matrix}k_{0} - \\frac{- c_{0} + k_{0} \\left(1 - \\delta\\right) + k_{0}^{\\alpha}}{\\left(g + 1\\right) \\left(n + 1\\right)}\\\\- \\frac{c_{0} \\left(\\beta \\left(\\frac{\\alpha k_{0}^{\\alpha}}{k_{0}} - \\delta + 1\\right)\\right)^{\\frac{1}{\\theta}}}{g + 1} + c_{0}\\end{matrix}\\right]$"
      ],
      "text/plain": [
       "⎡                               α     ⎤\n",
       "⎢          -c₀ + k₀⋅(1 - δ) + k₀      ⎥\n",
       "⎢     k₀ - ──────────────────────     ⎥\n",
       "⎢             (g + 1)⋅(n + 1)         ⎥\n",
       "⎢                                     ⎥\n",
       "⎢             ___________________     ⎥\n",
       "⎢            ╱   ⎛    α        ⎞      ⎥\n",
       "⎢           ╱    ⎜α⋅k₀         ⎟      ⎥\n",
       "⎢  c₀⋅theta╱   β⋅⎜───── - δ + 1⎟      ⎥\n",
       "⎢        ╲╱      ⎝  k₀         ⎠      ⎥\n",
       "⎢- ────────────────────────────── + c₀⎥\n",
       "⎣              g + 1                  ⎦"
      ]
     },
     "execution_count": 8,
     "metadata": {},
     "output_type": "execute_result"
    }
   ],
   "source": [
    "E = sp.Matrix([EK, EC]).subs({k1: k0, c1: c0})\n",
    "E"
   ]
  },
  {
   "cell_type": "markdown",
   "metadata": {},
   "source": [
    "### パラメータを代入して解を求める"
   ]
  },
  {
   "cell_type": "code",
   "execution_count": 10,
   "metadata": {},
   "outputs": [],
   "source": [
    "params = {\n",
    "    alpha: 0.33,\n",
    "    delta: 0.03,\n",
    "    g: 0.02,\n",
    "    n: 0.01,\n",
    "    theta: 0.8,\n",
    "    beta: 0.98\n",
    "}"
   ]
  },
  {
   "cell_type": "markdown",
   "metadata": {},
   "source": [
    "数値関数に変換する。"
   ]
  },
  {
   "cell_type": "code",
   "execution_count": 11,
   "metadata": {},
   "outputs": [],
   "source": [
    "E_lam = sp.lambdify([[k0, c0]], np.squeeze(E.subs(params)))\n",
    "J_lam = sp.lambdify([[k0, c0]], E.jacobian([k0, c0]).subs(params))"
   ]
  },
  {
   "cell_type": "markdown",
   "metadata": {},
   "source": [
    "解く。"
   ]
  },
  {
   "cell_type": "code",
   "execution_count": 12,
   "metadata": {},
   "outputs": [
    {
     "data": {
      "text/plain": [
       "array([10.87371171,  1.54328611])"
      ]
     },
     "execution_count": 12,
     "metadata": {},
     "output_type": "execute_result"
    }
   ],
   "source": [
    "ss = fsolve(func=E_lam, x0=[4, 4], fprime=J_lam)\n",
    "ss"
   ]
  },
  {
   "cell_type": "markdown",
   "metadata": {},
   "source": [
    "## Step 2. 均衡経路を求める\n",
    "\n",
    "### 準備\n",
    "\n",
    "シンボルを一度にたくさん作る方法を覚えておくと便利である。"
   ]
  },
  {
   "cell_type": "code",
   "execution_count": 13,
   "metadata": {},
   "outputs": [
    {
     "data": {
      "image/png": "[encoded data removed]",
      "text/latex": [
       "$\\displaystyle \\left( x[0], \\  x[1], \\  x[2], \\  x[3], \\  x[4], \\  x[5], \\  x[6], \\  x[7], \\  x[8], \\  x[9]\\right)$"
      ],
      "text/plain": [
       "(x[0], x[1], x[2], x[3], x[4], x[5], x[6], x[7], x[8], x[9])"
      ]
     },
     "execution_count": 13,
     "metadata": {},
     "output_type": "execute_result"
    }
   ],
   "source": [
    "x = sp.symbols(\"x[:10]\")\n",
    "x"
   ]
  },
  {
   "cell_type": "code",
   "execution_count": 14,
   "metadata": {},
   "outputs": [
    {
     "data": {
      "image/png": "[encoded data removed]",
      "text/latex": [
       "$\\displaystyle x[4]$"
      ],
      "text/plain": [
       "x[4]"
      ]
     },
     "execution_count": 14,
     "metadata": {},
     "output_type": "execute_result"
    }
   ],
   "source": [
    "x[4]"
   ]
  },
  {
   "cell_type": "code",
   "execution_count": 15,
   "metadata": {},
   "outputs": [
    {
     "data": {
      "image/png": "[encoded data removed]",
      "text/latex": [
       "$\\displaystyle \\left( x[8], \\  x[9]\\right)$"
      ],
      "text/plain": [
       "(x[8], x[9])"
      ]
     },
     "execution_count": 15,
     "metadata": {},
     "output_type": "execute_result"
    }
   ],
   "source": [
    "x[-2:]"
   ]
  },
  {
   "cell_type": "markdown",
   "metadata": {},
   "source": [
    "このようにして，シンボルのリストを作ることができる。"
   ]
  },
  {
   "cell_type": "markdown",
   "metadata": {},
   "source": [
    "### 変数\n",
    "\n",
    "求める時系列の長さを $T+1$ とすると，必要な変数は\n",
    "\n",
    "- $k_0, k_1, k_2, \\dots, k_T$\n",
    "- $c_1, c_2, c_3, \\dots, c_{T+1}$\n",
    "\n",
    "仮に `T = 80` とすれば，次のように書ける。"
   ]
  },
  {
   "cell_type": "code",
   "execution_count": 16,
   "metadata": {},
   "outputs": [
    {
     "data": {
      "image/png": "[encoded data removed]",
      "text/latex": [
       "$\\displaystyle \\left( \\left( c[0], \\  c[1], \\  c[2]\\right), \\  \\left( c[79], \\  c[80], \\  c[81]\\right)\\right)$"
      ],
      "text/plain": [
       "((c[0], c[1], c[2]), (c[79], c[80], c[81]))"
      ]
     },
     "execution_count": 16,
     "metadata": {},
     "output_type": "execute_result"
    }
   ],
   "source": [
    "T = 80\n",
    "c = sp.symbols(f\"c[:{T+2}]\")\n",
    "k = sp.symbols(f\"k[:{T+1}]\")\n",
    "\n",
    "c[:3], c[-3:]"
   ]
  },
  {
   "cell_type": "markdown",
   "metadata": {},
   "source": [
    "### 最適経路が満たす方程式\n",
    "\n",
    "これを使って，最適経路が満たすべき均衡条件を定義する。`i = 0, 1, 2, ..., T-1` のそれぞれについて\n",
    "\n",
    "- `k0` → `k[i]`\n",
    "- `k1` → `k[i+1]`\n",
    "- `c0` → `c[i+1]`\n",
    "- `c1` → `c[i+2]`\n",
    "\n",
    "のように設定したものを並べればよい。"
   ]
  },
  {
   "cell_type": "code",
   "execution_count": 17,
   "metadata": {},
   "outputs": [
    {
     "data": {
      "text/latex": [
       "$\\displaystyle \\left[\\begin{matrix}k[1] - \\frac{- c[1] + k[0] \\left(1 - \\delta\\right) + k[0]^{\\alpha}}{\\left(g + 1\\right) \\left(n + 1\\right)} & - \\frac{c[1] \\left(\\beta \\left(\\frac{\\alpha k[1]^{\\alpha}}{k[1]} - \\delta + 1\\right)\\right)^{\\frac{1}{\\theta}}}{g + 1} + c[2]\\\\k[2] - \\frac{- c[2] + k[1] \\left(1 - \\delta\\right) + k[1]^{\\alpha}}{\\left(g + 1\\right) \\left(n + 1\\right)} & - \\frac{c[2] \\left(\\beta \\left(\\frac{\\alpha k[2]^{\\alpha}}{k[2]} - \\delta + 1\\right)\\right)^{\\frac{1}{\\theta}}}{g + 1} + c[3]\\\\k[3] - \\frac{- c[3] + k[2] \\left(1 - \\delta\\right) + k[2]^{\\alpha}}{\\left(g + 1\\right) \\left(n + 1\\right)} & - \\frac{c[3] \\left(\\beta \\left(\\frac{\\alpha k[3]^{\\alpha}}{k[3]} - \\delta + 1\\right)\\right)^{\\frac{1}{\\theta}}}{g + 1} + c[4]\\end{matrix}\\right]$"
      ],
      "text/plain": [
       "⎡                                                    _____________________    \n",
       "⎢                                                   ╱   ⎛      α        ⎞     \n",
       "⎢                                                  ╱    ⎜α⋅k[1]         ⎟     \n",
       "⎢                                  α    c[1]⋅theta╱   β⋅⎜─────── - δ + 1⎟     \n",
       "⎢       -c[1] + k[0]⋅(1 - δ) + k[0]             ╲╱      ⎝  k[1]         ⎠     \n",
       "⎢k[1] - ────────────────────────────  - ────────────────────────────────── + c\n",
       "⎢             (g + 1)⋅(n + 1)                         g + 1                   \n",
       "⎢                                                                             \n",
       "⎢                                                    _____________________    \n",
       "⎢                                                   ╱   ⎛      α        ⎞     \n",
       "⎢                                                  ╱    ⎜α⋅k[2]         ⎟     \n",
       "⎢                                  α    c[2]⋅theta╱   β⋅⎜─────── - δ + 1⎟     \n",
       "⎢       -c[2] + k[1]⋅(1 - δ) + k[1]             ╲╱      ⎝  k[2]         ⎠     \n",
       "⎢k[2] - ────────────────────────────  - ────────────────────────────────── + c\n",
       "⎢             (g + 1)⋅(n + 1)                         g + 1                   \n",
       "⎢                                                                             \n",
       "⎢                                                    _____________________    \n",
       "⎢                                                   ╱   ⎛      α        ⎞     \n",
       "⎢                                                  ╱    ⎜α⋅k[3]         ⎟     \n",
       "⎢                                  α    c[3]⋅theta╱   β⋅⎜─────── - δ + 1⎟     \n",
       "⎢       -c[3] + k[2]⋅(1 - δ) + k[2]             ╲╱      ⎝  k[3]         ⎠     \n",
       "⎢k[3] - ────────────────────────────  - ────────────────────────────────── + c\n",
       "⎣             (g + 1)⋅(n + 1)                         g + 1                   \n",
       "\n",
       "   ⎤\n",
       "   ⎥\n",
       "   ⎥\n",
       "   ⎥\n",
       "   ⎥\n",
       "[2]⎥\n",
       "   ⎥\n",
       "   ⎥\n",
       "   ⎥\n",
       "   ⎥\n",
       "   ⎥\n",
       "   ⎥\n",
       "   ⎥\n",
       "[3]⎥\n",
       "   ⎥\n",
       "   ⎥\n",
       "   ⎥\n",
       "   ⎥\n",
       "   ⎥\n",
       "   ⎥\n",
       "   ⎥\n",
       "[4]⎥\n",
       "   ⎦"
      ]
     },
     "execution_count": 17,
     "metadata": {},
     "output_type": "execute_result"
    }
   ],
   "source": [
    "eqm = sp.Matrix([[EK.subs({k0: k[i], k1: k[i+1], c0: c[i+1], c1: c[i+2]}),\n",
    "                  EC.subs({k0: k[i], k1: k[i+1], c0: c[i+1], c1: c[i+2]})] \n",
    "                  for i in range(T)])\n",
    "eqm[:3, :]"
   ]
  },
  {
   "cell_type": "markdown",
   "metadata": {},
   "source": [
    "行列形式では `fsolve` に入れられないようなので，列を積んだベクトルに変換する。"
   ]
  },
  {
   "cell_type": "code",
   "execution_count": 19,
   "metadata": {},
   "outputs": [
    {
     "data": {
      "text/latex": [
       "$\\displaystyle \\left[\\begin{matrix}k[78] - \\frac{- c[78] + k[77] \\left(1 - \\delta\\right) + k[77]^{\\alpha}}{\\left(g + 1\\right) \\left(n + 1\\right)} & - \\frac{c[78] \\left(\\beta \\left(\\frac{\\alpha k[78]^{\\alpha}}{k[78]} - \\delta + 1\\right)\\right)^{\\frac{1}{\\theta}}}{g + 1} + c[79]\\\\k[79] - \\frac{- c[79] + k[78] \\left(1 - \\delta\\right) + k[78]^{\\alpha}}{\\left(g + 1\\right) \\left(n + 1\\right)} & - \\frac{c[79] \\left(\\beta \\left(\\frac{\\alpha k[79]^{\\alpha}}{k[79]} - \\delta + 1\\right)\\right)^{\\frac{1}{\\theta}}}{g + 1} + c[80]\\\\k[80] - \\frac{- c[80] + k[79] \\left(1 - \\delta\\right) + k[79]^{\\alpha}}{\\left(g + 1\\right) \\left(n + 1\\right)} & - \\frac{c[80] \\left(\\beta \\left(\\frac{\\alpha k[80]^{\\alpha}}{k[80]} - \\delta + 1\\right)\\right)^{\\frac{1}{\\theta}}}{g + 1} + c[81]\\end{matrix}\\right]$"
      ],
      "text/plain": [
       "⎡                                                         ____________________\n",
       "⎢                                                        ╱   ⎛       α        \n",
       "⎢                                                       ╱    ⎜α⋅k[78]         \n",
       "⎢                                      α    c[78]⋅theta╱   β⋅⎜──────── - δ + 1\n",
       "⎢        -c[78] + k[77]⋅(1 - δ) + k[77]              ╲╱      ⎝ k[78]          \n",
       "⎢k[78] - ───────────────────────────────  - ──────────────────────────────────\n",
       "⎢                (g + 1)⋅(n + 1)                           g + 1              \n",
       "⎢                                                                             \n",
       "⎢                                                         ____________________\n",
       "⎢                                                        ╱   ⎛       α        \n",
       "⎢                                                       ╱    ⎜α⋅k[79]         \n",
       "⎢                                      α    c[79]⋅theta╱   β⋅⎜──────── - δ + 1\n",
       "⎢        -c[79] + k[78]⋅(1 - δ) + k[78]              ╲╱      ⎝ k[79]          \n",
       "⎢k[79] - ───────────────────────────────  - ──────────────────────────────────\n",
       "⎢                (g + 1)⋅(n + 1)                           g + 1              \n",
       "⎢                                                                             \n",
       "⎢                                                         ____________________\n",
       "⎢                                                        ╱   ⎛       α        \n",
       "⎢                                                       ╱    ⎜α⋅k[80]         \n",
       "⎢                                      α    c[80]⋅theta╱   β⋅⎜──────── - δ + 1\n",
       "⎢        -c[80] + k[79]⋅(1 - δ) + k[79]              ╲╱      ⎝ k[80]          \n",
       "⎢k[80] - ───────────────────────────────  - ──────────────────────────────────\n",
       "⎣                (g + 1)⋅(n + 1)                           g + 1              \n",
       "\n",
       "__        ⎤\n",
       "⎞         ⎥\n",
       "⎟         ⎥\n",
       "⎟         ⎥\n",
       "⎠         ⎥\n",
       "── + c[79]⎥\n",
       "          ⎥\n",
       "          ⎥\n",
       "__        ⎥\n",
       "⎞         ⎥\n",
       "⎟         ⎥\n",
       "⎟         ⎥\n",
       "⎠         ⎥\n",
       "── + c[80]⎥\n",
       "          ⎥\n",
       "          ⎥\n",
       "__        ⎥\n",
       "⎞         ⎥\n",
       "⎟         ⎥\n",
       "⎟         ⎥\n",
       "⎠         ⎥\n",
       "── + c[81]⎥\n",
       "          ⎦"
      ]
     },
     "execution_count": 19,
     "metadata": {},
     "output_type": "execute_result"
    }
   ],
   "source": [
    "eqm[-3:,:]"
   ]
  },
  {
   "cell_type": "code",
   "execution_count": 20,
   "metadata": {},
   "outputs": [],
   "source": [
    "eqm_col = eqm.T.reshape(2*T, 1)\n",
    "\n",
    "# eqm    # 結果はすごく長い"
   ]
  },
  {
   "cell_type": "markdown",
   "metadata": {},
   "source": [
    "### 解く"
   ]
  },
  {
   "cell_type": "code",
   "execution_count": 23,
   "metadata": {},
   "outputs": [
    {
     "data": {
      "text/plain": [
       "array([ 1.51216965,  2.04597881,  2.58266629,  3.11060762,  3.62252561,\n",
       "        4.11392377,  4.58214743,  5.02579071,  5.44430626,  5.83774031,\n",
       "        6.20654822,  6.55146392,  6.87340613,  7.17341036,  7.45257946,\n",
       "        7.71204749,  7.95295351,  8.17642258,  8.38355227,  8.57540325,\n",
       "        8.75299295,  8.91729159,  9.06921989,  9.20964816,  9.33939632,\n",
       "        9.4592347 ,  9.56988528,  9.67202339,  9.7662796 ,  9.85324177,\n",
       "        9.93345723, 10.007435  , 10.07564793, 10.13853491, 10.19650297,\n",
       "       10.2499293 , 10.29916321, 10.34452801, 10.38632281, 10.42482413,\n",
       "       10.46028755, 10.49294918, 10.52302706, 10.55072245, 10.57622111,\n",
       "       10.59969439, 10.62130031, 10.64118458, 10.65948148, 10.67631472,\n",
       "       10.69179828, 10.70603708, 10.71912771, 10.73115903, 10.74221276,\n",
       "       10.75236403, 10.76168184, 10.77022957, 10.77806533, 10.78524242,\n",
       "       10.79180961, 10.79781152, 10.80328891, 10.80827892, 10.81281533,\n",
       "       10.81692882, 10.82064712, 10.82399522, 10.82699556, 10.82966813,\n",
       "       10.83203061, 10.83409854, 10.83588533, 10.83740243, 10.83865933,\n",
       "       10.83966369, 10.8404213 , 10.84093618, 10.84121056, 10.8412449 ,\n",
       "        0.41216283,  0.50525768,  0.59041383,  0.66831216,  0.73961302,\n",
       "        0.80491901,  0.86477165,  0.9196565 ,  0.97000965,  1.0162239 ,\n",
       "        1.05865404,  1.0976214 ,  1.13341763,  1.16630798,  1.19653408,\n",
       "        1.22431634,  1.24985605,  1.27333721,  1.29492818,  1.31478309,\n",
       "        1.33304316,  1.34983783,  1.36528579,  1.37949595,  1.39256824,\n",
       "        1.40459441,  1.41565871,  1.42583851,  1.4352049 ,  1.4438232 ,\n",
       "        1.45175344,  1.45905079,  1.46576597,  1.47194561,  1.4776326 ,\n",
       "        1.48286636,  1.48768316,  1.49211635,  1.49619662,  1.49995218,\n",
       "        1.50340902,  1.50659102,  1.50952017,  1.5122167 ,  1.51469922,\n",
       "        1.51698487,  1.51908944,  1.52102743,  1.52281223,  1.52445615,\n",
       "        1.52597052,  1.52736579,  1.52865159,  1.52983679,  1.53092956,\n",
       "        1.53193745,  1.5328674 ,  1.53372585,  1.53451871,  1.53525146,\n",
       "        1.53592917,  1.53655654,  1.53713789,  1.53767726,  1.5381784 ,\n",
       "        1.53864478,  1.53907965,  1.53948604,  1.53986679,  1.54022457,\n",
       "        1.54056189,  1.54088113,  1.54118454,  1.54147429,  1.54175243,\n",
       "        1.54202097,  1.54228184,  1.54253693,  1.54278811,  1.54303722])"
      ]
     },
     "execution_count": 23,
     "metadata": {},
     "output_type": "execute_result"
    }
   ],
   "source": [
    "k_init = 1.0\n",
    "\n",
    "eqm_param = eqm_col.subs(params).subs({k[0]: k_init, c[-1]: ss[1]})\n",
    "eqm_param = np.squeeze(eqm_param)\n",
    "eqm_num = sp.lambdify([[*k[1:], *c[1:-1]]], eqm_param)\n",
    "solution = fsolve(eqm_num, x0=np.ones(2*T))\n",
    "solution"
   ]
  },
  {
   "cell_type": "markdown",
   "metadata": {},
   "source": [
    "k と c を分ける。"
   ]
  },
  {
   "cell_type": "code",
   "execution_count": 24,
   "metadata": {},
   "outputs": [
    {
     "data": {
      "text/plain": [
       "(array([ 1.        ,  1.51216965,  2.04597881,  2.58266629,  3.11060762,\n",
       "         3.62252561,  4.11392377,  4.58214743,  5.02579071,  5.44430626,\n",
       "         5.83774031,  6.20654822,  6.55146392,  6.87340613,  7.17341036,\n",
       "         7.45257946,  7.71204749,  7.95295351,  8.17642258,  8.38355227,\n",
       "         8.57540325,  8.75299295,  8.91729159,  9.06921989,  9.20964816,\n",
       "         9.33939632,  9.4592347 ,  9.56988528,  9.67202339,  9.7662796 ,\n",
       "         9.85324177,  9.93345723, 10.007435  , 10.07564793, 10.13853491,\n",
       "        10.19650297, 10.2499293 , 10.29916321, 10.34452801, 10.38632281,\n",
       "        10.42482413, 10.46028755, 10.49294918, 10.52302706, 10.55072245,\n",
       "        10.57622111, 10.59969439, 10.62130031, 10.64118458, 10.65948148,\n",
       "        10.67631472, 10.69179828, 10.70603708, 10.71912771, 10.73115903,\n",
       "        10.74221276, 10.75236403, 10.76168184, 10.77022957, 10.77806533,\n",
       "        10.78524242, 10.79180961, 10.79781152, 10.80328891, 10.80827892,\n",
       "        10.81281533, 10.81692882, 10.82064712, 10.82399522, 10.82699556,\n",
       "        10.82966813, 10.83203061, 10.83409854, 10.83588533, 10.83740243,\n",
       "        10.83865933, 10.83966369, 10.8404213 , 10.84093618, 10.84121056,\n",
       "        10.8412449 ]),\n",
       " array([0.41216283, 0.50525768, 0.59041383, 0.66831216, 0.73961302,\n",
       "        0.80491901, 0.86477165, 0.9196565 , 0.97000965, 1.0162239 ,\n",
       "        1.05865404, 1.0976214 , 1.13341763, 1.16630798, 1.19653408,\n",
       "        1.22431634, 1.24985605, 1.27333721, 1.29492818, 1.31478309,\n",
       "        1.33304316, 1.34983783, 1.36528579, 1.37949595, 1.39256824,\n",
       "        1.40459441, 1.41565871, 1.42583851, 1.4352049 , 1.4438232 ,\n",
       "        1.45175344, 1.45905079, 1.46576597, 1.47194561, 1.4776326 ,\n",
       "        1.48286636, 1.48768316, 1.49211635, 1.49619662, 1.49995218,\n",
       "        1.50340902, 1.50659102, 1.50952017, 1.5122167 , 1.51469922,\n",
       "        1.51698487, 1.51908944, 1.52102743, 1.52281223, 1.52445615,\n",
       "        1.52597052, 1.52736579, 1.52865159, 1.52983679, 1.53092956,\n",
       "        1.53193745, 1.5328674 , 1.53372585, 1.53451871, 1.53525146,\n",
       "        1.53592917, 1.53655654, 1.53713789, 1.53767726, 1.5381784 ,\n",
       "        1.53864478, 1.53907965, 1.53948604, 1.53986679, 1.54022457,\n",
       "        1.54056189, 1.54088113, 1.54118454, 1.54147429, 1.54175243,\n",
       "        1.54202097, 1.54228184, 1.54253693, 1.54278811, 1.54303722,\n",
       "        1.54328611]))"
      ]
     },
     "execution_count": 24,
     "metadata": {},
     "output_type": "execute_result"
    }
   ],
   "source": [
    "k_sol = np.r_[k_init, solution[:T]]\n",
    "c_sol = np.r_[solution[T:], ss[1]]\n",
    "k_sol, c_sol"
   ]
  },
  {
   "cell_type": "markdown",
   "metadata": {},
   "source": [
    "## Step 3. 可視化\n",
    "\n",
    "2次元ベクトルの時系列は位相図を使って描くとわかりやすい。横軸に $k_t$, 縦軸に $c_{t+1}$ を取ると次のようになる。"
   ]
  },
  {
   "cell_type": "code",
   "execution_count": 25,
   "metadata": {},
   "outputs": [
    {
     "data": {
      "image/png": "[encoded data removed]",
      "text/plain": [
       "<Figure size 432x288 with 1 Axes>"
      ]
     },
     "metadata": {
      "needs_background": "light"
     },
     "output_type": "display_data"
    }
   ],
   "source": [
    "plt.quiver(k_sol[:-1], c_sol[:-1], \n",
    "           k_sol[1:] - k_sol[:-1], \n",
    "           c_sol[1:] - c_sol[:-1],\n",
    "           scale_units='xy', angles='xy', scale=1)\n",
    "\n",
    "plt.xlabel(r\"$k_{t}$\")\n",
    "plt.ylabel(r\"$c_{t+1}$\")\n",
    "plt.show()"
   ]
  },
  {
   "cell_type": "markdown",
   "metadata": {},
   "source": [
    "## Step 4. 一連の作業を関数にまとめる\n",
    "\n",
    "うまく行ったようだ。繰り返し実行したいひとまとまりの作業を関数にまとめておこう。"
   ]
  },
  {
   "cell_type": "code",
   "execution_count": 26,
   "metadata": {},
   "outputs": [],
   "source": [
    "def solve_ss(eqm_k, eqm_c, param, x0):\n",
    "    c, k = sp.symbols(\"c, k\")\n",
    "    eqm = sp.Matrix([eqm_k.subs({k0: k, k1: k, c0: c, c1: c}),\n",
    "                     eqm_c.subs({k0: k, k1: k, c0: c, c1: c})])\n",
    "    \n",
    "    eqm_lam = sp.lambdify([[k, c]], np.squeeze(eqm.subs(params)))\n",
    "    J_lam = sp.lambdify([[k, c]], eqm.jacobian([k, c]).subs(params))\n",
    "    \n",
    "    ss = fsolve(func=eqm_lam, x0=x0, fprime=J_lam)\n",
    "    return ss"
   ]
  },
  {
   "cell_type": "code",
   "execution_count": 27,
   "metadata": {},
   "outputs": [],
   "source": [
    "def solve_optimal_growth(eqm_k, eqm_c, k_init, c_final, param, T):\n",
    "    \n",
    "    c = sp.symbols(f\"c[:{T+2}]\")\n",
    "    k = sp.symbols(f\"k[:{T+1}]\")\n",
    "    eqm = sp.Matrix([[eqm_k.subs({k0: k[i], k1: k[i+1], c0: c[i+1], c1: c[i+2]}),\n",
    "                      eqm_c.subs({k0: k[i], k1: k[i+1], c0: c[i+1], c1: c[i+2]})] \n",
    "                      for i in range(T)])\n",
    "    eqm_col = eqm.T.reshape(2*T, 1)\n",
    "    \n",
    "    eqm_param = eqm_col.subs(param).subs({k[0]: k_init, c[-1]: c_final})\n",
    "    eqm_param = np.squeeze(eqm_param)\n",
    "    \n",
    "    eqm_num = sp.lambdify([[*k[1:], *c[1:-1]]], eqm_param)\n",
    "    solution = fsolve(eqm_num, x0=np.ones(2*T))\n",
    "    \n",
    "    k_sol = np.r_[k_init, solution[:T]]\n",
    "    c_sol = np.r_[solution[T:], c_final]\n",
    "    \n",
    "    return (k_sol, c_sol)"
   ]
  },
  {
   "cell_type": "code",
   "execution_count": 28,
   "metadata": {},
   "outputs": [
    {
     "data": {
      "image/png": "[encoded data removed]",
      "text/latex": [
       "$\\displaystyle \\left\\{ \\alpha : 0.33, \\  \\beta : 0.98, \\  \\delta : 0.03, \\  g : 0.02, \\  n : 0.01, \\  \\theta : 0.8\\right\\}$"
      ],
      "text/plain": [
       "{α: 0.33, β: 0.98, δ: 0.03, g: 0.02, n: 0.01, θ: 0.8}"
      ]
     },
     "execution_count": 28,
     "metadata": {},
     "output_type": "execute_result"
    }
   ],
   "source": [
    "params"
   ]
  },
  {
   "cell_type": "code",
   "execution_count": 29,
   "metadata": {},
   "outputs": [
    {
     "data": {
      "text/plain": [
       "array([10.87371171,  1.54328611])"
      ]
     },
     "execution_count": 29,
     "metadata": {},
     "output_type": "execute_result"
    }
   ],
   "source": [
    "ss1 = solve_ss(EK, EC, params, x0=[4, 4])\n",
    "ss1"
   ]
  },
  {
   "cell_type": "code",
   "execution_count": 30,
   "metadata": {},
   "outputs": [
    {
     "data": {
      "text/plain": [
       "(array([ 1.        ,  1.51216965,  2.04597881,  2.58266629,  3.11060762,\n",
       "         3.62252561,  4.11392377,  4.58214743,  5.02579071,  5.44430626,\n",
       "         5.83774031,  6.20654822,  6.55146392,  6.87340613,  7.17341036,\n",
       "         7.45257946,  7.71204749,  7.95295351,  8.17642258,  8.38355227,\n",
       "         8.57540325,  8.75299295,  8.91729159,  9.06921989,  9.20964816,\n",
       "         9.33939632,  9.4592347 ,  9.56988528,  9.67202339,  9.7662796 ,\n",
       "         9.85324177,  9.93345723, 10.007435  , 10.07564793, 10.13853491,\n",
       "        10.19650297, 10.2499293 , 10.29916321, 10.34452801, 10.38632281,\n",
       "        10.42482413, 10.46028755, 10.49294918, 10.52302706, 10.55072245,\n",
       "        10.57622111, 10.59969439, 10.62130031, 10.64118458, 10.65948148,\n",
       "        10.67631472, 10.69179828, 10.70603708, 10.71912771, 10.73115903,\n",
       "        10.74221276, 10.75236403, 10.76168184, 10.77022957, 10.77806533,\n",
       "        10.78524242, 10.79180961, 10.79781152, 10.80328891, 10.80827892,\n",
       "        10.81281533, 10.81692882, 10.82064712, 10.82399522, 10.82699556,\n",
       "        10.82966813, 10.83203061, 10.83409854, 10.83588533, 10.83740243,\n",
       "        10.83865933, 10.83966369, 10.8404213 , 10.84093618, 10.84121056,\n",
       "        10.8412449 ]),\n",
       " array([0.41216283, 0.50525768, 0.59041383, 0.66831216, 0.73961302,\n",
       "        0.80491901, 0.86477165, 0.9196565 , 0.97000965, 1.0162239 ,\n",
       "        1.05865404, 1.0976214 , 1.13341763, 1.16630798, 1.19653408,\n",
       "        1.22431634, 1.24985605, 1.27333721, 1.29492818, 1.31478309,\n",
       "        1.33304316, 1.34983783, 1.36528579, 1.37949595, 1.39256824,\n",
       "        1.40459441, 1.41565871, 1.42583851, 1.4352049 , 1.4438232 ,\n",
       "        1.45175344, 1.45905079, 1.46576597, 1.47194561, 1.4776326 ,\n",
       "        1.48286636, 1.48768316, 1.49211635, 1.49619662, 1.49995218,\n",
       "        1.50340902, 1.50659102, 1.50952017, 1.5122167 , 1.51469922,\n",
       "        1.51698487, 1.51908944, 1.52102743, 1.52281223, 1.52445615,\n",
       "        1.52597052, 1.52736579, 1.52865159, 1.52983679, 1.53092956,\n",
       "        1.53193745, 1.5328674 , 1.53372585, 1.53451871, 1.53525146,\n",
       "        1.53592917, 1.53655654, 1.53713789, 1.53767726, 1.5381784 ,\n",
       "        1.53864478, 1.53907965, 1.53948604, 1.53986679, 1.54022457,\n",
       "        1.54056189, 1.54088113, 1.54118454, 1.54147429, 1.54175243,\n",
       "        1.54202097, 1.54228184, 1.54253693, 1.54278811, 1.54303722,\n",
       "        1.54328611]))"
      ]
     },
     "execution_count": 30,
     "metadata": {},
     "output_type": "execute_result"
    }
   ],
   "source": [
    "solve_optimal_growth(EK,EC, 1.0, ss1[1], params, 80)"
   ]
  },
  {
   "cell_type": "markdown",
   "metadata": {},
   "source": [
    "## Step 5. 比較動学分析\n",
    "\n",
    "例えば，次のようなシナリオを考えよう。\n",
    "\n",
    "- 元のパラメータに対する定常状態にある経済を考える。\n",
    "- 突然，$g$ が 0.02 から 0.03 に上昇した。\n"
   ]
  },
  {
   "cell_type": "code",
   "execution_count": 33,
   "metadata": {},
   "outputs": [],
   "source": [
    "params.update({g: 0.03})\n",
    "ss2 = solve_ss(EK, EC, params, x0=[4, 4])\n",
    "sol2 = solve_optimal_growth(EK, EC, ss1[0], ss2[1], params, 80)"
   ]
  },
  {
   "cell_type": "code",
   "execution_count": 34,
   "metadata": {},
   "outputs": [
    {
     "data": {
      "image/png": "[encoded data removed]",
      "text/plain": [
       "<Figure size 432x288 with 1 Axes>"
      ]
     },
     "metadata": {
      "needs_background": "light"
     },
     "output_type": "display_data"
    }
   ],
   "source": [
    "k_sol2 = np.r_[ss1[0], sol2[0]]    # 当初 ss1 にいる経済を考えていることに注意\n",
    "c_sol2 = np.r_[ss1[1], sol2[1]]\n",
    "\n",
    "plt.quiver(k_sol2[:-1], c_sol2[:-1], \n",
    "           k_sol2[1:] - k_sol2[:-1], \n",
    "           c_sol2[1:] - c_sol2[:-1],\n",
    "           scale_units='xy', angles='xy', scale=1)\n",
    "\n",
    "plt.xlabel(r\"$k_{t}$\")\n",
    "plt.ylabel(r\"$c_{t+1}$\")\n",
    "plt.show()"
   ]
  },
  {
   "cell_type": "markdown",
   "metadata": {},
   "source": [
    "$g$ が突然増加すると，\n",
    "\n",
    "- 資本（効率労働あたり）は緩やかに減少する\n",
    "- 消費（効率労働あたり）は瞬間的に増えて，徐々に減少しはじめる。\n",
    "\n",
    "このような突然の消費の変化は，貯蓄率の変化を除いて，ソローモデルでは起こらない。ラムゼーモデルでは，成長率の変化によって，効率労働1単位あたりの分け前が将来的にも減少することを織り込んで行動するので，変化が現時点で発生する。\n",
    "\n",
    "このように，**将来的な経済環境の変化を織り込んだ家計の行動分析ができるようになるので，ラムゼーモデルは多くのマクロモデルの基礎理論として使われている**。\n",
    "\n",
    "ここから先の流れを大雑把に言えば，\n",
    "\n",
    "- ラムゼーモデルに内生的な労働供給を組み込んだリアル・ビジネス・サイクルモデル（RBCモデル）\n",
    "- RBCモデルに市場不完全性を組み込んだ種々のニューケインジアンタイプのモデル（DSGEモデル）\n",
    "- 代表的個人の仮定を弱めた，異質な個人からなるニューケインジアンモデル（HANKモデル）\n",
    "\n",
    "のように発展していく。このDSGEモデル, HANKモデルが経済政策分析の主要ツールになっている。\n",
    "\n",
    "\n"
   ]
  },
  {
   "cell_type": "markdown",
   "metadata": {},
   "source": [
    "## **** おわり ****\n",
    "\n",
    "開講当初は，ニューケインジアンのモデルにまで進みたいという思っていたのですが，キリがよくなったので，これで授業は終わりにしたいと思います。あとは引き続き学ぶ意欲のある方が，ご自身で勉強を進めていく方がよい気がしてきました。（すでにだいぶ詰め込んだ気がしますので）\n",
    "\n",
    "この授業の内容では物足りないという人が進んだ内容を学ぶためには，大学院向けの教科書を選ぶことになると思います。以下の2冊＋雑誌の連載をおすすめします。\n",
    "\n",
    "- 蓮見亮 (2020)『動学マクロ経済学へのいざない』日本評論社\n",
    "- 加藤涼 (2006)『現代マクロ経済学講義』東洋経済新報社\n",
    "- 北尾他 (2019-2020) 『経済セミナー』の連載\n",
    "\n"
   ]
  },
  {
   "cell_type": "markdown",
   "metadata": {},
   "source": [
    "## **** アンケート ****\n",
    "\n",
    "回答方法:\n",
    "\n",
    "[x] チェックしている  \n",
    "[ ] チェックしていない\n",
    "\n",
    "### 難易度\n",
    "\n",
    "[ ] 簡単  \n",
    "[ ] 普通  \n",
    "[x] 難しい \n",
    "\n",
    "### トピック\n",
    "\n",
    "[ ] 少ない  \n",
    "[x] 普通  \n",
    "[ ] 多い  \n",
    "\n",
    "### トピックの選択\n",
    "\n",
    "[ ] 悪い  \n",
    "[ ] 普通  \n",
    "[x] 良い  \n",
    "\n",
    "「悪い」を選んだ人は，どのようなトピックを学びたかったですか？:\n",
    "\n",
    "\n",
    "\n",
    "### 授業方法\n",
    "\n",
    "マクロ関連理論を Python でコーディングするという方針について，どういう印象を受けましたか。\n",
    "\n",
    "[ ] Python が難しすぎてマクロ経済理論の勉強に集中できない  \n",
    "[ ] 無  \n",
    "[x] マクロ経済理論をよりよく学ぶことができる  \n",
    "\n",
    "\n",
    "\n",
    "### 感想\n",
    "\n",
    "\n"
   ]
  },
  {
   "cell_type": "markdown",
   "metadata": {},
   "source": [
    "これまでコマンドプロンプトで勉強していたので、jupiter notebookやipythonの使い方を知ることができてよかったです（今後もjupiter notebookを使って勉強していきます。）\n",
    "これまでのマクロ経済学の復習に加え新たなモデルをpythonを使いながら学ぶことができ、紙とペンで学ぶより意欲的に取り組めたと感じています。\n",
    "私は個人的にkaggleを通して機械学習の勉強をしています。マネジメント学類ではpythonを扱う機会がないのでpythonを用いた授業を非常に楽しみにしていました。今後も学ぶ機会があれば参加したいと思っています。\n",
    "半期の間ありがとうございました。\n",
    "\n",
    "\n"
   ]
  }
 ],
 "metadata": {
  "kernelspec": {
   "display_name": "Python 3",
   "language": "python",
   "name": "python3"
  },
  "language_info": {
   "codemirror_mode": {
    "name": "ipython",
    "version": 3
   },
   "file_extension": ".py",
   "mimetype": "text/x-python",
   "name": "python",
   "nbconvert_exporter": "python",
   "pygments_lexer": "ipython3",
   "version": "3.7.7"
  }
 },
 "nbformat": 4,
 "nbformat_minor": 4
}
