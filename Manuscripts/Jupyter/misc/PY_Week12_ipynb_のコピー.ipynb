{
  "nbformat": 4,
  "nbformat_minor": 0,
  "metadata": {
    "kernelspec": {
      "display_name": "Python 3",
      "language": "python",
      "name": "python3"
    },
    "language_info": {
      "codemirror_mode": {
        "name": "ipython",
        "version": 3
      },
      "file_extension": ".py",
      "mimetype": "text/x-python",
      "name": "python",
      "nbconvert_exporter": "python",
      "pygments_lexer": "ipython3",
      "version": "3.7.6"
    },
    "colab": {
      "name": "PY-Week12.ipynb のコピー",
      "provenance": [],
      "collapsed_sections": []
    }
  },
  "cells": [
    {
      "cell_type": "markdown",
      "metadata": {
        "id": "54BexOZIvubM",
        "colab_type": "text"
      },
      "source": [
        "# Week 12: 資料兼課題\n",
        "\n",
        "## 0. この資料の目標\n",
        "\n",
        "### トピック\n",
        "\n",
        "- 最適成長モデル（ラムゼー・モデル）\n",
        "\n",
        "### モデルの概要\n",
        "\n",
        "- 企業の行動はソロー・モデルとほぼ同じ。\n",
        "- 家計は異時点間の最適化問題を解いて消費と貯蓄を決める。\n",
        "\n",
        "\n",
        "#### 企業の行動\n",
        "\n",
        "利潤最大化条件\n",
        "\n",
        "$$\n",
        "\\begin{aligned}\n",
        "\\frac{\\partial F}{\\partial K}(K_{t-1},A_{t-1}L_{t-1}) = f'(k_{t-1}) =r_{t}+\\delta\n",
        "\\end{aligned}\n",
        "$$\n",
        "\n",
        "- $\\delta$: 資本減耗率\n",
        "- $k_t = K_t/(A_t L_t)$: は効率労働当たりの資本。\n",
        "- $r$: 実質利子率\n",
        "\n",
        "これと資本蓄積の方程式が重要。\n",
        "\n",
        "$$\n",
        "K_{t}-K_{t-1}=Y_{t}-C_{t}-\\delta K_{t-1}\n",
        "$$\n",
        "\n",
        "$I = Y - C = S$ は投資。ソローモデルと違って，貯蓄（投資）が内生的に決まる。\n",
        "\n",
        "\n",
        "これを効率労働当たりの変数に書き換えたものが次の方程式。\n",
        "\n",
        "$$\n",
        "k_{t}=\\frac{f(k_{t-1})-c_{t}+(1-\\delta)k_{t-1}}{(1+g)(1+n)}\n",
        "$$\n",
        "\n",
        "\n",
        "\n",
        "#### 家計の行動\n",
        "\n",
        "- $\\bar{c} = C/L$: 1人当たりの消費, \n",
        "- $\\bar{s}$: 1人当たりの貯蓄,  \n",
        "- $w$: 労働所得,  \n",
        "- $\\beta$: 割引因子,  \n",
        "- $n$: 人口成長率,  \n",
        "- $u$: 瞬時効用関数,  \n",
        "- $r$: 実質利子率\n",
        "- $R_t$: 累積実質利子率を人口増加率で調整したもの\n",
        "\n",
        "家計は次の効用最大化問題を解く。\n",
        "\n",
        "$$\n",
        "\\begin{aligned}\n",
        "&\\max\\sum_{t=1}^{\\infty}\\left\\{ \\beta(1+n)\\right\\} ^{t-1}u(\\bar{c}_{t})\\\\\n",
        "&\\text{subject to}\\\\\n",
        "&\\qquad\\sum_{t=1}^{\\infty}\\frac{\\bar{c}_{t}}{1+R_{t}}\\le\\sum_{t=1}^{\\infty}\\frac{w_{t}}{1+R_{t}}+\\bar{s}_{0}\n",
        "\\end{aligned}\n",
        "$$\n",
        "\n",
        "隣り合う2期間について，2期間モデルと同様の最適条件が得られる。\n",
        "\n",
        "$$\n",
        "\\frac{u'(\\bar{c}_{t})}{u'(\\bar{c}_{t+1})}=\\beta(1+r_{t+1})\n",
        "$$\n",
        "\n",
        "CRRA効用関数 $u(c) = (c^{1-\\theta}-1) / (1-\\theta)$ を仮定，効率労働あたりの消費 $c_t = C_t / (A_{t-1}L_{t-1})$ に書き直すと次のように変形できる。\n",
        "\n",
        "$$\n",
        "\\frac{c_{t+1}}{c_{t}}\n",
        "=\\frac{\\left\\{ \\beta(1+r_{t+1})\\right\\} ^{1/\\theta}}{1+g}\n",
        "$$\n",
        "\n",
        "\n",
        "#### 均衡\n",
        "\n",
        "市場を通じて企業と家計が結びつく。特に，\n",
        "\n",
        "- 家計が直面する利子率，賃金は企業の生産活動によって決まる\n",
        "- 企業の投資資金は家計の貯蓄によって供給される。\n",
        "\n",
        "ことに注意すると，経済のダイナミクスは以下の方程式で定まることがわかる。\n",
        "\n",
        "\n",
        "$$\n",
        "\\begin{aligned}\n",
        "k_{t} &= \\frac{f(k_{t-1})-c_{t}+(1-\\delta)k_{t-1}}{(1+g)(1+n)}\\\\\n",
        "\\frac{c_{t+1}}{c_{t}}\n",
        "&= \\frac{\\left\\{ \\beta(1+r_{t+1})\\right\\} ^{1/\\theta}}{1+g}\n",
        "\\end{aligned}\n",
        "$$\n",
        "\n",
        "\n",
        "ただし，初期値は $k_0$ が与えられている。\n",
        "\n",
        "\n",
        "### 目標\n",
        "\n",
        "- ラムゼーモデルの数値解法の1つを身につける。\n",
        "- この資料の解法は，蓮見 (2020) 『動学マクロ経済学へのいざない』日本評論社 の2章を参考にした。\n",
        "\n",
        "### 提出方法\n",
        "\n",
        "Teams の課題として提出\n",
        "\n",
        "### 締切\n",
        "\n",
        "8月７日"
      ]
    },
    {
      "cell_type": "markdown",
      "metadata": {
        "id": "0n9jsKJovubO",
        "colab_type": "text"
      },
      "source": [
        "### 準備\n",
        "\n",
        "まず，必要なライブラリをインポートしてください。"
      ]
    },
    {
      "cell_type": "code",
      "metadata": {
        "id": "LB03YfIcvubP",
        "colab_type": "code",
        "colab": {}
      },
      "source": [
        "import numpy as np\n",
        "from scipy.optimize import fsolve\n",
        "import matplotlib.pyplot as plt\n",
        "import sympy as sp\n",
        "sp.init_printing()"
      ],
      "execution_count": null,
      "outputs": []
    },
    {
      "cell_type": "markdown",
      "metadata": {
        "id": "KYaw8CewvubT",
        "colab_type": "text"
      },
      "source": [
        "## 考え方\n",
        "\n",
        "- 初期値の数が足りないので普通のシミュレーションの方法は使えない。\n",
        "- 終端条件（横断性条件）が最適性により定まるので，それを使う。\n",
        "\n",
        "次の連立方程式を解くことを考える。\n",
        "\n",
        "$$\n",
        "\\begin{align}\n",
        "k_{1} =\\frac{f(k_{0})-c_{1}+(1-\\delta)k_{0}}{(1+g)(1+n)},\n",
        "&\\quad \n",
        "c_{2} =\\frac{c_{1}\\left[\\beta\\left\\{ f'(k_{0})+1-\\delta\\right\\} \\right]^{1/\\theta}}{1+g}\n",
        "\\\\\n",
        "k_{2} =\\frac{f(k_{1})-c_{2}+(1-\\delta)k_{1}}{(1+g)(1+n)}, \n",
        "&\\quad\n",
        "c_{3} =\\frac{c_{2}\\left[\\beta\\left\\{ f'(k_{1})+1-\\delta\\right\\} \\right]^{1/\\theta}}{1+g}\n",
        "\\\\\n",
        "k_{3} =\\frac{f(k_{2})-c_{3}+(1-\\delta)k_{2}}{(1+g)(1+n)},\n",
        "&\\quad \n",
        "c_{4} =\\frac{c_{3}\\left[\\beta\\left\\{ f'(k_{2})+1-\\delta\\right\\} \\right]^{1/\\theta}}{1+g}\n",
        "\\\\\n",
        "\\qquad \\vdots\\\\\n",
        "k_{T} = \\frac{f(k_{T-1})-c_{T}+(1-\\delta)k_{T-1}}{(1+g)(1+n)}\n",
        "&\\quad \n",
        "c_{T+1} = \\frac{c_{T}\\left[\\beta\\left\\{ f'(k_{T})+1-\\delta\\right\\} \\right]^{1/\\theta}}{1+g}\n",
        "\\end{align}\n",
        "$$\n",
        "\n",
        "$k$, $c$ は $2T+2$個，方程式は $2T$ 個ある。$k_0$ は所与，$c_{T+1}$ は定常状態の値 $c^*$ で定めてやれば，未知数 $2T$個の $2T$本の連立方程式になるので，解くことができる。\n"
      ]
    },
    {
      "cell_type": "markdown",
      "metadata": {
        "id": "3ls8CkpyvubU",
        "colab_type": "text"
      },
      "source": [
        "## Step 1. 定常状態を求める\n",
        "\n",
        "定常状態 $(k^*, c^*)$ は次の方程式を満たす。\n",
        "\n",
        "$$\n",
        "k^* =\\frac{f(k^*)-c^*+(1-\\delta)k^*}{(1+g)(1+n)},\n",
        "\\quad \n",
        "c^* =\\frac{c^*\\left[\\beta\\left\\{ f'(k^*)+1-\\delta\\right\\} \\right]^{1/\\theta}}{1+g}\n",
        "$$\n",
        "\n",
        "### シンボルの定義\n",
        "\n",
        "まずは定常状態を求めよう。必要なシンボルを導入する。"
      ]
    },
    {
      "cell_type": "code",
      "metadata": {
        "id": "wHKSJha1vubV",
        "colab_type": "code",
        "colab": {}
      },
      "source": [
        "k1, k0, c1, c0, g, n = sp.symbols(\"k1,k0,c1,c0,g,n\")\n",
        "alpha, beta, delta, theta = sp.symbols(\"alpha beta delta theta\")"
      ],
      "execution_count": null,
      "outputs": []
    },
    {
      "cell_type": "markdown",
      "metadata": {
        "id": "4sy8Q7KTvubZ",
        "colab_type": "text"
      },
      "source": [
        "生産関数はコブダグラス型とする。"
      ]
    },
    {
      "cell_type": "code",
      "metadata": {
        "id": "HYn2XoKIvuba",
        "colab_type": "code",
        "colab": {
          "base_uri": "https://localhost:8080/",
          "height": 38
        },
        "outputId": "892a4476-6f17-43f6-a469-95249ea86440"
      },
      "source": [
        "f = sp.Lambda(k0, k0**alpha)\n",
        "f(k0)"
      ],
      "execution_count": null,
      "outputs": [
        {
          "output_type": "execute_result",
          "data": {
            "image/png": "[encoded data removed]",
            "text/latex": "$$k_{0}^{\\alpha}$$",
            "text/plain": [
              "  α\n",
              "k₀ "
            ]
          },
          "metadata": {
            "tags": []
          },
          "execution_count": 3
        }
      ]
    },
    {
      "cell_type": "markdown",
      "metadata": {
        "id": "bW5GzrFwvubf",
        "colab_type": "text"
      },
      "source": [
        "### 動学方程式をシンボリックに表現する\n",
        "\n",
        "資本蓄積方程式に関連する均衡条件を次のように定義する。"
      ]
    },
    {
      "cell_type": "code",
      "metadata": {
        "id": "7sK7Mh4Nvubf",
        "colab_type": "code",
        "colab": {
          "base_uri": "https://localhost:8080/",
          "height": 44
        },
        "outputId": "1aede454-b3a8-48d2-aa9c-5887783d2c84"
      },
      "source": [
        "EK = k1 - (f(k0) - c0 + (1 - delta) * k0) / (1+g) / (1+n)\n",
        "EK"
      ],
      "execution_count": null,
      "outputs": [
        {
          "output_type": "execute_result",
          "data": {
            "image/png": "[encoded data removed]",
            "text/latex": "$$k_{1} - \\frac{- c_{0} + k_{0} \\left(- \\delta + 1\\right) + k_{0}^{\\alpha}}{\\left(g + 1\\right) \\left(n + 1\\right)}$$",
            "text/plain": [
              "                           α\n",
              "     -c₀ + k₀⋅(-δ + 1) + k₀ \n",
              "k₁ - ───────────────────────\n",
              "         (g + 1)⋅(n + 1)    "
            ]
          },
          "metadata": {
            "tags": []
          },
          "execution_count": 4
        }
      ]
    },
    {
      "cell_type": "markdown",
      "metadata": {
        "id": "chvet-fLvubj",
        "colab_type": "text"
      },
      "source": [
        "オイラー条件（最適消費の条件）に対応する均衡条件を次のように定義する。"
      ]
    },
    {
      "cell_type": "code",
      "metadata": {
        "id": "6_3MMf3lvubj",
        "colab_type": "code",
        "colab": {
          "base_uri": "https://localhost:8080/",
          "height": 53
        },
        "outputId": "9c891bb2-367b-4be5-8d5b-8c0ae8872bb6"
      },
      "source": [
        "EC = c1 - c0 * (beta * (f(k1).diff(k1) + 1 - delta)) ** (1 / theta) / (1 + g)\n",
        "EC"
      ],
      "execution_count": null,
      "outputs": [
        {
          "output_type": "execute_result",
          "data": {
            "image/png": "[encoded data removed]",
            "text/latex": "$$- \\frac{c_{0}}{g + 1} \\left(\\beta \\left(\\frac{\\alpha k_{1}^{\\alpha}}{k_{1}} - \\delta + 1\\right)\\right)^{\\frac{1}{\\theta}} + c_{1}$$",
            "text/plain": [
              "             ___________________     \n",
              "            ╱   ⎛    α        ⎞      \n",
              "           ╱    ⎜α⋅k₁         ⎟      \n",
              "  c₀⋅theta╱   β⋅⎜───── - δ + 1⎟      \n",
              "        ╲╱      ⎝  k₁         ⎠      \n",
              "- ────────────────────────────── + c₁\n",
              "              g + 1                  "
            ]
          },
          "metadata": {
            "tags": []
          },
          "execution_count": 5
        }
      ]
    },
    {
      "cell_type": "markdown",
      "metadata": {
        "id": "7qJA3sy5vubo",
        "colab_type": "text"
      },
      "source": [
        "### 定常状態の方程式をシンボリックに表現する\n",
        "\n",
        "\n",
        "`k1 == k0`, `c1 == c0` となるのが定常状態。これを行列形式（列ベクトル）で表現しておきます。これがゼロになる"
      ]
    },
    {
      "cell_type": "code",
      "metadata": {
        "id": "vJo95GM6vubo",
        "colab_type": "code",
        "colab": {
          "base_uri": "https://localhost:8080/",
          "height": 80
        },
        "outputId": "5bbf14f4-7444-4c6b-ea09-3cc678325389"
      },
      "source": [
        "E = sp.Matrix([EK, EC]).subs({k1: k0, c1: c0})\n",
        "E"
      ],
      "execution_count": null,
      "outputs": [
        {
          "output_type": "execute_result",
          "data": {
            "text/latex": "$$\\left[\\begin{matrix}k_{0} - \\frac{- c_{0} + k_{0} \\left(- \\delta + 1\\right) + k_{0}^{\\alpha}}{\\left(g + 1\\right) \\left(n + 1\\right)}\\\\- \\frac{c_{0}}{g + 1} \\left(\\beta \\left(\\frac{\\alpha k_{0}^{\\alpha}}{k_{0}} - \\delta + 1\\right)\\right)^{\\frac{1}{\\theta}} + c_{0}\\end{matrix}\\right]$$",
            "text/plain": [
              "⎡                               α     ⎤\n",
              "⎢         -c₀ + k₀⋅(-δ + 1) + k₀      ⎥\n",
              "⎢    k₀ - ───────────────────────     ⎥\n",
              "⎢             (g + 1)⋅(n + 1)         ⎥\n",
              "⎢                                     ⎥\n",
              "⎢             ___________________     ⎥\n",
              "⎢            ╱   ⎛    α        ⎞      ⎥\n",
              "⎢           ╱    ⎜α⋅k₀         ⎟      ⎥\n",
              "⎢  c₀⋅theta╱   β⋅⎜───── - δ + 1⎟      ⎥\n",
              "⎢        ╲╱      ⎝  k₀         ⎠      ⎥\n",
              "⎢- ────────────────────────────── + c₀⎥\n",
              "⎣              g + 1                  ⎦"
            ]
          },
          "metadata": {
            "tags": []
          },
          "execution_count": 6
        }
      ]
    },
    {
      "cell_type": "markdown",
      "metadata": {
        "id": "mZFDIw0hvubs",
        "colab_type": "text"
      },
      "source": [
        "### パラメータを代入して解を求める"
      ]
    },
    {
      "cell_type": "code",
      "metadata": {
        "id": "hArOnfk6vubt",
        "colab_type": "code",
        "colab": {}
      },
      "source": [
        "params = {\n",
        "    alpha: 0.33,\n",
        "    delta: 0.03,\n",
        "    g: 0.02,\n",
        "    n: 0.01,\n",
        "    theta: 0.8,\n",
        "    beta: 0.98\n",
        "}"
      ],
      "execution_count": null,
      "outputs": []
    },
    {
      "cell_type": "markdown",
      "metadata": {
        "id": "fHDpaRwlvubw",
        "colab_type": "text"
      },
      "source": [
        "数値関数に変換する。"
      ]
    },
    {
      "cell_type": "code",
      "metadata": {
        "id": "pPjbLp9hvubx",
        "colab_type": "code",
        "colab": {}
      },
      "source": [
        "E_lam = sp.lambdify([[k0, c0]], np.squeeze(E.subs(params)))\n",
        "J_lam = sp.lambdify([[k0, c0]], E.jacobian([k0, c0]).subs(params))"
      ],
      "execution_count": null,
      "outputs": []
    },
    {
      "cell_type": "markdown",
      "metadata": {
        "id": "k-xPDvezvub0",
        "colab_type": "text"
      },
      "source": [
        "解く。"
      ]
    },
    {
      "cell_type": "code",
      "metadata": {
        "id": "QScuXr6Dvub0",
        "colab_type": "code",
        "colab": {
          "base_uri": "https://localhost:8080/",
          "height": 34
        },
        "outputId": "7a0ccc5f-1101-4cc7-9066-7e3d8d1a34ff"
      },
      "source": [
        "ss = fsolve(func=E_lam, x0=[4, 4], fprime=J_lam)\n",
        "ss"
      ],
      "execution_count": null,
      "outputs": [
        {
          "output_type": "execute_result",
          "data": {
            "text/plain": [
              "array([10.87371171,  1.54328611])"
            ]
          },
          "metadata": {
            "tags": []
          },
          "execution_count": 9
        }
      ]
    },
    {
      "cell_type": "markdown",
      "metadata": {
        "id": "yNSCfLNRvub3",
        "colab_type": "text"
      },
      "source": [
        "## Step 2. 均衡経路を求める\n",
        "\n",
        "### 準備\n",
        "\n",
        "シンボルを一度にたくさん作る方法を覚えておくと便利である。"
      ]
    },
    {
      "cell_type": "code",
      "metadata": {
        "id": "CwRlSZPyvub5",
        "colab_type": "code",
        "colab": {
          "base_uri": "https://localhost:8080/",
          "height": 38
        },
        "outputId": "baefc459-7e83-42b5-c693-de083932ca5d"
      },
      "source": [
        "x = sp.symbols(\"x[:10]\")\n",
        "x"
      ],
      "execution_count": null,
      "outputs": [
        {
          "output_type": "execute_result",
          "data": {
            "image/png": "[encoded data removed]",
            "text/latex": "$$\\left ( x[0], \\quad x[1], \\quad x[2], \\quad x[3], \\quad x[4], \\quad x[5], \\quad x[6], \\quad x[7], \\quad x[8], \\quad x[9]\\right )$$",
            "text/plain": [
              "(x[0], x[1], x[2], x[3], x[4], x[5], x[6], x[7], x[8], x[9])"
            ]
          },
          "metadata": {
            "tags": []
          },
          "execution_count": 10
        }
      ]
    },
    {
      "cell_type": "code",
      "metadata": {
        "id": "cdkFc56Tvub8",
        "colab_type": "code",
        "colab": {
          "base_uri": "https://localhost:8080/",
          "height": 38
        },
        "outputId": "ebce8c89-defd-43af-f01c-007e0eff596a"
      },
      "source": [
        "x[4]"
      ],
      "execution_count": null,
      "outputs": [
        {
          "output_type": "execute_result",
          "data": {
            "image/png": "[encoded data removed]",
            "text/latex": "$$x[4]$$",
            "text/plain": [
              "x[4]"
            ]
          },
          "metadata": {
            "tags": []
          },
          "execution_count": 11
        }
      ]
    },
    {
      "cell_type": "code",
      "metadata": {
        "id": "kTxn3beFvub_",
        "colab_type": "code",
        "colab": {
          "base_uri": "https://localhost:8080/",
          "height": 38
        },
        "outputId": "91de7d7c-c6e5-4662-f40c-113551dcac11"
      },
      "source": [
        "x[-2:]"
      ],
      "execution_count": null,
      "outputs": [
        {
          "output_type": "execute_result",
          "data": {
            "image/png": "[encoded data removed]",
            "text/latex": "$$\\left ( x[8], \\quad x[9]\\right )$$",
            "text/plain": [
              "(x[8], x[9])"
            ]
          },
          "metadata": {
            "tags": []
          },
          "execution_count": 12
        }
      ]
    },
    {
      "cell_type": "markdown",
      "metadata": {
        "id": "5WJbxur5vucE",
        "colab_type": "text"
      },
      "source": [
        "このようにして，シンボルのリストを作ることができる。"
      ]
    },
    {
      "cell_type": "markdown",
      "metadata": {
        "id": "Q-FcfYcsvucE",
        "colab_type": "text"
      },
      "source": [
        "### 変数\n",
        "\n",
        "求める時系列の長さを $T+1$ とすると，必要な変数は\n",
        "\n",
        "- $k_0, k_1, k_2, \\dots, k_T$\n",
        "- $c_1, c_2, c_3, \\dots, c_{T+1}$\n",
        "\n",
        "仮に `T = 80` とすれば，次のように書ける。"
      ]
    },
    {
      "cell_type": "code",
      "metadata": {
        "id": "80PKnzKgvucF",
        "colab_type": "code",
        "colab": {
          "base_uri": "https://localhost:8080/",
          "height": 38
        },
        "outputId": "38ba0564-1830-436a-bd2a-47f1dc512f68"
      },
      "source": [
        "T = 80\n",
        "c = sp.symbols(f\"c[:{T+2}]\")\n",
        "k = sp.symbols(f\"k[:{T+1}]\")\n",
        "\n",
        "c[:3], c[-3:]"
      ],
      "execution_count": null,
      "outputs": [
        {
          "output_type": "execute_result",
          "data": {
            "image/png": "[encoded data removed]",
            "text/latex": "$$\\left ( \\left ( c[0], \\quad c[1], \\quad c[2]\\right ), \\quad \\left ( c[79], \\quad c[80], \\quad c[81]\\right )\\right )$$",
            "text/plain": [
              "((c[0], c[1], c[2]), (c[79], c[80], c[81]))"
            ]
          },
          "metadata": {
            "tags": []
          },
          "execution_count": 13
        }
      ]
    },
    {
      "cell_type": "markdown",
      "metadata": {
        "id": "Uwc1SwU6vucK",
        "colab_type": "text"
      },
      "source": [
        "### 最適経路が満たす方程式\n",
        "\n",
        "これを使って，最適経路が満たすべき均衡条件を定義する。`i = 0, 1, 2, ..., T-1` のそれぞれについて\n",
        "\n",
        "- `k0` → `k[i]`\n",
        "- `k1` → `k[i+1]`\n",
        "- `c0` → `c[i+1]`\n",
        "- `c1` → `c[i+2]`\n",
        "\n",
        "のように設定したものを並べればよい。"
      ]
    },
    {
      "cell_type": "code",
      "metadata": {
        "id": "2CFsFuFWvucK",
        "colab_type": "code",
        "colab": {
          "base_uri": "https://localhost:8080/",
          "height": 126
        },
        "outputId": "8212530a-de61-4d62-b589-c01f52eeebfc"
      },
      "source": [
        "eqm = sp.Matrix([[EK.subs({k0: k[i], k1: k[i+1], c0: c[i+1], c1: c[i+2]}),\n",
        "                  EC.subs({k0: k[i], k1: k[i+1], c0: c[i+1], c1: c[i+2]})] \n",
        "                  for i in range(T)])\n",
        "eqm[:3, :]"
      ],
      "execution_count": null,
      "outputs": [
        {
          "output_type": "execute_result",
          "data": {
            "text/latex": "$$\\left[\\begin{matrix}k[1] - \\frac{- c[1] + k[0] \\left(- \\delta + 1\\right) + k[0]^{\\alpha}}{\\left(g + 1\\right) \\left(n + 1\\right)} & - \\frac{c[1]}{g + 1} \\left(\\beta \\left(\\frac{\\alpha k[1]^{\\alpha}}{k[1]} - \\delta + 1\\right)\\right)^{\\frac{1}{\\theta}} + c[2]\\\\k[2] - \\frac{- c[2] + k[1] \\left(- \\delta + 1\\right) + k[1]^{\\alpha}}{\\left(g + 1\\right) \\left(n + 1\\right)} & - \\frac{c[2]}{g + 1} \\left(\\beta \\left(\\frac{\\alpha k[2]^{\\alpha}}{k[2]} - \\delta + 1\\right)\\right)^{\\frac{1}{\\theta}} + c[3]\\\\k[3] - \\frac{- c[3] + k[2] \\left(- \\delta + 1\\right) + k[2]^{\\alpha}}{\\left(g + 1\\right) \\left(n + 1\\right)} & - \\frac{c[3]}{g + 1} \\left(\\beta \\left(\\frac{\\alpha k[3]^{\\alpha}}{k[3]} - \\delta + 1\\right)\\right)^{\\frac{1}{\\theta}} + c[4]\\end{matrix}\\right]$$",
            "text/plain": [
              "⎡                                                     _____________________   \n",
              "⎢                                                    ╱   ⎛      α        ⎞    \n",
              "⎢                                                   ╱    ⎜α⋅k[1]         ⎟    \n",
              "⎢                                   α    c[1]⋅theta╱   β⋅⎜─────── - δ + 1⎟    \n",
              "⎢       -c[1] + k[0]⋅(-δ + 1) + k[0]             ╲╱      ⎝  k[1]         ⎠    \n",
              "⎢k[1] - ─────────────────────────────  - ────────────────────────────────── + \n",
              "⎢              (g + 1)⋅(n + 1)                         g + 1                  \n",
              "⎢                                                                             \n",
              "⎢                                                     _____________________   \n",
              "⎢                                                    ╱   ⎛      α        ⎞    \n",
              "⎢                                                   ╱    ⎜α⋅k[2]         ⎟    \n",
              "⎢                                   α    c[2]⋅theta╱   β⋅⎜─────── - δ + 1⎟    \n",
              "⎢       -c[2] + k[1]⋅(-δ + 1) + k[1]             ╲╱      ⎝  k[2]         ⎠    \n",
              "⎢k[2] - ─────────────────────────────  - ────────────────────────────────── + \n",
              "⎢              (g + 1)⋅(n + 1)                         g + 1                  \n",
              "⎢                                                                             \n",
              "⎢                                                     _____________________   \n",
              "⎢                                                    ╱   ⎛      α        ⎞    \n",
              "⎢                                                   ╱    ⎜α⋅k[3]         ⎟    \n",
              "⎢                                   α    c[3]⋅theta╱   β⋅⎜─────── - δ + 1⎟    \n",
              "⎢       -c[3] + k[2]⋅(-δ + 1) + k[2]             ╲╱      ⎝  k[3]         ⎠    \n",
              "⎢k[3] - ─────────────────────────────  - ────────────────────────────────── + \n",
              "⎣              (g + 1)⋅(n + 1)                         g + 1                  \n",
              "\n",
              "    ⎤\n",
              "    ⎥\n",
              "    ⎥\n",
              "    ⎥\n",
              "    ⎥\n",
              "c[2]⎥\n",
              "    ⎥\n",
              "    ⎥\n",
              "    ⎥\n",
              "    ⎥\n",
              "    ⎥\n",
              "    ⎥\n",
              "    ⎥\n",
              "c[3]⎥\n",
              "    ⎥\n",
              "    ⎥\n",
              "    ⎥\n",
              "    ⎥\n",
              "    ⎥\n",
              "    ⎥\n",
              "    ⎥\n",
              "c[4]⎥\n",
              "    ⎦"
            ]
          },
          "metadata": {
            "tags": []
          },
          "execution_count": 14
        }
      ]
    },
    {
      "cell_type": "markdown",
      "metadata": {
        "id": "ZMT-D137vucN",
        "colab_type": "text"
      },
      "source": [
        "行列形式では `fsolve` に入れられないようなので，列を積んだベクトルに変換する。"
      ]
    },
    {
      "cell_type": "code",
      "metadata": {
        "id": "9U2r7h99vucO",
        "colab_type": "code",
        "colab": {}
      },
      "source": [
        "eqm_col = eqm.T.reshape(2*T, 1)\n",
        "\n",
        "# eqm    # 結果はすごく長い"
      ],
      "execution_count": null,
      "outputs": []
    },
    {
      "cell_type": "markdown",
      "metadata": {
        "id": "zaYxwkzdvucR",
        "colab_type": "text"
      },
      "source": [
        "### 解く"
      ]
    },
    {
      "cell_type": "code",
      "metadata": {
        "id": "A-tQnjzivucS",
        "colab_type": "code",
        "colab": {}
      },
      "source": [
        "k_init = 1.0\n",
        "\n",
        "eqm_param = eqm_col.subs(params).subs({k[0]: k_init, c[-1]: ss[1]})\n",
        "eqm_param = np.squeeze(eqm_param)\n",
        "eqm_num = sp.lambdify([[*k[1:], *c[1:-1]]], eqm_param)\n",
        "solution = fsolve(eqm_num, x0=np.ones(2*T))"
      ],
      "execution_count": null,
      "outputs": []
    },
    {
      "cell_type": "markdown",
      "metadata": {
        "id": "7dOWwNWsvucU",
        "colab_type": "text"
      },
      "source": [
        "k と c を分ける。"
      ]
    },
    {
      "cell_type": "code",
      "metadata": {
        "id": "Pm4hGpjVvucV",
        "colab_type": "code",
        "colab": {
          "base_uri": "https://localhost:8080/",
          "height": 595
        },
        "outputId": "e05aa23e-d13a-4dee-cb6f-c9d8c2341800"
      },
      "source": [
        "k_sol = np.r_[k_init, solution[:T]]\n",
        "c_sol = np.r_[solution[T:], ss[1]]\n",
        "k_sol, c_sol"
      ],
      "execution_count": null,
      "outputs": [
        {
          "output_type": "execute_result",
          "data": {
            "text/plain": [
              "(array([ 1.        ,  1.51216965,  2.04597881,  2.58266629,  3.11060762,\n",
              "         3.62252561,  4.11392377,  4.58214743,  5.0257907 ,  5.44430626,\n",
              "         5.83774031,  6.20654822,  6.55146393,  6.87340614,  7.17341037,\n",
              "         7.45257946,  7.71204749,  7.95295351,  8.17642258,  8.38355227,\n",
              "         8.57540325,  8.75299296,  8.9172916 ,  9.06921991,  9.20964817,\n",
              "         9.33939633,  9.45923471,  9.56988529,  9.6720234 ,  9.7662796 ,\n",
              "         9.85324177,  9.93345723, 10.00743499, 10.07564793, 10.13853491,\n",
              "        10.19650297, 10.2499293 , 10.2991632 , 10.34452801, 10.38632281,\n",
              "        10.42482413, 10.46028755, 10.49294917, 10.52302704, 10.55072244,\n",
              "        10.5762211 , 10.59969437, 10.6213003 , 10.64118457, 10.65948146,\n",
              "        10.67631471, 10.69179827, 10.70603707, 10.7191277 , 10.73115902,\n",
              "        10.74221276, 10.75236403, 10.76168185, 10.77022958, 10.77806535,\n",
              "        10.78524244, 10.79180963, 10.79781155, 10.80328894, 10.80827894,\n",
              "        10.81281535, 10.81692884, 10.82064713, 10.82399523, 10.82699556,\n",
              "        10.82966811, 10.83203059, 10.83409851, 10.83588529, 10.83740239,\n",
              "        10.83865929, 10.83966364, 10.84042125, 10.84093612, 10.84121051,\n",
              "        10.84124485]),\n",
              " array([0.41216283, 0.50525768, 0.59041383, 0.66831216, 0.73961302,\n",
              "        0.80491901, 0.86477165, 0.9196565 , 0.97000965, 1.0162239 ,\n",
              "        1.05865404, 1.0976214 , 1.13341763, 1.16630798, 1.19653408,\n",
              "        1.22431634, 1.24985605, 1.27333721, 1.29492818, 1.31478309,\n",
              "        1.33304316, 1.34983783, 1.36528579, 1.37949595, 1.39256824,\n",
              "        1.40459441, 1.41565871, 1.42583851, 1.4352049 , 1.4438232 ,\n",
              "        1.45175344, 1.45905079, 1.46576597, 1.47194561, 1.4776326 ,\n",
              "        1.48286636, 1.48768316, 1.49211635, 1.49619662, 1.49995219,\n",
              "        1.50340903, 1.50659103, 1.50952017, 1.5122167 , 1.51469922,\n",
              "        1.51698487, 1.51908944, 1.52102743, 1.52281223, 1.52445615,\n",
              "        1.52597052, 1.52736579, 1.52865159, 1.52983679, 1.53092956,\n",
              "        1.53193744, 1.5328674 , 1.53372584, 1.5345187 , 1.53525146,\n",
              "        1.53592917, 1.53655653, 1.53713789, 1.53767727, 1.5381784 ,\n",
              "        1.53864479, 1.53907966, 1.53948605, 1.5398668 , 1.54022458,\n",
              "        1.5405619 , 1.54088114, 1.54118455, 1.54147429, 1.54175244,\n",
              "        1.54202097, 1.54228184, 1.54253693, 1.54278811, 1.54303722,\n",
              "        1.54328611]))"
            ]
          },
          "metadata": {
            "tags": []
          },
          "execution_count": 17
        }
      ]
    },
    {
      "cell_type": "markdown",
      "metadata": {
        "id": "iYqIXH5WvucX",
        "colab_type": "text"
      },
      "source": [
        "## Step 3. 可視化\n",
        "\n",
        "2次元ベクトルの時系列は位相図を使って描くとわかりやすい。横軸に $k_t$, 縦軸に $c_{t+1}$ を取ると次のようになる。"
      ]
    },
    {
      "cell_type": "code",
      "metadata": {
        "id": "1anLBGI_vucY",
        "colab_type": "code",
        "colab": {
          "base_uri": "https://localhost:8080/",
          "height": 283
        },
        "outputId": "238dcf3e-e798-4b1a-9d83-2bb1d3af52e3"
      },
      "source": [
        "plt.quiver(k_sol[:-1], c_sol[:-1], \n",
        "           k_sol[1:] - k_sol[:-1], \n",
        "           c_sol[1:] - c_sol[:-1],\n",
        "           scale_units='xy', angles='xy', scale=1)\n",
        "\n",
        "plt.xlabel(r\"$k_{t}$\")\n",
        "plt.ylabel(r\"$c_{t+1}$\")\n",
        "plt.show()"
      ],
      "execution_count": null,
      "outputs": [
        {
          "output_type": "display_data",
          "data": {
            "image/png": "[encoded data removed]",
            "text/plain": [
              "<Figure size 432x288 with 1 Axes>"
            ]
          },
          "metadata": {
            "tags": [],
            "needs_background": "light"
          }
        }
      ]
    },
    {
      "cell_type": "markdown",
      "metadata": {
        "id": "Eu7ZIxlXvucb",
        "colab_type": "text"
      },
      "source": [
        "## Step 4. 一連の作業を関数にまとめる\n",
        "\n",
        "うまく行ったようだ。繰り返し実行したいひとまとまりの作業を関数にまとめておこう。"
      ]
    },
    {
      "cell_type": "code",
      "metadata": {
        "id": "JJvpK0uCvucb",
        "colab_type": "code",
        "colab": {}
      },
      "source": [
        "def solve_ss(eqm_k, eqm_c, param, x0):\n",
        "    c, k = sp.symbols(\"c, k\")\n",
        "    eqm = sp.Matrix([eqm_k.subs({k0: k, k1: k, c0: c, c1: c}),\n",
        "                     eqm_c.subs({k0: k, k1: k, c0: c, c1: c})])\n",
        "    \n",
        "    eqm_lam = sp.lambdify([[k, c]], np.squeeze(eqm.subs(param)))\n",
        "    J_lam = sp.lambdify([[k, c]], eqm.jacobian([k, c]).subs(param))\n",
        "    \n",
        "    ss = fsolve(func=eqm_lam, x0=x0, fprime=J_lam)\n",
        "    return ss"
      ],
      "execution_count": null,
      "outputs": []
    },
    {
      "cell_type": "code",
      "metadata": {
        "id": "KzMsrIe3vuce",
        "colab_type": "code",
        "colab": {}
      },
      "source": [
        "def solve_optimal_growth(eqm_k, eqm_c, k_init, c_final, param, T):\n",
        "    \n",
        "    c = sp.symbols(f\"c[:{T+2}]\")\n",
        "    k = sp.symbols(f\"k[:{T+1}]\")\n",
        "    eqm = sp.Matrix([[eqm_k.subs({k0: k[i], k1: k[i+1], c0: c[i+1], c1: c[i+2]}),\n",
        "                      eqm_c.subs({k0: k[i], k1: k[i+1], c0: c[i+1], c1: c[i+2]})] \n",
        "                      for i in range(T)])\n",
        "    eqm_col = eqm.T.reshape(2*T, 1)\n",
        "    \n",
        "    eqm_param = eqm_col.subs(param).subs({k[0]: k_init, c[-1]: c_final})\n",
        "    eqm_param = np.squeeze(eqm_param)\n",
        "    \n",
        "    eqm_num = sp.lambdify([[*k[1:], *c[1:-1]]], eqm_param)\n",
        "    solution = fsolve(eqm_num, x0=np.ones(2*T))\n",
        "    \n",
        "    k_sol = np.r_[k_init, solution[:T]]\n",
        "    c_sol = np.r_[solution[T:], ss[1]]\n",
        "    \n",
        "    return (k_sol, c_sol)"
      ],
      "execution_count": null,
      "outputs": []
    },
    {
      "cell_type": "code",
      "metadata": {
        "id": "QwrZyA8Avucg",
        "colab_type": "code",
        "colab": {
          "base_uri": "https://localhost:8080/",
          "height": 38
        },
        "outputId": "66376fce-af38-42d0-d592-b99188b0fc81"
      },
      "source": [
        "params"
      ],
      "execution_count": null,
      "outputs": [
        {
          "output_type": "execute_result",
          "data": {
            "image/png": "[encoded data removed]",
            "text/latex": "$$\\left \\{ \\alpha : 0.33, \\quad \\beta : 0.98, \\quad \\delta : 0.03, \\quad g : 0.02, \\quad n : 0.01, \\quad \\theta : 0.8\\right \\}$$",
            "text/plain": [
              "{α: 0.33, β: 0.98, δ: 0.03, g: 0.02, n: 0.01, θ: 0.8}"
            ]
          },
          "metadata": {
            "tags": []
          },
          "execution_count": 21
        }
      ]
    },
    {
      "cell_type": "code",
      "metadata": {
        "id": "AoLOJLTxvucj",
        "colab_type": "code",
        "colab": {
          "base_uri": "https://localhost:8080/",
          "height": 34
        },
        "outputId": "f080bcb8-af43-4732-c687-95b16abac069"
      },
      "source": [
        "ss1 = solve_ss(EK, EC, params, x0=[4, 4])\n",
        "ss1"
      ],
      "execution_count": null,
      "outputs": [
        {
          "output_type": "execute_result",
          "data": {
            "text/plain": [
              "array([10.87371171,  1.54328611])"
            ]
          },
          "metadata": {
            "tags": []
          },
          "execution_count": 22
        }
      ]
    },
    {
      "cell_type": "code",
      "metadata": {
        "id": "pA6FqqkCvucm",
        "colab_type": "code",
        "colab": {
          "base_uri": "https://localhost:8080/",
          "height": 595
        },
        "outputId": "882e6c6d-b3be-43a1-8290-aee83014eed4"
      },
      "source": [
        "solve_optimal_growth(EK, EC, 1.0, ss1[1], params, 80)"
      ],
      "execution_count": null,
      "outputs": [
        {
          "output_type": "execute_result",
          "data": {
            "text/plain": [
              "(array([ 1.        ,  1.51216965,  2.04597881,  2.58266629,  3.11060762,\n",
              "         3.62252561,  4.11392377,  4.58214743,  5.0257907 ,  5.44430626,\n",
              "         5.83774031,  6.20654822,  6.55146393,  6.87340614,  7.17341037,\n",
              "         7.45257946,  7.71204749,  7.95295351,  8.17642258,  8.38355227,\n",
              "         8.57540325,  8.75299296,  8.9172916 ,  9.06921991,  9.20964817,\n",
              "         9.33939633,  9.45923471,  9.56988529,  9.6720234 ,  9.7662796 ,\n",
              "         9.85324177,  9.93345723, 10.00743499, 10.07564793, 10.13853491,\n",
              "        10.19650297, 10.2499293 , 10.2991632 , 10.34452801, 10.38632281,\n",
              "        10.42482413, 10.46028755, 10.49294917, 10.52302704, 10.55072244,\n",
              "        10.5762211 , 10.59969437, 10.6213003 , 10.64118457, 10.65948146,\n",
              "        10.67631471, 10.69179827, 10.70603707, 10.7191277 , 10.73115902,\n",
              "        10.74221276, 10.75236403, 10.76168185, 10.77022958, 10.77806535,\n",
              "        10.78524244, 10.79180963, 10.79781155, 10.80328894, 10.80827894,\n",
              "        10.81281535, 10.81692884, 10.82064713, 10.82399523, 10.82699556,\n",
              "        10.82966811, 10.83203059, 10.83409851, 10.83588529, 10.83740239,\n",
              "        10.83865929, 10.83966364, 10.84042125, 10.84093612, 10.84121051,\n",
              "        10.84124485]),\n",
              " array([0.41216283, 0.50525768, 0.59041383, 0.66831216, 0.73961302,\n",
              "        0.80491901, 0.86477165, 0.9196565 , 0.97000965, 1.0162239 ,\n",
              "        1.05865404, 1.0976214 , 1.13341763, 1.16630798, 1.19653408,\n",
              "        1.22431634, 1.24985605, 1.27333721, 1.29492818, 1.31478309,\n",
              "        1.33304316, 1.34983783, 1.36528579, 1.37949595, 1.39256824,\n",
              "        1.40459441, 1.41565871, 1.42583851, 1.4352049 , 1.4438232 ,\n",
              "        1.45175344, 1.45905079, 1.46576597, 1.47194561, 1.4776326 ,\n",
              "        1.48286636, 1.48768316, 1.49211635, 1.49619662, 1.49995219,\n",
              "        1.50340903, 1.50659103, 1.50952017, 1.5122167 , 1.51469922,\n",
              "        1.51698487, 1.51908944, 1.52102743, 1.52281223, 1.52445615,\n",
              "        1.52597052, 1.52736579, 1.52865159, 1.52983679, 1.53092956,\n",
              "        1.53193744, 1.5328674 , 1.53372584, 1.5345187 , 1.53525146,\n",
              "        1.53592917, 1.53655653, 1.53713789, 1.53767727, 1.5381784 ,\n",
              "        1.53864479, 1.53907966, 1.53948605, 1.5398668 , 1.54022458,\n",
              "        1.5405619 , 1.54088114, 1.54118455, 1.54147429, 1.54175244,\n",
              "        1.54202097, 1.54228184, 1.54253693, 1.54278811, 1.54303722,\n",
              "        1.54328611]))"
            ]
          },
          "metadata": {
            "tags": []
          },
          "execution_count": 23
        }
      ]
    },
    {
      "cell_type": "markdown",
      "metadata": {
        "id": "6y-yyO5qvucq",
        "colab_type": "text"
      },
      "source": [
        "## Step 5. 比較動学分析\n",
        "\n",
        "例えば，次のようなシナリオを考えよう。\n",
        "\n",
        "- 元のパラメータに対する定常状態にある経済を考える。\n",
        "- 突然，$g$ が 0.02 から 0.03 に上昇した。\n"
      ]
    },
    {
      "cell_type": "code",
      "metadata": {
        "id": "h7I2opWQvucq",
        "colab_type": "code",
        "colab": {}
      },
      "source": [
        "params.update({g: 0.03})\n",
        "ss2 = solve_ss(EK, EC, params, x0=[4, 4])\n",
        "sol2 = solve_optimal_growth(EK, EC, ss1[0], ss2[1], params, 80)"
      ],
      "execution_count": null,
      "outputs": []
    },
    {
      "cell_type": "code",
      "metadata": {
        "id": "ywdezwltvuct",
        "colab_type": "code",
        "colab": {
          "base_uri": "https://localhost:8080/",
          "height": 284
        },
        "outputId": "0e4a913f-23cd-426b-9567-37175b156a39"
      },
      "source": [
        "k_sol2 = np.r_[ss1[0], sol2[0]]    # 当初 ss1 にいる経済を考えていることに注意\n",
        "c_sol2 = np.r_[ss1[1], sol2[1]]\n",
        "\n",
        "plt.quiver(k_sol2[:-1], c_sol2[:-1], \n",
        "           k_sol2[1:] - k_sol2[:-1], \n",
        "           c_sol2[1:] - c_sol2[:-1],\n",
        "           scale_units='xy', angles='xy', scale=1)\n",
        "\n",
        "plt.xlabel(r\"$k_{t}$\")\n",
        "plt.ylabel(r\"$c_{t+1}$\")\n",
        "plt.show()"
      ],
      "execution_count": null,
      "outputs": [
        {
          "output_type": "display_data",
          "data": {
            "image/png": "[encoded data removed]",
            "text/plain": [
              "<Figure size 432x288 with 1 Axes>"
            ]
          },
          "metadata": {
            "tags": [],
            "needs_background": "light"
          }
        }
      ]
    },
    {
      "cell_type": "markdown",
      "metadata": {
        "id": "JPEFfgPIvucw",
        "colab_type": "text"
      },
      "source": [
        "$g$ が突然増加すると，\n",
        "\n",
        "- 資本（効率労働あたり）は緩やかに減少する\n",
        "- 消費（効率労働あたり）は瞬間的に増えて，徐々に減少しはじめる。\n",
        "\n",
        "このような突然の消費の変化は，貯蓄率の変化を除いて，ソローモデルでは起こらない。ラムゼーモデルでは，成長率の変化によって，効率労働1単位あたりの分け前が将来的にも減少することを織り込んで行動するので，変化が現時点で発生する。\n",
        "\n",
        "このように，**将来的な経済環境の変化を織り込んだ家計の行動分析ができるようになるので，ラムゼーモデルは多くのマクロモデルの基礎理論として使われている**。\n",
        "\n",
        "ここから先の流れを大雑把に言えば，\n",
        "\n",
        "- ラムゼーモデルに内生的な労働供給を組み込んだリアル・ビジネス・サイクルモデル（RBCモデル）\n",
        "- RBCモデルに市場不完全性を組み込んだ種々のニューケインジアンタイプのモデル（DSGEモデル）\n",
        "- 代表的個人の仮定を弱めた，異質な個人からなるニューケインジアンモデル（HANKモデル）\n",
        "\n",
        "のように発展していく。このDSGEモデル, HANKモデルが経済政策分析の主要ツールになっている。\n",
        "\n",
        "\n"
      ]
    },
    {
      "cell_type": "markdown",
      "metadata": {
        "id": "pvSmWgwAvucw",
        "colab_type": "text"
      },
      "source": [
        "## **** おわり ****\n",
        "\n",
        "開講当初は，ニューケインジアンのモデルにまで進みたいという思っていたのですが，キリがよくなったので，これで授業は終わりにしたいと思います。あとは引き続き学ぶ意欲のある方が，ご自身で勉強を進めていく方がよい気がしてきました。（すでにだいぶ詰め込んだ気がしますので）\n",
        "\n",
        "この授業の内容では物足りないという人が進んだ内容を学ぶためには，大学院向けの教科書を選ぶことになると思います。以下の2冊＋雑誌の連載をおすすめします。\n",
        "\n",
        "- 蓮見亮 (2020)『動学マクロ経済学へのいざない』日本評論社\n",
        "- 加藤涼 (2006)『現代マクロ経済学講義』東洋経済新報社\n",
        "- 北尾他 (2019-2020) 『経済セミナー』の連載\n",
        "\n"
      ]
    },
    {
      "cell_type": "markdown",
      "metadata": {
        "id": "jz5qvcRovucx",
        "colab_type": "text"
      },
      "source": [
        "## **** アンケート ****\n",
        "\n",
        "回答方法:\n",
        "\n",
        "[x] チェックしている  \n",
        "[ ] チェックしていない\n",
        "\n",
        "### 難易度\n",
        "\n",
        "[ ] 簡単  \n",
        "[ ] 普通  \n",
        "[x] 難しい \n",
        "\n",
        "### トピック\n",
        "\n",
        "[ ] 少ない  \n",
        "[x] 普通  \n",
        "[ ] 多い  \n",
        "\n",
        "### トピックの選択\n",
        "\n",
        "[ ] 悪い  \n",
        "[x] 普通  \n",
        "[ ] 良い  \n",
        "\n",
        "「悪い」を選んだ人は，どのようなトピックを学びたかったですか？:\n",
        "\n",
        "\n",
        "\n",
        "### 授業方法\n",
        "\n",
        "マクロ関連理論を Python でコーディングするという方針について，どういう印象を受けましたか。\n",
        "\n",
        "[ ] Python が難しすぎてマクロ経済理論の勉強に集中できない  \n",
        "[x] 無  \n",
        "[ ] マクロ経済理論をよりよく学ぶことができる  \n",
        "\n",
        "\n",
        "\n",
        "### 感想\n",
        "\n",
        "以下，感想を自由にお書きください。\n"
      ]
    },
    {
      "cell_type": "markdown",
      "metadata": {
        "id": "gIZntN-Tvucx",
        "colab_type": "text"
      },
      "source": [
        "--- ココに書く ---\n",
        "\n",
        "\n",
        "元々パソコン自体があまり得意じゃないので、Pythonとても難しかったです。Google colaboratoryを使って講義を受けたため、多少の仕組みの違いはありましたが、質問すると丁寧に教えてくださって助かりました。ありがとうございました。\n",
        "\n",
        "\n",
        "\n"
      ]
    }
  ]
}