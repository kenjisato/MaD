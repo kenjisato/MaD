{
 "cells": [
  {
   "cell_type": "code",
   "execution_count": 1,
   "metadata": {},
   "outputs": [],
   "source": [
    "#---- week03/list\n",
    "x = [1, 2, 3]\n",
    "y = [0.1, 0.2, 0.3]"
   ]
  },
  {
   "cell_type": "code",
   "execution_count": 2,
   "metadata": {},
   "outputs": [
    {
     "data": {
      "text/plain": [
       "[1, 2, 3, 0.1, 0.2, 0.3]"
      ]
     },
     "execution_count": 2,
     "metadata": {},
     "output_type": "execute_result"
    }
   ],
   "source": [
    "#---- week03/list-sum\n",
    "x + y"
   ]
  },
  {
   "cell_type": "code",
   "execution_count": 3,
   "metadata": {},
   "outputs": [],
   "source": [
    "#---- week03/numpy\n",
    "import numpy as np"
   ]
  },
  {
   "cell_type": "code",
   "execution_count": 4,
   "metadata": {},
   "outputs": [
    {
     "data": {
      "text/plain": [
       "1.0"
      ]
     },
     "execution_count": 4,
     "metadata": {},
     "output_type": "execute_result"
    }
   ],
   "source": [
    "#---- week03/numpy-log\n",
    "np.log(np.exp(1.0))"
   ]
  },
  {
   "cell_type": "code",
   "execution_count": 5,
   "metadata": {},
   "outputs": [
    {
     "data": {
      "text/plain": [
       "array([1.1, 2.2, 3.3])"
      ]
     },
     "execution_count": 5,
     "metadata": {},
     "output_type": "execute_result"
    }
   ],
   "source": [
    "#---- week03/vectors\n",
    "x = np.array([1, 2, 3])\n",
    "y = np.array([0.1, 0.2, 0.3])\n",
    "x + y"
   ]
  },
  {
   "cell_type": "code",
   "execution_count": 6,
   "metadata": {},
   "outputs": [
    {
     "data": {
      "text/plain": [
       "1.4"
      ]
     },
     "execution_count": 6,
     "metadata": {},
     "output_type": "execute_result"
    }
   ],
   "source": [
    "#---- week03/inner\n",
    "np.sum(x * y)"
   ]
  },
  {
   "cell_type": "code",
   "execution_count": 7,
   "metadata": {},
   "outputs": [
    {
     "data": {
      "text/plain": [
       "0.8026315789473685"
      ]
     },
     "execution_count": 7,
     "metadata": {},
     "output_type": "execute_result"
    }
   ],
   "source": [
    "#---- week03/ex25-1\n",
    "\n",
    "price00 = np.array([40, 80])\n",
    "price01 = np.array([80, 30])\n",
    "quantity00 = np.array([3, 6])\n",
    "quantity01 = np.array([5, 7])\n",
    "\n",
    "np.sum(price01* quantity00) / np.sum(price00 * quantity00)\n",
    "# Laspeyres\n",
    "\n",
    "np.sum(price01 * quantity01) / np.sum(price00 * quantity01)\n",
    "# Paasche"
   ]
  },
  {
   "cell_type": "code",
   "execution_count": 8,
   "metadata": {},
   "outputs": [],
   "source": [
    "#---- week03/matrix\n",
    "price = np.array([[40, 80], \n",
    "                  [80, 30]])\n",
    "quantity = np.array([[3, 6],\n",
    "                     [5, 7]])"
   ]
  },
  {
   "cell_type": "code",
   "execution_count": 9,
   "metadata": {},
   "outputs": [
    {
     "data": {
      "text/plain": [
       "array([5, 7])"
      ]
     },
     "execution_count": 9,
     "metadata": {},
     "output_type": "execute_result"
    }
   ],
   "source": [
    "#---- week03/matrix-select\n",
    "price[0, 1]\n",
    "price[:, 0]   # : は「全部」\n",
    "quantity[1, :]"
   ]
  },
  {
   "cell_type": "code",
   "execution_count": 10,
   "metadata": {},
   "outputs": [
    {
     "data": {
      "text/plain": [
       "array([0., 0.])"
      ]
     },
     "execution_count": 10,
     "metadata": {},
     "output_type": "execute_result"
    }
   ],
   "source": [
    "#---- week03/result-array\n",
    "np.ones(2)\n",
    "np.zeros(2)\n",
    "np.empty(2)"
   ]
  },
  {
   "cell_type": "code",
   "execution_count": 11,
   "metadata": {},
   "outputs": [
    {
     "data": {
      "text/plain": [
       "array([1. , 0.7])"
      ]
     },
     "execution_count": 11,
     "metadata": {},
     "output_type": "execute_result"
    }
   ],
   "source": [
    "#---- week03/matrix-index\n",
    "P = np.empty(2)\n",
    "P[0] = 1.0\n",
    "P[1] = P[0] * (np.sum(price[1, :] * quantity[0, :]) \n",
    "                 / np.sum(price[0, :] * quantity[0, :]))\n",
    "P"
   ]
  },
  {
   "cell_type": "code",
   "execution_count": 12,
   "metadata": {},
   "outputs": [
    {
     "data": {
      "text/plain": [
       "array([1. , 0.7])"
      ]
     },
     "execution_count": 12,
     "metadata": {},
     "output_type": "execute_result"
    }
   ],
   "source": [
    "#---- week03/matrix-index2\n",
    "P = np.empty(2)\n",
    "P[0] = 1.0\n",
    "t = 1\n",
    "P[t] = P[t-1] * (np.sum(price[t, :] * quantity[t-1, :]) \n",
    "                 / np.sum(price[t-1, :] * quantity[t-1, :]))\n",
    "P"
   ]
  },
  {
   "cell_type": "code",
   "execution_count": 13,
   "metadata": {},
   "outputs": [],
   "source": [
    "#---- week03/problem2/noinc\n",
    "\n",
    "price = np.array([[40, 80],\n",
    "                  [80, 30],\n",
    "                  [70, 40],\n",
    "                  [60, 55]])\n",
    "\n",
    "quantity = np.array([[3, 6],\n",
    "                     [5, 7],\n",
    "                     [6, 8],\n",
    "                     [8, 10]])\n",
    "\n",
    "PL = np.empty(4)\n",
    "PP = np.empty(4)\n",
    "PL[0] = PP[0] = 1.0\n",
    "\n",
    "t = 1\n",
    "PL[t] = PL[t-1] * (np.sum(price[t, :] * quantity[t-1, :]) \n",
    "                  / np.sum(price[t-1, :] * quantity[t-1, :]))\n",
    "PP[t] = PP[t-1] * (np.sum(price[t, :] * quantity[t, :]) \n",
    "                  / np.sum(price[t-1, :] * quantity[t, :]))\n",
    "\n",
    "t = 2\n",
    "PL[t] = PL[t-1] * (np.sum(price[t, :] * quantity[t-1, :]) \n",
    "                  / np.sum(price[t-1, :] * quantity[t-1, :]))\n",
    "PP[t] = PP[t-1] * (np.sum(price[t, :] * quantity[t, :]) \n",
    "                  / np.sum(price[t-1, :] * quantity[t, :]))\n",
    "\n",
    "t = 3\n",
    "PL[t] = PL[t-1] * (np.sum(price[t, :] * quantity[t-1, :]) \n",
    "                  / np.sum(price[t-1, :] * quantity[t-1, :]))\n",
    "PP[t] = PP[t-1] * (np.sum(price[t, :] * quantity[t, :]) \n",
    "                  / np.sum(price[t-1, :] * quantity[t, :]))"
   ]
  },
  {
   "cell_type": "code",
   "execution_count": 14,
   "metadata": {},
   "outputs": [
    {
     "data": {
      "image/png": "[encoded data removed]",
      "text/plain": [
       "<Figure size 432x288 with 1 Axes>"
      ]
     },
     "metadata": {
      "needs_background": "light"
     },
     "output_type": "display_data"
    }
   ],
   "source": [
    "#---- week03/problem2/plot\n",
    "import matplotlib.pyplot as plt\n",
    "plt.plot(PL, label = 'Laspeyres')\n",
    "plt.plot(PP, label = 'Paasche')\n",
    "plt.legend()\n",
    "plt.show()"
   ]
  },
  {
   "cell_type": "code",
   "execution_count": null,
   "metadata": {},
   "outputs": [],
   "source": []
  }
 ],
 "metadata": {
  "kernelspec": {
   "display_name": "Python 3",
   "language": "python",
   "name": "python3"
  },
  "language_info": {
   "codemirror_mode": {
    "name": "ipython",
    "version": 3
   },
   "file_extension": ".py",
   "mimetype": "text/x-python",
   "name": "python",
   "nbconvert_exporter": "python",
   "pygments_lexer": "ipython3",
   "version": "3.7.7"
  }
 },
 "nbformat": 4,
 "nbformat_minor": 4
}
