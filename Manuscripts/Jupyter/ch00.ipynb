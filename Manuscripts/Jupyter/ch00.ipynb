{
 "cells": [
  {
   "cell_type": "code",
   "execution_count": 1,
   "metadata": {},
   "outputs": [],
   "source": [
    "#---- ch00/versions/noinc\n",
    "import platform\n",
    "import numpy\n",
    "import scipy\n",
    "import sympy\n",
    "import pandas\n",
    "import matplotlib\n",
    "import statsmodels"
   ]
  },
  {
   "cell_type": "raw",
   "metadata": {},
   "source": [
    "#---- ch00/installpdr/dnr\n",
    "conda install pandas-datareader"
   ]
  },
  {
   "cell_type": "raw",
   "metadata": {},
   "source": [
    "#---- ch00/pipinstallpdr/dnr\n",
    "python -m pip install pandas-datareader"
   ]
  },
  {
   "cell_type": "code",
   "execution_count": 2,
   "metadata": {},
   "outputs": [],
   "source": [
    "#---- ch00/importpdr/noinc\n",
    "import pandas_datareader"
   ]
  },
  {
   "cell_type": "code",
   "execution_count": 3,
   "metadata": {},
   "outputs": [
    {
     "data": {
      "text/html": [
       "<div>\n",
       "<style scoped>\n",
       "    .dataframe tbody tr th:only-of-type {\n",
       "        vertical-align: middle;\n",
       "    }\n",
       "\n",
       "    .dataframe tbody tr th {\n",
       "        vertical-align: top;\n",
       "    }\n",
       "\n",
       "    .dataframe thead th {\n",
       "        text-align: right;\n",
       "    }\n",
       "</style>\n",
       "<table border=\"1\" class=\"dataframe\">\n",
       "  <thead>\n",
       "    <tr style=\"text-align: right;\">\n",
       "      <th></th>\n",
       "      <th>Version</th>\n",
       "    </tr>\n",
       "  </thead>\n",
       "  <tbody>\n",
       "    <tr>\n",
       "      <th>Python</th>\n",
       "      <td>3.8.5</td>\n",
       "    </tr>\n",
       "    <tr>\n",
       "      <th>NumPy</th>\n",
       "      <td>1.19.2</td>\n",
       "    </tr>\n",
       "    <tr>\n",
       "      <th>SciPy</th>\n",
       "      <td>1.5.2</td>\n",
       "    </tr>\n",
       "    <tr>\n",
       "      <th>SymPy</th>\n",
       "      <td>1.6.2</td>\n",
       "    </tr>\n",
       "    <tr>\n",
       "      <th>Pandas</th>\n",
       "      <td>1.1.3</td>\n",
       "    </tr>\n",
       "    <tr>\n",
       "      <th>Matplotlib</th>\n",
       "      <td>3.3.2</td>\n",
       "    </tr>\n",
       "    <tr>\n",
       "      <th>statsmodels</th>\n",
       "      <td>0.12.0</td>\n",
       "    </tr>\n",
       "    <tr>\n",
       "      <th>pandas-datareader</th>\n",
       "      <td>0.9.0</td>\n",
       "    </tr>\n",
       "  </tbody>\n",
       "</table>\n",
       "</div>"
      ],
      "text/plain": [
       "                  Version\n",
       "Python              3.8.5\n",
       "NumPy              1.19.2\n",
       "SciPy               1.5.2\n",
       "SymPy               1.6.2\n",
       "Pandas              1.1.3\n",
       "Matplotlib          3.3.2\n",
       "statsmodels        0.12.0\n",
       "pandas-datareader   0.9.0"
      ]
     },
     "execution_count": 3,
     "metadata": {},
     "output_type": "execute_result"
    }
   ],
   "source": [
    "#---- ch00/gentable/noinc\n",
    "versions = pandas.DataFrame({\n",
    "    \"Version\": ([platform.python_version()] + \n",
    "                [pkg.__version__ \n",
    "                 for pkg in [numpy, scipy, sympy, pandas, \n",
    "                             matplotlib, statsmodels,\n",
    "                             pandas_datareader]])\n",
    "}, index=[\"Python\", \"NumPy\", \"SciPy\", \"SymPy\", \n",
    "          \"Pandas\", \"Matplotlib\", \"statsmodels\", \n",
    "          \"pandas-datareader\"])\n",
    "\n",
    "versions"
   ]
  },
  {
   "cell_type": "code",
   "execution_count": 4,
   "metadata": {},
   "outputs": [
    {
     "data": {
      "text/plain": [
       "'\\\\begin{tabular}{ll}\\n\\\\toprule\\n{} & Version \\\\\\\\\\n\\\\midrule\\nPython            &   3.8.5 \\\\\\\\\\nNumPy             &  1.19.2 \\\\\\\\\\nSciPy             &   1.5.2 \\\\\\\\\\nSymPy             &   1.6.2 \\\\\\\\\\nPandas            &   1.1.3 \\\\\\\\\\nMatplotlib        &   3.3.2 \\\\\\\\\\nstatsmodels       &  0.12.0 \\\\\\\\\\npandas-datareader &   0.9.0 \\\\\\\\\\n\\\\bottomrule\\n\\\\end{tabular}\\n'"
      ]
     },
     "execution_count": 4,
     "metadata": {},
     "output_type": "execute_result"
    }
   ],
   "source": [
    "#---- ch00/showtable\n",
    "print(versions.to_latex())"
   ]
  },
  {
   "cell_type": "code",
   "execution_count": null,
   "metadata": {},
   "outputs": [],
   "source": []
  }
 ],
 "metadata": {
  "kernelspec": {
   "display_name": "Python 3",
   "language": "python",
   "name": "python3"
  },
  "language_info": {
   "codemirror_mode": {
    "name": "ipython",
    "version": 3
   },
   "file_extension": ".py",
   "mimetype": "text/x-python",
   "name": "python",
   "nbconvert_exporter": "python",
   "pygments_lexer": "ipython3",
   "version": "3.8.5"
  }
 },
 "nbformat": 4,
 "nbformat_minor": 4
}
