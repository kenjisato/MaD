{
 "cells": [
  {
   "cell_type": "markdown",
   "metadata": {},
   "source": [
    "# Python 開発環境\n",
    "\n",
    "本書で初めて Python を使う読者はまず実行環境を整える必要がある。Anaconda ディストリビューションをインストールしていれば安心だ。\n",
    "<https://www.anaconda.com/distribution/> からダウンロードしてインストールしてほしい。\n",
    "\n",
    "本書を用いて開発を行うためには、\n",
    "\n",
    "- ターミナル・エミュレータ（例：terminal, Windows PowerShell, Bash on Windows）\n",
    "- 使い慣れたテキストエディタ（例：Atom, Vim, Emacs）\n",
    "- Python コードを実行する環境（python）\n",
    "- その他必要な Python ライブラリ（NumPy, SciPy, Matplotlib, Pandas）\n",
    "\n",
    "があれば最低限事足りる。しかし、大きなコードの計算の途中で、計算の経過を逐次チェックしたいときがある。このような目的では、インタラクティブな環境を用いるのがよい。\n",
    "\n",
    "- Python REPL\n",
    "- IPython\n",
    "\n",
    "Python REPL は Python をインストールすれば使えるようになっている。本書では IPython をインストールして使うことをおすすめする。Anaconda ディストリビューションには IPython がプリインストールされている。\n",
    "\n",
    "統合開発環境（IDE）と呼ばれるアプリケーションの方が使いやすい場合は、次のような豊富なチョイスがある。\n",
    "\n",
    "- Jupyter Lab\n",
    "- Jupyter Notebook\n",
    "- Spyder\n",
    "- PyCharm\n",
    "- Atom + プラグイン\n",
    "- Visual Studio Code + プラグイン\n",
    "\n",
    "Python 専用のテキストエディタを使わない場合には、次のような機能があるものを選ぶとよい。\n",
    "\n",
    "- UTF-8 エンコーディングを扱うことができる。\n",
    "- 行の先頭で Tab キーを押下すると、タブ文字でなく 4つの半角スペースが入力されるように設定できる。\n",
    "- `\\alpha` 等の直後に Tab キーを押下すると、`α` に変換される。（\\ は環境によっては ¥ と表示される）"
   ]
  },
  {
   "cell_type": "code",
   "execution_count": null,
   "metadata": {},
   "outputs": [],
   "source": []
  }
 ],
 "metadata": {
  "kernelspec": {
   "display_name": "Python 3",
   "language": "python",
   "name": "python3"
  },
  "language_info": {
   "codemirror_mode": {
    "name": "ipython",
    "version": 3
   },
   "file_extension": ".py",
   "mimetype": "text/x-python",
   "name": "python",
   "nbconvert_exporter": "python",
   "pygments_lexer": "ipython3",
   "version": "3.8.5"
  }
 },
 "nbformat": 4,
 "nbformat_minor": 4
}
