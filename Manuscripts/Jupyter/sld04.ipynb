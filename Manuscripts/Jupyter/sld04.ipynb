{
 "cells": [
  {
   "cell_type": "markdown",
   "metadata": {},
   "source": [
    "# Week 4 スライド"
   ]
  },
  {
   "cell_type": "markdown",
   "metadata": {},
   "source": [
    "## NumPy array"
   ]
  },
  {
   "cell_type": "code",
   "execution_count": 1,
   "metadata": {},
   "outputs": [],
   "source": [
    "#---- sld04/import\n",
    "import numpy as np"
   ]
  },
  {
   "cell_type": "code",
   "execution_count": 2,
   "metadata": {},
   "outputs": [
    {
     "data": {
      "text/plain": [
       "array([ 0,  1,  2,  3,  4,  5,  6,  7,  8,  9, 10, 11, 12, 13, 14, 15, 16,\n",
       "       17, 18, 19, 20, 21, 22, 23])"
      ]
     },
     "execution_count": 2,
     "metadata": {},
     "output_type": "execute_result"
    }
   ],
   "source": [
    "#---- sld04/arange\n",
    "A = np.arange(24)\n",
    "A"
   ]
  },
  {
   "cell_type": "code",
   "execution_count": 3,
   "metadata": {},
   "outputs": [
    {
     "data": {
      "text/plain": [
       "(24,)"
      ]
     },
     "execution_count": 3,
     "metadata": {},
     "output_type": "execute_result"
    }
   ],
   "source": [
    "#---- sld04/shape\n",
    "A.shape"
   ]
  },
  {
   "cell_type": "code",
   "execution_count": 4,
   "metadata": {},
   "outputs": [],
   "source": [
    "#---- sld04/reshape1\n",
    "A.shape = (3, 8)"
   ]
  },
  {
   "cell_type": "code",
   "execution_count": 5,
   "metadata": {},
   "outputs": [
    {
     "data": {
      "text/plain": [
       "array([[ 0,  1,  2,  3,  4,  5,  6,  7],\n",
       "       [ 8,  9, 10, 11, 12, 13, 14, 15],\n",
       "       [16, 17, 18, 19, 20, 21, 22, 23]])"
      ]
     },
     "execution_count": 5,
     "metadata": {},
     "output_type": "execute_result"
    }
   ],
   "source": [
    "#---- sld04/reshape2\n",
    "A"
   ]
  },
  {
   "cell_type": "code",
   "execution_count": 6,
   "metadata": {},
   "outputs": [
    {
     "data": {
      "text/plain": [
       "array([[[ 0,  1,  2,  3],\n",
       "        [ 4,  5,  6,  7],\n",
       "        [ 8,  9, 10, 11]],\n",
       "\n",
       "       [[12, 13, 14, 15],\n",
       "        [16, 17, 18, 19],\n",
       "        [20, 21, 22, 23]]])"
      ]
     },
     "execution_count": 6,
     "metadata": {},
     "output_type": "execute_result"
    }
   ],
   "source": [
    "#---- sld04/reshape3\n",
    "A.shape = (2, 3, 4)\n",
    "A"
   ]
  },
  {
   "cell_type": "code",
   "execution_count": 7,
   "metadata": {},
   "outputs": [
    {
     "data": {
      "text/plain": [
       "array([ 15,  51,  87, 123])"
      ]
     },
     "execution_count": 7,
     "metadata": {},
     "output_type": "execute_result"
    }
   ],
   "source": [
    "#---- sld04/axis-sum\n",
    "A.shape = (4, 6)\n",
    "A.sum()            # (4, 6) -> ()\n",
    "np.sum(A)          # 上と同じ\n",
    "A.sum(axis=0)      # (4, 6) -> (6,)\n",
    "np.sum(A, axis=1)  # (4, 6) -> (4,)"
   ]
  },
  {
   "cell_type": "markdown",
   "metadata": {},
   "source": [
    "## for"
   ]
  },
  {
   "cell_type": "code",
   "execution_count": 8,
   "metadata": {},
   "outputs": [
    {
     "name": "stdout",
     "output_type": "stream",
     "text": [
      "0\n",
      "1\n",
      "8\n",
      "27\n",
      "64\n"
     ]
    }
   ],
   "source": [
    "#---- sld04/for-loop1\n",
    "for i in range(5):\n",
    "    print(i ** 3)"
   ]
  },
  {
   "cell_type": "markdown",
   "metadata": {},
   "source": [
    "## GDP"
   ]
  },
  {
   "cell_type": "code",
   "execution_count": 9,
   "metadata": {},
   "outputs": [],
   "source": [
    "#---- sld04/gdp-data\n",
    "price = np.array([[100, 100, 100],\n",
    "                  [101, 99, 103],\n",
    "                  [100, 98, 104],\n",
    "                  [99, 99, 106.]])\n",
    "\n",
    "quantity = np.array([[1000, 2000, 500],\n",
    "                     [980, 1980, 510],\n",
    "                     [1010, 1990, 520],\n",
    "                     [1005, 2005, 530.]])"
   ]
  },
  {
   "cell_type": "code",
   "execution_count": 10,
   "metadata": {},
   "outputs": [
    {
     "data": {
      "text/plain": [
       "array([[100000., 200000.,  50000.],\n",
       "       [ 98980., 196020.,  52530.],\n",
       "       [101000., 195020.,  54080.],\n",
       "       [ 99495., 198495.,  56180.]])"
      ]
     },
     "execution_count": 10,
     "metadata": {},
     "output_type": "execute_result"
    }
   ],
   "source": [
    "#---- sld04/gdp-value\n",
    "price * quantity"
   ]
  },
  {
   "cell_type": "code",
   "execution_count": 11,
   "metadata": {},
   "outputs": [],
   "source": [
    "#---- sld04/gdp-nominal-def/noinc\n",
    "NGDP = np.sum(price * quantity, axis=1)"
   ]
  },
  {
   "cell_type": "code",
   "execution_count": 12,
   "metadata": {},
   "outputs": [
    {
     "data": {
      "text/plain": [
       "array([350000., 347530., 350100., 354170.])"
      ]
     },
     "execution_count": 12,
     "metadata": {},
     "output_type": "execute_result"
    }
   ],
   "source": [
    "#---- sld04/gdp-nominal-show\n",
    "NGDP"
   ]
  },
  {
   "cell_type": "code",
   "execution_count": 13,
   "metadata": {},
   "outputs": [],
   "source": [
    "#---- sld04/gdp-real-no-for\n",
    "GDP = np.empty(price.shape[0])  # 行数 = 年数\n",
    "\n",
    "GDP[0] = np.sum(price[0, :] * quantity[0, :])\n",
    "t = 1\n",
    "GDP[t] = GDP[t-1] * (np.sum(price[t-1, :] * quantity[t, :]) \n",
    "                    / np.sum(price[t-1, :] * quantity[t-1, :]))\n",
    "t = 2\n",
    "# .... continue"
   ]
  },
  {
   "cell_type": "code",
   "execution_count": 14,
   "metadata": {},
   "outputs": [
    {
     "data": {
      "text/plain": [
       "array([350000.        , 347000.        , 352042.2985066 , 354063.44966341])"
      ]
     },
     "execution_count": 14,
     "metadata": {},
     "output_type": "execute_result"
    }
   ],
   "source": [
    "#---- sld04/gdp-real\n",
    "T = price.shape[0]  # 行数 = 年数\n",
    "GDP = np.empty(T)\n",
    "\n",
    "GDP[0] = np.sum(price[0, :] * quantity[0, :])\n",
    "for t in range(1, T):\n",
    "    GDP[t] = (GDP[t-1] \n",
    "               * (np.sum(price[t-1, :] * quantity[t, :]) \n",
    "                / np.sum(price[t-1, :] * quantity[t-1, :])))\n",
    "\n",
    "GDP"
   ]
  },
  {
   "cell_type": "code",
   "execution_count": 15,
   "metadata": {},
   "outputs": [],
   "source": [
    "#---- sld04/contribution-data\n",
    "expenditure = np.array(\n",
    "    [[298.88, 101.56, 132.33, 91.43, -92.62],\n",
    "     [299.05, 102.28, 139.39, 92.87, -94.62]])"
   ]
  },
  {
   "cell_type": "code",
   "execution_count": 16,
   "metadata": {},
   "outputs": [
    {
     "data": {
      "text/plain": [
       "array([[  nan,   nan,   nan,   nan,   nan],\n",
       "       [ 0.17,  0.72,  7.06,  1.44, -2.  ]])"
      ]
     },
     "execution_count": 16,
     "metadata": {},
     "output_type": "execute_result"
    }
   ],
   "source": [
    "#---- sld04/contribution-diff\n",
    "diff = np.diff(expenditure, prepend=np.nan, axis=0)\n",
    "diff"
   ]
  },
  {
   "cell_type": "code",
   "execution_count": 17,
   "metadata": {},
   "outputs": [
    {
     "data": {
      "text/plain": [
       "array([531.58, 538.97])"
      ]
     },
     "execution_count": 17,
     "metadata": {},
     "output_type": "execute_result"
    }
   ],
   "source": [
    "#---- sld04/contribution-gdp\n",
    "gdp = expenditure.sum(axis=1)\n",
    "gdp"
   ]
  },
  {
   "cell_type": "code",
   "execution_count": 18,
   "metadata": {},
   "outputs": [
    {
     "data": {
      "text/plain": [
       "array([[   nan],\n",
       "       [531.58]])"
      ]
     },
     "execution_count": 18,
     "metadata": {},
     "output_type": "execute_result"
    }
   ],
   "source": [
    "#---- sld04/contribution-gdp-shifted\n",
    "gdp_shift = np.r_[np.nan, gdp[:-1]]\n",
    "gdp_shift.shape = (2, 1)\n",
    "gdp_shift"
   ]
  },
  {
   "cell_type": "code",
   "execution_count": 19,
   "metadata": {},
   "outputs": [],
   "source": [
    "#---- sld04/contribution\n",
    "contribution = diff / gdp_shift"
   ]
  },
  {
   "cell_type": "code",
   "execution_count": null,
   "metadata": {},
   "outputs": [],
   "source": []
  },
  {
   "cell_type": "code",
   "execution_count": null,
   "metadata": {},
   "outputs": [],
   "source": []
  }
 ],
 "metadata": {
  "kernelspec": {
   "display_name": "Python 3",
   "language": "python",
   "name": "python3"
  },
  "language_info": {
   "codemirror_mode": {
    "name": "ipython",
    "version": 3
   },
   "file_extension": ".py",
   "mimetype": "text/x-python",
   "name": "python",
   "nbconvert_exporter": "python",
   "pygments_lexer": "ipython3",
   "version": "3.8.8"
  }
 },
 "nbformat": 4,
 "nbformat_minor": 4
}
