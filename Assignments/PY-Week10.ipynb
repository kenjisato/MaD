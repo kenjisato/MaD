{
 "cells": [
  {
   "cell_type": "markdown",
   "metadata": {},
   "source": [
    "# Week 10: 資料兼課題\n",
    "\n",
    "## 0. この資料の目標\n",
    "\n",
    "### トピック\n",
    "\n",
    "今週の授業では，最適消費モデルを解きます。来週，2期間の最適消費モデルを学ぶので，その準備です。\n",
    "\n",
    "- ソローモデル → 貯蓄率が外生（一定）\n",
    "- 最適消費モデル → 貯蓄率が内生\n",
    "\n",
    "### 戦略\n",
    "\n",
    "経済学のモデル構築＆分析の戦略は，\n",
    "\n",
    "- 手計算でも解きやすいモデルを作って，数値によらない普遍性のある現象理解を目指す，\n",
    "- どうしても解けない場合には数値的に解いてシミュレーションする\n",
    "\n",
    "というのが基本です。数値的な計算というのは，あらゆるパラメータに数値を代入する必要があるので，特定のパラメータに対する観察をするだけなので，一般論に発展させることが難しいのです。\n",
    "\n",
    "手計算で解ける問題の多くは，コンピュータでもシンボリックに（パラメータに数を代入せずに）解けますので，上記戦略のアナロジーとして，次のような手順を考えます。\n",
    "\n",
    "- 手計算でも解きやすいモデルを作ってシンボリックな解表現を得る。\n",
    "- 最後に数値を代入，必要ならば数値最適化をして，モデルをシミュレーションする。\n",
    "\n",
    "### 課題\n",
    "\n",
    "課題に答えながらノートを完成させてください。第10週のリアルタイムセッションに参加している方は，授業内で取り組みます。\n",
    "\n",
    "- コードの一部が `_______` となっているものがあります。これは「穴埋め」問題です。適切なコードに書き換えて実行してください。\n",
    "- `assert` から始まる文は書いたコードが期待通り動いているかをチェックするためのテスト用コードです。消さないでください。期待通り動いている場合は何も起こりません。\n",
    "- コードの中には前後に依存関係のあるものがあります。すべてのコードを上から順に実行してください。\n",
    "\n",
    "### 提出方法\n",
    "\n",
    "MS Teams の対応する課題に ipynb ファイルを添付して提出する。  \n",
    "\n",
    "- 提出前に Kernel > Restart Kernel and Run All Cells... を実行して，エラーが生じないことを確認してください。\n",
    "\n",
    "### 締切\n",
    "\n",
    "2020/7/16"
   ]
  },
  {
   "cell_type": "markdown",
   "metadata": {},
   "source": [
    "### 準備\n",
    "\n",
    "まず，必要なライブラリをインポートしてください。\n",
    "\n",
    "- sympy - シンボリック計算のためのライブラリ\n",
    "- scipy.optimize - 数値最適化のためのライブラリ（関数がゼロになる点を探す `newton` と `fsolve` を紹介する）"
   ]
  },
  {
   "cell_type": "code",
   "execution_count": null,
   "metadata": {},
   "outputs": [],
   "source": [
    "import numpy as np\n",
    "import pandas as pd\n",
    "import matplotlib.pyplot as plt\n",
    "import sympy as sp\n",
    "from scipy.optimize import newton, fsolve "
   ]
  },
  {
   "cell_type": "markdown",
   "metadata": {},
   "source": [
    "SymPy を使うときには次のコードを実行しておくと，数式がきれいに表示される。"
   ]
  },
  {
   "cell_type": "code",
   "execution_count": null,
   "metadata": {},
   "outputs": [],
   "source": [
    "sp.init_printing()"
   ]
  },
  {
   "cell_type": "markdown",
   "metadata": {},
   "source": [
    "図の画質を上げるために次のコードを実行しておきます。Word ファイルにドラッグ&ドロップで貼り付ける場合などに便利です。  \n",
    "※ dpi = dot per inch, 1インチにどれだけの点を打つか。"
   ]
  },
  {
   "cell_type": "code",
   "execution_count": null,
   "metadata": {},
   "outputs": [],
   "source": [
    "import matplotlib\n",
    "matplotlib.rcParams['figure.dpi'] = 150"
   ]
  },
  {
   "cell_type": "markdown",
   "metadata": {},
   "source": [
    "## I. SymPy を使う"
   ]
  },
  {
   "cell_type": "markdown",
   "metadata": {},
   "source": [
    "### シンボルの定義"
   ]
  },
  {
   "cell_type": "code",
   "execution_count": null,
   "metadata": {},
   "outputs": [],
   "source": [
    "from sympy.abc import ______\n",
    "\n",
    "x + y**2"
   ]
  },
  {
   "cell_type": "code",
   "execution_count": null,
   "metadata": {},
   "outputs": [],
   "source": [
    "a, b = sp._____(\"a, b\")\n",
    "a ** b"
   ]
  },
  {
   "cell_type": "markdown",
   "metadata": {},
   "source": [
    "#### 課題\n",
    "\n",
    "シンボルで表現せよ。\n",
    "\n",
    "$$\n",
    "x^\\alpha y^{1-\\alpha}\n",
    "$$"
   ]
  },
  {
   "cell_type": "code",
   "execution_count": null,
   "metadata": {},
   "outputs": [],
   "source": [
    "## EXERCISE ##\n",
    "\n",
    "alpha = sp.symbols(\"alpha\")\n",
    "_________"
   ]
  },
  {
   "cell_type": "markdown",
   "metadata": {},
   "source": [
    "#### 課題\n",
    "\n",
    "シンボル計算を用いて証明せよ。\n",
    "\n",
    "$$\n",
    "x^2 + 2b x + b^2 = (x + b)^2\n",
    "$$"
   ]
  },
  {
   "cell_type": "code",
   "execution_count": null,
   "metadata": {},
   "outputs": [],
   "source": [
    "## EXERCISE ##\n",
    "\n"
   ]
  },
  {
   "cell_type": "markdown",
   "metadata": {},
   "source": [
    "### 方程式を解く\n",
    "\n",
    "$f(x) = 0 $ を解くときには，\n",
    "\n",
    "```python\n",
    "sp.solve(f, x)\n",
    "```\n",
    "\n",
    "というコマンドを使います。結果は解のリストになります。\n",
    "\n",
    "\n",
    "#### 2次方程式\n",
    "\n",
    "解きなさい。\n",
    "\n",
    "$$\n",
    "a x^2 + bx + c = 0\n",
    "$$"
   ]
  },
  {
   "cell_type": "code",
   "execution_count": null,
   "metadata": {},
   "outputs": [],
   "source": [
    "## EXERCISE ##\n",
    "\n",
    "from sympy.abc import a, b, c, x\n",
    "_____(_________, x)"
   ]
  },
  {
   "cell_type": "markdown",
   "metadata": {},
   "source": [
    "#### 3次方程式\n",
    "\n",
    "次の3次方程式を解きなさい。\n",
    "\n",
    "$$\n",
    "3x^3 + x^2 - 10x= 0\n",
    "$$"
   ]
  },
  {
   "cell_type": "code",
   "execution_count": null,
   "metadata": {},
   "outputs": [],
   "source": [
    "## EXERCISE ##\n",
    "\n",
    "________(_________, x)"
   ]
  },
  {
   "cell_type": "markdown",
   "metadata": {},
   "source": [
    "### 微分\n",
    "\n",
    "微分はシンボリックに計算できる。シンボルで定義された式に対して `diff()` というメソッドを使う。"
   ]
  },
  {
   "cell_type": "code",
   "execution_count": null,
   "metadata": {},
   "outputs": [],
   "source": [
    "## EXERCISE ##\n",
    "f = x**a * y **b\n",
    "f.______()"
   ]
  },
  {
   "cell_type": "markdown",
   "metadata": {},
   "source": [
    "`simplify()` でシンプルにできる。"
   ]
  },
  {
   "cell_type": "code",
   "execution_count": null,
   "metadata": {},
   "outputs": [],
   "source": [
    "## EXERCISE ##\n",
    "f.diff(x)._______()"
   ]
  },
  {
   "cell_type": "markdown",
   "metadata": {},
   "source": [
    "#### CRRA型効用関数\n",
    "\n",
    "$$\n",
    "u(c) = \\frac{c^{1-\\theta - 1}}{1 - \\theta}\n",
    "$$\n",
    "\n",
    "をCRRA型効用関数という。CRRA = Constant Relative Risk Aversion。\n",
    "\n",
    "RRA （相対的危険回避度）とは，限界効用の弾力性のことで，\n",
    "\n",
    "$$\n",
    "\\frac{-cu''}{u'}\n",
    "$$\n",
    "\n",
    "で定義される。\n",
    "\n",
    "#### 課題\n",
    "\n",
    "上で定義されるCRRA型効用関数の RRA が定数であることをシンボリック計算を使って確認しなさい。"
   ]
  },
  {
   "cell_type": "code",
   "execution_count": null,
   "metadata": {},
   "outputs": [],
   "source": [
    "## EXERCISE ##\n",
    "\n"
   ]
  },
  {
   "cell_type": "markdown",
   "metadata": {},
   "source": [
    "### 数値の代入\n",
    "\n",
    "2次方程式の解"
   ]
  },
  {
   "cell_type": "code",
   "execution_count": null,
   "metadata": {},
   "outputs": [],
   "source": [
    "s1, s2 = sp.solve(a * x**2 + b * x + c, x)\n",
    "s1"
   ]
  },
  {
   "cell_type": "markdown",
   "metadata": {},
   "source": [
    "$a=1$, $b=2$, $c=1$ を代入した結果を知りたいとしよう。こういうときには `subs()` というメソッドを使う。引数として辞書を渡す。`a`, `b`, `c` というシンボルが辞書のキーになる。代入したい値が辞書の値になる。"
   ]
  },
  {
   "cell_type": "code",
   "execution_count": null,
   "metadata": {},
   "outputs": [],
   "source": [
    "s1.______({________})"
   ]
  },
  {
   "cell_type": "markdown",
   "metadata": {},
   "source": [
    "全部のパラメータでなく，一部だけ代入することもできる。"
   ]
  },
  {
   "cell_type": "code",
   "execution_count": null,
   "metadata": {},
   "outputs": [],
   "source": [
    "s1.subs({a:1, b:2})"
   ]
  },
  {
   "cell_type": "markdown",
   "metadata": {},
   "source": [
    "これは `c` の関数のように見える。`c` の関数として使いたい場合。`lambdify()` を使う。"
   ]
  },
  {
   "cell_type": "code",
   "execution_count": null,
   "metadata": {},
   "outputs": [],
   "source": [
    "s1_func = ________(c, s1.subs({a: 1, b: 2}))\n",
    "s1_func(np.array([1, -2,  - 3]))"
   ]
  },
  {
   "cell_type": "markdown",
   "metadata": {},
   "source": [
    "### ソローモデルの定常状態\n",
    "\n",
    "$$\n",
    "sf(k) = (\\delta + g + n + gn) k \n",
    "$$\n",
    "\n",
    "コブ=ダグラス型 $f(k) = k^\\alpha$ のとき，$k$ を $s$, $\\delta$, $g$, $n$, $\\alpha$ で表現しなさい。"
   ]
  },
  {
   "cell_type": "code",
   "execution_count": null,
   "metadata": {},
   "outputs": [],
   "source": [
    "## EXERCISE ## \n",
    "\n"
   ]
  },
  {
   "cell_type": "markdown",
   "metadata": {},
   "source": [
    "#### 問題\n",
    "\n",
    "$k^* = k^*(s)$ をプロットしてください。$0 < s < 1$"
   ]
  },
  {
   "cell_type": "code",
   "execution_count": null,
   "metadata": {},
   "outputs": [],
   "source": [
    "## EXERCISE ##\n",
    "\n",
    "\n"
   ]
  },
  {
   "cell_type": "markdown",
   "metadata": {},
   "source": [
    "#### 効用最大化問題\n",
    "\n",
    "$$\n",
    "\\max_{x,y} x^{1/3} y^{2/3} \\quad \\text{s.t.} \\quad x + 3 y = 100\n",
    "$$\n",
    "\n",
    "これを解くためには，\n",
    "\n",
    "$$\n",
    "\\mathcal{L} = x^{1/3} y^{2/3} + \\lambda (100 - x - 3y)\n",
    "$$\n",
    "\n",
    "を最大にする $x$, $y$, $\\lambda$ を求めればよい。\n",
    "\n",
    "（制約付き最大化問題が制約なしの最大化問題に変換された）\n",
    "\n",
    "シンボリックに解いてみよう。"
   ]
  },
  {
   "cell_type": "code",
   "execution_count": null,
   "metadata": {},
   "outputs": [],
   "source": [
    "## EXERCISE ##"
   ]
  },
  {
   "cell_type": "code",
   "execution_count": null,
   "metadata": {},
   "outputs": [],
   "source": []
  }
 ],
 "metadata": {
  "kernelspec": {
   "display_name": "Python 3",
   "language": "python",
   "name": "python3"
  },
  "language_info": {
   "codemirror_mode": {
    "name": "ipython",
    "version": 3
   },
   "file_extension": ".py",
   "mimetype": "text/x-python",
   "name": "python",
   "nbconvert_exporter": "python",
   "pygments_lexer": "ipython3",
   "version": "3.7.6"
  }
 },
 "nbformat": 4,
 "nbformat_minor": 4
}
