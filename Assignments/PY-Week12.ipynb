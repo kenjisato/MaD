{
 "cells": [
  {
   "cell_type": "markdown",
   "metadata": {},
   "source": [
    "# Week 12: 資料兼課題\n",
    "\n",
    "## 0. この資料の目標\n",
    "\n",
    "### トピック\n",
    "\n",
    "- 最適成長モデル（ラムゼー・モデル）\n",
    "\n",
    "### モデルの概要\n",
    "\n",
    "- 企業の行動はソロー・モデルとほぼ同じ。\n",
    "- 家計は異時点間の最適化問題を解いて消費と貯蓄を決める。\n",
    "\n",
    "\n",
    "#### 企業の行動\n",
    "\n",
    "利潤最大化条件\n",
    "\n",
    "$$\n",
    "\\begin{aligned}\n",
    "\\frac{\\partial F}{\\partial K}(K_{t-1},A_{t-1}L_{t-1}) = f'(k_{t-1}) =r_{t}+\\delta\n",
    "\\end{aligned}\n",
    "$$\n",
    "\n",
    "- $\\delta$: 資本減耗率\n",
    "- $k_t = K_t/(A_t L_t)$: は効率労働当たりの資本。\n",
    "- $r$: 実質利子率\n",
    "\n",
    "これと資本蓄積の方程式が重要。\n",
    "\n",
    "$$\n",
    "K_{t}-K_{t-1}=Y_{t}-C_{t}-\\delta K_{t-1}\n",
    "$$\n",
    "\n",
    "$I = Y - C = S$ は投資。ソローモデルと違って，貯蓄（投資）が内生的に決まる。\n",
    "\n",
    "\n",
    "これを効率労働当たりの変数に書き換えたものが次の方程式。\n",
    "\n",
    "$$\n",
    "k_{t}=\\frac{f(k_{t-1})-c_{t}+(1-\\delta)k_{t-1}}{(1+g)(1+n)}\n",
    "$$\n",
    "\n",
    "\n",
    "\n",
    "#### 家計の行動\n",
    "\n",
    "- $\\bar{c} = C/L$: 1人当たりの消費, \n",
    "- $\\bar{s}$: 1人当たりの貯蓄,  \n",
    "- $w$: 労働所得,  \n",
    "- $\\beta$: 割引因子,  \n",
    "- $n$: 人口成長率,  \n",
    "- $u$: 瞬時効用関数,  \n",
    "- $r$: 実質利子率\n",
    "- $R_t$: 累積実質利子率を人口増加率で調整したもの\n",
    "\n",
    "家計は次の効用最大化問題を解く。\n",
    "\n",
    "$$\n",
    "\\begin{aligned}\n",
    "&\\max\\sum_{t=1}^{\\infty}\\left\\{ \\beta(1+n)\\right\\} ^{t-1}u(\\bar{c}_{t})\\\\\n",
    "&\\text{subject to}\\\\\n",
    "&\\qquad\\sum_{t=1}^{\\infty}\\frac{\\bar{c}_{t}}{1+R_{t}}\\le\\sum_{t=1}^{\\infty}\\frac{w_{t}}{1+R_{t}}+\\bar{s}_{0}\n",
    "\\end{aligned}\n",
    "$$\n",
    "\n",
    "隣り合う2期間について，2期間モデルと同様の最適条件が得られる。\n",
    "\n",
    "$$\n",
    "\\frac{u'(\\bar{c}_{t})}{u'(\\bar{c}_{t+1})}=\\beta(1+r_{t+1})\n",
    "$$\n",
    "\n",
    "CRRA効用関数 $u(c) = (c^{1-\\theta}-1) / (1-\\theta)$ を仮定，効率労働あたりの消費 $c_t = C_t / (A_{t-1}L_{t-1})$ に書き直すと次のように変形できる。\n",
    "\n",
    "$$\n",
    "\\frac{c_{t+1}}{c_{t}}\n",
    "=\\frac{\\left\\{ \\beta(1+r_{t+1})\\right\\} ^{1/\\theta}}{1+g}\n",
    "$$\n",
    "\n",
    "\n",
    "#### 均衡\n",
    "\n",
    "市場を通じて企業と家計が結びつく。特に，\n",
    "\n",
    "- 家計が直面する利子率，賃金は企業の生産活動によって決まる\n",
    "- 企業の投資資金は家計の貯蓄によって供給される。\n",
    "\n",
    "ことに注意すると，経済のダイナミクスは以下の方程式で定まることがわかる。\n",
    "\n",
    "\n",
    "$$\n",
    "\\begin{aligned}\n",
    "k_{t} &= \\frac{f(k_{t-1})-c_{t}+(1-\\delta)k_{t-1}}{(1+g)(1+n)}\\\\\n",
    "\\frac{c_{t+1}}{c_{t}}\n",
    "&= \\frac{\\left\\{ \\beta(1+r_{t+1})\\right\\} ^{1/\\theta}}{1+g}\n",
    "\\end{aligned}\n",
    "$$\n",
    "\n",
    "\n",
    "ただし，初期値は $k_0$ が与えられている。\n",
    "\n",
    "\n",
    "### 目標\n",
    "\n",
    "- ラムゼーモデルの数値解法の1つを身につける。\n",
    "- この資料の解法は，蓮見 (2020) 『動学マクロ経済学へのいざない』日本評論社 の2章を参考にした。\n",
    "\n",
    "### 提出方法\n",
    "\n",
    "Teams の課題として提出\n",
    "\n",
    "### 締切\n",
    "\n",
    "8月７日"
   ]
  },
  {
   "cell_type": "markdown",
   "metadata": {},
   "source": [
    "### 準備\n",
    "\n",
    "まず，必要なライブラリをインポートしてください。"
   ]
  },
  {
   "cell_type": "code",
   "execution_count": null,
   "metadata": {},
   "outputs": [],
   "source": [
    "import numpy as np\n",
    "from scipy.optimize import fsolve\n",
    "import matplotlib.pyplot as plt\n",
    "import sympy as sp\n",
    "sp.init_printing()"
   ]
  },
  {
   "cell_type": "markdown",
   "metadata": {},
   "source": [
    "## 考え方\n",
    "\n",
    "- 初期値の数が足りないので普通のシミュレーションの方法は使えない。\n",
    "- 終端条件（横断性条件）が最適性により定まるので，それを使う。\n",
    "\n",
    "次の連立方程式を解くことを考える。\n",
    "\n",
    "$$\n",
    "\\begin{align}\n",
    "k_{1} =\\frac{f(k_{0})-c_{1}+(1-\\delta)k_{0}}{(1+g)(1+n)},\n",
    "&\\quad \n",
    "c_{2} =\\frac{c_{1}\\left[\\beta\\left\\{ f'(k_{0})+1-\\delta\\right\\} \\right]^{1/\\theta}}{1+g}\n",
    "\\\\\n",
    "k_{2} =\\frac{f(k_{1})-c_{2}+(1-\\delta)k_{1}}{(1+g)(1+n)}, \n",
    "&\\quad\n",
    "c_{3} =\\frac{c_{2}\\left[\\beta\\left\\{ f'(k_{1})+1-\\delta\\right\\} \\right]^{1/\\theta}}{1+g}\n",
    "\\\\\n",
    "k_{3} =\\frac{f(k_{2})-c_{3}+(1-\\delta)k_{2}}{(1+g)(1+n)},\n",
    "&\\quad \n",
    "c_{4} =\\frac{c_{3}\\left[\\beta\\left\\{ f'(k_{2})+1-\\delta\\right\\} \\right]^{1/\\theta}}{1+g}\n",
    "\\\\\n",
    "\\qquad \\vdots\\\\\n",
    "k_{T} = \\frac{f(k_{T-1})-c_{T}+(1-\\delta)k_{T-1}}{(1+g)(1+n)}\n",
    "&\\quad \n",
    "c_{T+1} = \\frac{c_{T}\\left[\\beta\\left\\{ f'(k_{T})+1-\\delta\\right\\} \\right]^{1/\\theta}}{1+g}\n",
    "\\end{align}\n",
    "$$\n",
    "\n",
    "$k$, $c$ は $2T+2$個，方程式は $2T$ 個ある。$k_0$ は所与，$c_{T+1}$ は定常状態の値 $c^*$ で定めてやれば，未知数 $2T$個の $2T$本の連立方程式になるので，解くことができる。\n"
   ]
  },
  {
   "cell_type": "markdown",
   "metadata": {},
   "source": [
    "## Step 1. 定常状態を求める\n",
    "\n",
    "定常状態 $(k^*, c^*)$ は次の方程式を満たす。\n",
    "\n",
    "$$\n",
    "k^* =\\frac{f(k^*)-c^*+(1-\\delta)k^*}{(1+g)(1+n)},\n",
    "\\quad \n",
    "c^* =\\frac{c^*\\left[\\beta\\left\\{ f'(k^*)+1-\\delta\\right\\} \\right]^{1/\\theta}}{1+g}\n",
    "$$\n",
    "\n",
    "### シンボルの定義\n",
    "\n",
    "まずは定常状態を求めよう。必要なシンボルを導入する。"
   ]
  },
  {
   "cell_type": "code",
   "execution_count": null,
   "metadata": {},
   "outputs": [],
   "source": [
    "k1, k0, c1, c0, g, n = sp.symbols(\"_______________\")\n",
    "alpha, beta, delta, theta = sp.________(\"alpha beta delta theta\")"
   ]
  },
  {
   "cell_type": "markdown",
   "metadata": {},
   "source": [
    "生産関数はコブダグラス型とする。"
   ]
  },
  {
   "cell_type": "code",
   "execution_count": null,
   "metadata": {},
   "outputs": [],
   "source": [
    "f = sp.______(k0, k0**alpha)\n",
    "f(k0)"
   ]
  },
  {
   "cell_type": "markdown",
   "metadata": {},
   "source": [
    "### 動学方程式をシンボリックに表現する\n",
    "\n",
    "資本蓄積方程式に関連する均衡条件を次のように定義する。"
   ]
  },
  {
   "cell_type": "code",
   "execution_count": null,
   "metadata": {},
   "outputs": [],
   "source": [
    "EK = k1 - (f(k0) - c0 + (1 - delta) * k0) / ______ / _______ \n",
    "EK"
   ]
  },
  {
   "cell_type": "markdown",
   "metadata": {},
   "source": [
    "オイラー条件（最適消費の条件）に対応する均衡条件を次のように定義する。"
   ]
  },
  {
   "cell_type": "code",
   "execution_count": null,
   "metadata": {},
   "outputs": [],
   "source": [
    "EC = c1 - c0 * (beta * (________ + 1 - delta)) ** (1 / theta) / (1 + g)\n",
    "EC"
   ]
  },
  {
   "cell_type": "markdown",
   "metadata": {},
   "source": [
    "### 定常状態の方程式をシンボリックに表現する\n",
    "\n",
    "\n",
    "`k1 == k0`, `c1 == c0` となるのが定常状態。これを行列形式（列ベクトル）で表現しておきます。これがゼロになる"
   ]
  },
  {
   "cell_type": "code",
   "execution_count": null,
   "metadata": {},
   "outputs": [],
   "source": [
    "E = sp.Matrix([EK, EC]).subs({k1: _____, c1: _____})\n",
    "E"
   ]
  },
  {
   "cell_type": "markdown",
   "metadata": {},
   "source": [
    "### パラメータを代入して解を求める"
   ]
  },
  {
   "cell_type": "code",
   "execution_count": null,
   "metadata": {},
   "outputs": [],
   "source": [
    "params = {\n",
    "    alpha: 0.33,\n",
    "    delta: 0.03,\n",
    "    g: 0.02,\n",
    "    n: 0.01,\n",
    "    theta: 0.8,\n",
    "    beta: 0.98\n",
    "}"
   ]
  },
  {
   "cell_type": "markdown",
   "metadata": {},
   "source": [
    "数値関数に変換する。"
   ]
  },
  {
   "cell_type": "code",
   "execution_count": null,
   "metadata": {},
   "outputs": [],
   "source": [
    "E_lam = sp.lambdify([[k0, c0]], np.squeeze(E.subs(_____)))\n",
    "J_lam = ___________([[k0, c0]], E.jacobian([k0, c0]).subs(_____))"
   ]
  },
  {
   "cell_type": "markdown",
   "metadata": {},
   "source": [
    "解く。"
   ]
  },
  {
   "cell_type": "code",
   "execution_count": null,
   "metadata": {},
   "outputs": [],
   "source": [
    "ss = ______(func=E_lam, x0=[4, 4], fprime=J_lam)\n",
    "ss"
   ]
  },
  {
   "cell_type": "markdown",
   "metadata": {},
   "source": [
    "## Step 2. 均衡経路を求める\n",
    "\n",
    "### 準備\n",
    "\n",
    "シンボルを一度にたくさん作る方法を覚えておくと便利である。"
   ]
  },
  {
   "cell_type": "code",
   "execution_count": null,
   "metadata": {},
   "outputs": [],
   "source": [
    "x = sp.symbols(\"______\")\n",
    "x"
   ]
  },
  {
   "cell_type": "code",
   "execution_count": null,
   "metadata": {},
   "outputs": [],
   "source": [
    "x[4]"
   ]
  },
  {
   "cell_type": "code",
   "execution_count": null,
   "metadata": {},
   "outputs": [],
   "source": [
    "x[-2:]"
   ]
  },
  {
   "cell_type": "markdown",
   "metadata": {},
   "source": [
    "このようにして，シンボルのリストを作ることができる。"
   ]
  },
  {
   "cell_type": "markdown",
   "metadata": {},
   "source": [
    "### 変数\n",
    "\n",
    "求める時系列の長さを $T+1$ とすると，必要な変数は\n",
    "\n",
    "- $k_0, k_1, k_2, \\dots, k_T$\n",
    "- $c_1, c_2, c_3, \\dots, c_{T+1}$\n",
    "\n",
    "仮に `T = 80` とすれば，次のように書ける。"
   ]
  },
  {
   "cell_type": "code",
   "execution_count": null,
   "metadata": {},
   "outputs": [],
   "source": [
    "T = 80\n",
    "c = sp._____(f\"c[:{T+2}]\")\n",
    "k = sp._____(f\"k[:{T+1}]\")\n",
    "\n",
    "c[:3], c[-3:]"
   ]
  },
  {
   "cell_type": "markdown",
   "metadata": {},
   "source": [
    "### 最適経路が満たす方程式\n",
    "\n",
    "これを使って，最適経路が満たすべき均衡条件を定義する。`i = 0, 1, 2, ..., T-1` のそれぞれについて\n",
    "\n",
    "- `k0` → `k[i]`\n",
    "- `k1` → `k[i+1]`\n",
    "- `c0` → `c[i+1]`\n",
    "- `c1` → `c[i+2]`\n",
    "\n",
    "のように設定したものを並べればよい。"
   ]
  },
  {
   "cell_type": "code",
   "execution_count": null,
   "metadata": {},
   "outputs": [],
   "source": [
    "eqm = sp.Matrix([[EK._____({k0: k[i], k1: k[i+1], c0: c[i+1], c1: c[i+2]}),\n",
    "                  EC._____({k0: k[i], k1: k[i+1], c0: c[i+1], c1: c[i+2]})] \n",
    "                  for i in range(T)])\n",
    "eqm[:3, :]"
   ]
  },
  {
   "cell_type": "markdown",
   "metadata": {},
   "source": [
    "行列形式では `fsolve` に入れられないようなので，列を積んだベクトルに変換する。"
   ]
  },
  {
   "cell_type": "code",
   "execution_count": null,
   "metadata": {},
   "outputs": [],
   "source": [
    "eqm_col = eqm.T.reshape(2*T, 1)\n",
    "\n",
    "# eqm    # 結果はすごく長い"
   ]
  },
  {
   "cell_type": "markdown",
   "metadata": {},
   "source": [
    "### 解く"
   ]
  },
  {
   "cell_type": "code",
   "execution_count": null,
   "metadata": {},
   "outputs": [],
   "source": [
    "k_init = 1.0\n",
    "\n",
    "eqm_param = eqm_col.subs(params).subs({k[0]: ______, c[-1]: _____})\n",
    "eqm_param = np.squeeze(eqm_param)\n",
    "eqm_num = sp.lambdify([[*k[1:], *c[1:-1]]], eqm_param)\n",
    "solution = fsolve(eqm_num, x0=np.ones(2*T))"
   ]
  },
  {
   "cell_type": "markdown",
   "metadata": {},
   "source": [
    "k と c を分ける。"
   ]
  },
  {
   "cell_type": "code",
   "execution_count": null,
   "metadata": {},
   "outputs": [],
   "source": [
    "k_sol = np.r_[k_init, solution[:T]]\n",
    "c_sol = np.r_[solution[T:], ss[1]]\n",
    "k_sol, c_sol"
   ]
  },
  {
   "cell_type": "markdown",
   "metadata": {},
   "source": [
    "## Step 3. 可視化\n",
    "\n",
    "2次元ベクトルの時系列は位相図を使って描くとわかりやすい。横軸に $k_t$, 縦軸に $c_{t+1}$ を取ると次のようになる。"
   ]
  },
  {
   "cell_type": "code",
   "execution_count": null,
   "metadata": {},
   "outputs": [],
   "source": [
    "plt.______(k_sol[:-1], c_sol[:-1], \n",
    "           k_sol[1:] - k_sol[:-1], \n",
    "           c_sol[1:] - c_sol[:-1],\n",
    "           scale_units='xy', angles='xy', scale=1)\n",
    "\n",
    "plt.xlabel(r\"$k_{t}$\")\n",
    "plt.ylabel(r\"$c_{t+1}$\")\n",
    "plt.show()"
   ]
  },
  {
   "cell_type": "markdown",
   "metadata": {},
   "source": [
    "## Step 4. 一連の作業を関数にまとめる\n",
    "\n",
    "うまく行ったようだ。繰り返し実行したいひとまとまりの作業を関数にまとめておこう。"
   ]
  },
  {
   "cell_type": "code",
   "execution_count": null,
   "metadata": {},
   "outputs": [],
   "source": [
    "def solve_ss(eqm_k, eqm_c, param, x0):\n",
    "    c, k = sp.symbols(\"c, k\")\n",
    "    eqm = sp.Matrix([eqm_k._____({k0: k, k1: k, c0: c, c1: c}),\n",
    "                     eqm_c._____({k0: k, k1: k, c0: c, c1: c})])\n",
    "    \n",
    "    eqm_lam = sp.lambdify([[k, c]], np.squeeze(eqm.subs(_____)))\n",
    "    J_lam = sp.lambdify([[k, c]], eqm.jacobian([k, c]).subs(____))\n",
    "    \n",
    "    ss = ______(func=eqm_lam, x0=x0, fprime=J_lam)\n",
    "    return ss"
   ]
  },
  {
   "cell_type": "code",
   "execution_count": null,
   "metadata": {},
   "outputs": [],
   "source": [
    "def solve_optimal_growth(eqm_k, eqm_c, k_init, c_final, param, T):\n",
    "    \n",
    "    c = sp.symbols(f\"c[:{T+2}]\")\n",
    "    k = sp.symbols(f\"k[:{T+1}]\")\n",
    "    eqm = sp.Matrix([[eqm_k.subs({k0: k[i], k1: k[i+1], c0: c[i+1], c1: c[i+2]}),\n",
    "                      eqm_c.subs({k0: k[i], k1: k[i+1], c0: c[i+1], c1: c[i+2]})] \n",
    "                      for i in range(T)])\n",
    "    eqm_col = eqm.T.reshape(2*T, 1)\n",
    "    \n",
    "    eqm_param = eqm_col.subs(param).subs({k[0]: _____, c[-1]: _____})\n",
    "    eqm_param = np.squeeze(eqm_param)\n",
    "    \n",
    "    eqm_num = sp.lambdify([[*k[1:], *c[1:-1]]], eqm_param)\n",
    "    solution = fsolve(eqm_num, x0=np.ones(2*T))\n",
    "    \n",
    "    k_sol = np.r_[_____, solution[:T]]\n",
    "    c_sol = np.r_[solution[T:], _____]\n",
    "    \n",
    "    return (k_sol, c_sol)"
   ]
  },
  {
   "cell_type": "code",
   "execution_count": null,
   "metadata": {},
   "outputs": [],
   "source": [
    "params"
   ]
  },
  {
   "cell_type": "code",
   "execution_count": null,
   "metadata": {},
   "outputs": [],
   "source": [
    "ss1 = solve_ss(_____, ______, _____, x0=[4, 4])\n",
    "ss1"
   ]
  },
  {
   "cell_type": "code",
   "execution_count": null,
   "metadata": {},
   "outputs": [],
   "source": [
    "solve_optimal_growth(_____, _____, 1.0, ss1[1], params, 80)"
   ]
  },
  {
   "cell_type": "markdown",
   "metadata": {},
   "source": [
    "## Step 5. 比較動学分析\n",
    "\n",
    "例えば，次のようなシナリオを考えよう。\n",
    "\n",
    "- 元のパラメータに対する定常状態にある経済を考える。\n",
    "- 突然，$g$ が 0.02 から 0.03 に上昇した。\n"
   ]
  },
  {
   "cell_type": "code",
   "execution_count": null,
   "metadata": {},
   "outputs": [],
   "source": [
    "params.update({g: _____})\n",
    "ss2 = ______(EK, EC, params, x0=[4, 4])\n",
    "sol2 = ______(EK, EC, ss1[0], ss2[1], params, 80)"
   ]
  },
  {
   "cell_type": "code",
   "execution_count": null,
   "metadata": {},
   "outputs": [],
   "source": [
    "k_sol2 = np.r_[ss1[0], sol2[0]]    # 当初 ss1 にいる経済を考えていることに注意\n",
    "c_sol2 = np.r_[ss1[1], sol2[1]]\n",
    "\n",
    "plt.quiver(k_sol2[:-1], c_sol2[:-1], \n",
    "           k_sol2[1:] - k_sol2[:-1], \n",
    "           c_sol2[1:] - c_sol2[:-1],\n",
    "           scale_units='xy', angles='xy', scale=1)\n",
    "\n",
    "plt.xlabel(r\"$k_{t}$\")\n",
    "plt.ylabel(r\"$c_{t+1}$\")\n",
    "plt.show()"
   ]
  },
  {
   "cell_type": "markdown",
   "metadata": {},
   "source": [
    "$g$ が突然増加すると，\n",
    "\n",
    "- 資本（効率労働あたり）は緩やかに減少する\n",
    "- 消費（効率労働あたり）は瞬間的に増えて，徐々に減少しはじめる。\n",
    "\n",
    "このような突然の消費の変化は，貯蓄率の変化を除いて，ソローモデルでは起こらない。ラムゼーモデルでは，成長率の変化によって，効率労働1単位あたりの分け前が将来的にも減少することを織り込んで行動するので，変化が現時点で発生する。\n",
    "\n",
    "このように，**将来的な経済環境の変化を織り込んだ家計の行動分析ができるようになるので，ラムゼーモデルは多くのマクロモデルの基礎理論として使われている**。\n",
    "\n",
    "ここから先の流れを大雑把に言えば，\n",
    "\n",
    "- ラムゼーモデルに内生的な労働供給を組み込んだリアル・ビジネス・サイクルモデル（RBCモデル）\n",
    "- RBCモデルに市場不完全性を組み込んだ種々のニューケインジアンタイプのモデル（DSGEモデル）\n",
    "- 代表的個人の仮定を弱めた，異質な個人からなるニューケインジアンモデル（HANKモデル）\n",
    "\n",
    "のように発展していく。このDSGEモデル, HANKモデルが経済政策分析の主要ツールになっている。\n",
    "\n",
    "\n"
   ]
  },
  {
   "cell_type": "markdown",
   "metadata": {},
   "source": [
    "## **** おわり ****\n",
    "\n",
    "開講当初は，ニューケインジアンのモデルにまで進みたいという思っていたのですが，キリがよくなったので，これで授業は終わりにしたいと思います。あとは引き続き学ぶ意欲のある方が，ご自身で勉強を進めていく方がよい気がしてきました。（すでにだいぶ詰め込んだ気がしますので）\n",
    "\n",
    "この授業の内容では物足りないという人が進んだ内容を学ぶためには，大学院向けの教科書を選ぶことになると思います。以下の2冊＋雑誌の連載をおすすめします。\n",
    "\n",
    "- 蓮見亮 (2020)『動学マクロ経済学へのいざない』日本評論社\n",
    "- 加藤涼 (2006)『現代マクロ経済学講義』東洋経済新報社\n",
    "- 北尾他 (2019-2020) 『経済セミナー』の連載\n",
    "\n"
   ]
  },
  {
   "cell_type": "markdown",
   "metadata": {},
   "source": [
    "## **** アンケート ****\n",
    "\n",
    "回答方法:\n",
    "\n",
    "[x] チェックしている  \n",
    "[ ] チェックしていない\n",
    "\n",
    "### 難易度\n",
    "\n",
    "[ ] 簡単  \n",
    "[ ] 普通  \n",
    "[ ] 難しい \n",
    "\n",
    "### トピック\n",
    "\n",
    "[ ] 少ない  \n",
    "[ ] 普通  \n",
    "[ ] 多い  \n",
    "\n",
    "### トピックの選択\n",
    "\n",
    "[ ] 悪い  \n",
    "[ ] 普通  \n",
    "[ ] 良い  \n",
    "\n",
    "「悪い」を選んだ人は，どのようなトピックを学びたかったですか？:\n",
    "\n",
    "\n",
    "\n",
    "### 授業方法\n",
    "\n",
    "マクロ関連理論を Python でコーディングするという方針について，どういう印象を受けましたか。\n",
    "\n",
    "[ ] Python が難しすぎてマクロ経済理論の勉強に集中できない  \n",
    "[ ] 無  \n",
    "[ ] マクロ経済理論をよりよく学ぶことができる  \n",
    "\n",
    "\n",
    "\n",
    "### 感想\n",
    "\n",
    "以下，感想を自由にお書きください。\n",
    "\n"
   ]
  },
  {
   "cell_type": "markdown",
   "metadata": {},
   "source": [
    "--- ココに書く ---\n",
    "\n",
    "\n",
    "\n",
    "\n"
   ]
  }
 ],
 "metadata": {
  "kernelspec": {
   "display_name": "Python 3",
   "language": "python",
   "name": "python3"
  },
  "language_info": {
   "codemirror_mode": {
    "name": "ipython",
    "version": 3
   },
   "file_extension": ".py",
   "mimetype": "text/x-python",
   "name": "python",
   "nbconvert_exporter": "python",
   "pygments_lexer": "ipython3",
   "version": "3.7.6"
  }
 },
 "nbformat": 4,
 "nbformat_minor": 4
}
