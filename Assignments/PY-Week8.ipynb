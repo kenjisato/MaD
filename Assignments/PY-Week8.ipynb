{
 "cells": [
  {
   "cell_type": "markdown",
   "metadata": {},
   "source": [
    "# Week 8: 資料兼課題\n",
    "\n",
    "## 0. この資料の目標\n",
    "\n",
    "第8,9週の授業でソローモデルのシミュレーションを行います。関数定義，高階関数など，やや抽象度の高い機能を使うので，今週はまずは関数の作り方に習熟しましょう。プログラミング学習における認知的な負荷が上がる部分だと思うので，手を動かしながら進めます。\n",
    "\n",
    "\n",
    "下記の課題I, II, III に答えてください。第8週の授業に参加している方は，授業内で取り組みます。\n",
    "\n",
    "- コードの一部が `_______` となっているものがあります。これは「穴埋め」問題です。適切なコードに書き換えて実行してください。\n",
    "- `assert` から始まる文は書いたコードが期待通り動いているかをチェックするためのテスト用コードです。消さないでください。期待通り動いている場合は何も起こりません。\n",
    "- コードの中には前後に依存関係のあるものがあります。すべてのコードを上から順に実行してください。\n",
    "\n",
    "### 0.1. 提出方法\n",
    "\n",
    "MS Teams の対応する課題に ipynb ファイルを添付して提出する。  \n",
    "\n",
    "- 提出前に Kernel > Restart Kernel and Run All Cells... を実行して，エラーが生じないことを確認してください。\n",
    "\n",
    "### 0.2. 締切\n",
    "\n",
    "2020/7/2"
   ]
  },
  {
   "cell_type": "markdown",
   "metadata": {},
   "source": [
    "### 0.3. 準備\n",
    "\n",
    "まず，必要なライブラリをインポートしてください。"
   ]
  },
  {
   "cell_type": "code",
   "execution_count": null,
   "metadata": {},
   "outputs": [],
   "source": [
    "import numpy as np\n",
    "import pandas as pd\n",
    "import matplotlib.pyplot as plt"
   ]
  },
  {
   "cell_type": "markdown",
   "metadata": {},
   "source": [
    "図の画質を上げるために次のコードを実行しておきます。Word ファイルにドラッグ&ドロップで貼り付ける場合などに便利です。  \n",
    "※ dpi = dot per inch, 1インチにどれだけの点を打つか。"
   ]
  },
  {
   "cell_type": "code",
   "execution_count": null,
   "metadata": {},
   "outputs": [],
   "source": [
    "import matplotlib\n",
    "matplotlib.rcParams['figure.dpi'] = 196"
   ]
  },
  {
   "cell_type": "markdown",
   "metadata": {},
   "source": [
    "## I. 課題:  関数定義\n",
    "\n",
    "数学関数を表現する Python の関数を定義しよう。\n",
    "\n",
    "#### (1) 1変数関数\n",
    "\n",
    "$$\n",
    "f(x) = 3x\n",
    "$$\n",
    "\n",
    "- $f(10) = ?$  \n",
    "- $f(-5) = ?$\n",
    "\n",
    "[解答]"
   ]
  },
  {
   "cell_type": "code",
   "execution_count": null,
   "metadata": {},
   "outputs": [],
   "source": [
    "## EXERCISE ## \n",
    "\n",
    "def f(x):\n",
    "    return _______"
   ]
  },
  {
   "cell_type": "markdown",
   "metadata": {},
   "source": [
    "**[問題]** $f(10)$ と $f(-5)$ を計算してください。"
   ]
  },
  {
   "cell_type": "code",
   "execution_count": null,
   "metadata": {},
   "outputs": [],
   "source": []
  },
  {
   "cell_type": "code",
   "execution_count": null,
   "metadata": {},
   "outputs": [],
   "source": []
  },
  {
   "cell_type": "markdown",
   "metadata": {},
   "source": [
    "#### (2) 2変数関数\n",
    "\n",
    "$$\n",
    "g(x, y) = \\frac{x^2}{\\sqrt{y}}\n",
    "$$\n",
    "\n",
    "- $g(1, 2) = ?$\n",
    "- $g(8, 9) = ?$\n",
    "\n",
    "[解答]"
   ]
  },
  {
   "cell_type": "code",
   "execution_count": null,
   "metadata": {},
   "outputs": [],
   "source": [
    "## EXERCISE ## \n",
    "\n",
    "def g(__, __):\n",
    "    ______ x**2 / y**(0.5)"
   ]
  },
  {
   "cell_type": "code",
   "execution_count": null,
   "metadata": {},
   "outputs": [],
   "source": [
    "# テスト: エラーが出なければ OK\n",
    "assert np.allclose(g(3, 4), 4.5)"
   ]
  },
  {
   "cell_type": "markdown",
   "metadata": {},
   "source": [
    "**[問題]** $g(1,2)$ と $g(8,9)$ を計算してください。"
   ]
  },
  {
   "cell_type": "code",
   "execution_count": null,
   "metadata": {},
   "outputs": [],
   "source": [
    "## EXERCISE ## \n",
    "\n"
   ]
  },
  {
   "cell_type": "code",
   "execution_count": null,
   "metadata": {},
   "outputs": [],
   "source": [
    "## EXERCISE ## \n",
    "\n"
   ]
  },
  {
   "cell_type": "markdown",
   "metadata": {},
   "source": [
    "**[問題]** $f(3) g(1, 2)$ を計算してください。"
   ]
  },
  {
   "cell_type": "code",
   "execution_count": null,
   "metadata": {},
   "outputs": [],
   "source": []
  },
  {
   "cell_type": "markdown",
   "metadata": {},
   "source": [
    "#### (3)　生産関数（コブダグラス型を一般化したもの）\n",
    "\n",
    "CES生産関数（収穫一定のケース）\n",
    "\n",
    "$$\n",
    "F_{a,r}(K, L, A) = [aK^r + (1-a)(AL)^r]^{1/r}\n",
    "$$\n",
    "\n",
    "$a = 0.3$, $r = 0.6$ と特定化する。"
   ]
  },
  {
   "cell_type": "code",
   "execution_count": null,
   "metadata": {},
   "outputs": [],
   "source": [
    "a = 0.3\n",
    "r = 0.6\n",
    "\n",
    "def Far(K, L, A):\n",
    "    return (________ + (1 - a) * (A * L)**r)**(1 / r)"
   ]
  },
  {
   "cell_type": "code",
   "execution_count": null,
   "metadata": {},
   "outputs": [],
   "source": [
    "# テスト: エラーが出なければ成功\n",
    "assert np.allclose(Far(1, 1, 1), 1.0)\n",
    "assert np.allclose(Far(1, 2, 3), 4.157076461754254)\n",
    "assert np.allclose(Far(3, 2, 1), 2.2829425691845024)"
   ]
  },
  {
   "cell_type": "markdown",
   "metadata": {},
   "source": [
    "**[問題]** $K, L$ について規模に関する収穫一定が成り立つことを数値的に確認してください。\n",
    "\n",
    "$$\n",
    "F_{a,r}(cK, cL, A) = c F_{a, r}(K, L, A), \\qquad c \\ge 0\n",
    "$$"
   ]
  },
  {
   "cell_type": "code",
   "execution_count": null,
   "metadata": {},
   "outputs": [],
   "source": [
    "## EXERCISE ##\n",
    "\n",
    "K = np.linspace(0.01, 4, 100)  # [0.01, 4.0] を等間隔に分割して 長さ100のベクトルを作る\n",
    "L = np.linspace(0.01, 4, 100)\n",
    "K, L = np.meshgrid(K, L)       # 格子上に評価点を用意, K,L は行列になる\n",
    "A = 5\n",
    "\n",
    "c = 10\n",
    "_________ / Far(K, L, A)"
   ]
  },
  {
   "cell_type": "markdown",
   "metadata": {},
   "source": [
    "#### (おまけ) 等高線を描く\n",
    "\n",
    "`np.meshgrid()` で作った格子状で関数を評価して `plt.contour()` に渡す。色の変え方とかはマニュアル参照。\n",
    "\n",
    "2変数関数のプロットは `np.meshgrid()` を使うので覚えておこう。（すでに上で実行している）"
   ]
  },
  {
   "cell_type": "code",
   "execution_count": null,
   "metadata": {},
   "outputs": [],
   "source": [
    "plt.contour(K, L, Far(K, L, A), levels=30);"
   ]
  },
  {
   "cell_type": "markdown",
   "metadata": {},
   "source": [
    "#### (4) 関数を作る関数\n",
    "\n",
    "パラメータ $(a, r)$ から CES関数 $F_{ar}$ を作る関数。\n",
    "\n",
    "$$\n",
    "\\mathrm{CES} : (a, r) \\mapsto F_{a,r}\n",
    "$$\n"
   ]
  },
  {
   "cell_type": "code",
   "execution_count": null,
   "metadata": {},
   "outputs": [],
   "source": [
    "def CES(a, r):\n",
    "    def Far(K, L, A):\n",
    "        return (a * K**r + (1 - a) * (A * L)**r)**(1 / r)\n",
    "    return ______"
   ]
  },
  {
   "cell_type": "markdown",
   "metadata": {},
   "source": [
    "この関数 `CES` を使って $F_{0.5, 0.5}$ を定義してください。"
   ]
  },
  {
   "cell_type": "code",
   "execution_count": null,
   "metadata": {},
   "outputs": [],
   "source": [
    "F0505 = ____________"
   ]
  },
  {
   "cell_type": "markdown",
   "metadata": {},
   "source": [
    "普通の関数と同じように使うことができます。"
   ]
  },
  {
   "cell_type": "code",
   "execution_count": null,
   "metadata": {},
   "outputs": [],
   "source": [
    "F0505(1, 2, 3)"
   ]
  },
  {
   "cell_type": "markdown",
   "metadata": {},
   "source": [
    "#### (おまけ) 等高線図をたくさん描く\n",
    "\n",
    "高階関数を作っておくと，色々な $a$, $r$ の値の組合せの図を作るときに便利。\n",
    "\n",
    "$a$ と $r$ の関係が見えるだろうか？"
   ]
  },
  {
   "cell_type": "code",
   "execution_count": null,
   "metadata": {},
   "outputs": [],
   "source": [
    "av = [0.2, 0.4, 0.6]\n",
    "rv = [-0.5, 0.01, 0.7]\n",
    "\n",
    "fig, axes = plt.subplots(len(av), len(rv), figsize=(10, 10))\n",
    "\n",
    "for i in range(len(av)):\n",
    "    for j in range(len(rv)):\n",
    "        axes[i, j].contour(K, L, CES(av[i], rv[j])(K, L, A))\n",
    "        axes[i, j].set_title(f'a={av[i]}, r={rv[j]}')"
   ]
  },
  {
   "cell_type": "markdown",
   "metadata": {},
   "source": [
    "## II. 課題: 価格指数の計算\n",
    "\n",
    "価格指数の計算を関数化しておきましょう。（期末試験対策！）\n",
    "\n",
    "関数を作るときには，\n",
    "\n",
    "- 使用法\n",
    "- 汎用性\n",
    "- 安全性\n",
    "- 名称\n",
    "- ドキュメンテーションの必要性\n",
    "\n",
    "などを考えておくことが重要です。\n",
    "\n",
    "### 使用法を想定する\n",
    "\n",
    "\n",
    "例えば，`price`, `quantity` を　Numpy 配列と想定して，\n",
    "\n",
    "```python\n",
    "laspeyres(price, quantity)\n",
    "paasche(price, quantity)\n",
    "```\n",
    "\n",
    "とするとか，同じ期の価格と数量をまとめた方がわかりやすい場合には，\n",
    "\n",
    "\n",
    "```python\n",
    "laspeyres([p0, q0], [p1, q1], [p2, q2])\n",
    "```\n",
    "\n",
    "とするという手もあるかもしれません。\n",
    "\n",
    "\n",
    "あるいは，`laspeyres`, `paasche` などと関数を分けずに，\n",
    "\n",
    "```python\n",
    "price_index(price, quantity, method=\"paasche\")\n",
    "```\n",
    "\n",
    "引数を変えると計算方法が変わるように作ることもできます。もっと言えば，価格指数の計算公式で価格・数量を反転させれば数量も計算できることを考えると，\n",
    "\n",
    "```python\n",
    "chained_index(target, weight, method=\"paasche\", initial=100.)\n",
    "```\n",
    "\n",
    "と書けるようにしておいて，\n",
    "\n",
    "\n",
    "`chained_index(price, quantity)` で価格指数， `compute_index(quantity, price)` で数量指数が計算できるようにしておくのもよいかもしれません。\n",
    "\n",
    "### 汎用性\n",
    "\n",
    "`price`, `quantity` を関数にわたす前に，`np.array` で Numpy 配列に変換する必要があるのか，あるいは，リストのリストを渡せば関数内部で必要な変換を行うようにするのか？\n",
    "\n",
    "こういった重要な設計上の方針を決定する必要があります。汎用性は管理しやすさとトレードオフがあるので，小さな仕事をする関数をたくさん組み合わせる方がよいかもしれません。（個人的な意見です）\n",
    "\n",
    "\n",
    "### 安全性\n",
    "\n",
    "先程書いた「安全性」というのは，例えば「`method=\"paasche\"`」の代わりに `method=\"pasche\"` と書いた場合にどう振る舞うか？という考え方に関係しています。本来許されないはずの引数が渡されたときにエラーを発出するか，あるいはよくわからない計算結果を出すか，どちらが「安全」でしょうか？\n",
    "\n",
    "安全性と管理のしやすさにもトレードオフがあるので，個人プロジェクトで使う小さな関数にガチガチのエラーチェック（「例外処理」といいます）を入れるのは好ましくありません。\n",
    "\n",
    "関数のユーザーが入力に入るべき値を理解している環境かどうかを把握して設計します。\n",
    "\n",
    "\n",
    "### 名称\n",
    "\n",
    "関数に与えられた仕事を明確に表す，英語の関数名をつけます。\n",
    "\n",
    "複数の単語をつなぐ方法には\n",
    "\n",
    "- スネークケース（蛇のニョロニョロのイメージ）: snake_case, camel_case\n",
    "- キャメルケース（ラクダのコブ）: snakeCase, camelCase\n",
    "\n",
    "の2つがあります。Python の関数名にはスネークケースがよく使われます。\n",
    "\n",
    "引数にも役割を表す明確な名前をつけます。英単語が望ましいです。付属資料の数式と対応している場合には，数式と同じ記号を使っても構いません。\n",
    "\n",
    "\n",
    "### ドキュメンテーション\n",
    "\n",
    "重要な関数はドキュメンテーションを自分のために残しておくとよいでしょう。\n",
    "関数の中に，複数行のテキストの記法 `\"\"\" .... \"\"\"` を使って書きます。\n",
    "\n",
    "\n",
    "### 関数定義の例"
   ]
  },
  {
   "cell_type": "code",
   "execution_count": null,
   "metadata": {},
   "outputs": [],
   "source": [
    "def chained_index(target, weight, method=\"laspeyres\", initial=100.):\n",
    "    \"\"\"Compute index numbers.\n",
    "    \n",
    "    Parameters\n",
    "    ----------\n",
    "    target : array\n",
    "        Array with shape (n, k), data for n years and for k goods.\n",
    "        \n",
    "        \n",
    "    weight : array\n",
    "        Array with shape (n, k), data for n years and for k goods.\n",
    "    method [str] paasche, laspeyres, or fisher\n",
    "    \n",
    "    Returns\n",
    "    -------\n",
    "    Chained index numbers, ndarray with shape (n, ).\n",
    "            \n",
    "    \"\"\"\n",
    "    \n",
    "    T = target.shape[0]\n",
    "    \n",
    "    def paasche():\n",
    "        index = np.empty(T)\n",
    "        index[0] = initial\n",
    "        for t in range(1, T):\n",
    "            index[t] = index[t-1] * (\n",
    "                            np.sum(target[t, :] * weight[t, :]) \n",
    "                           / np.sum(target[t-1, :] * weight[t, :]))\n",
    "        return index\n",
    "    \n",
    "    def laspeyres():\n",
    "        index = np.empty(T)\n",
    "        index[0] = initial\n",
    "        for t in range(1, T):\n",
    "            index[t] = index[t-1] * (\n",
    "                            np.sum(target[t, :] * weight[t-1, :]) \n",
    "                           / np.sum(target[t-1, :] * weight[t-1, :]))\n",
    "        return index\n",
    "    \n",
    "    \n",
    "    if method.lower() == \"paasche\":\n",
    "        return paasche()\n",
    "    elif method.lower() == \"laspeyres\":\n",
    "        return laspeyres()\n",
    "    elif method.lower() == \"fisher\":\n",
    "        return np.sqrt(paashe() * laspeyres())\n",
    "    else:\n",
    "        raise(\"Possible options for method argument: 'paasche', 'laspeyres', or 'fisher'\")"
   ]
  },
  {
   "cell_type": "markdown",
   "metadata": {},
   "source": [
    "### 使用例\n",
    "\n",
    "#### week03.pdf, p. 28 の例"
   ]
  },
  {
   "cell_type": "code",
   "execution_count": null,
   "metadata": {},
   "outputs": [],
   "source": [
    "price28 = np.array([[40, 80], [80, 30]])\n",
    "quantity28 = np.array([[3, 6], [5, 7]])\n",
    "\n",
    "chained_index(_____, _____, method=\"laspeyres\", initial=1.)"
   ]
  },
  {
   "cell_type": "markdown",
   "metadata": {},
   "source": [
    "#### week03.pdf, p. 30の例"
   ]
  },
  {
   "cell_type": "code",
   "execution_count": null,
   "metadata": {},
   "outputs": [],
   "source": [
    "price30 = np.array([[40, 80], [80, 30], [70, 40], [60, 55]])\n",
    "quantity30 = np.array([[3, 6], [5, 7], [6, 8], [8, 10]])\n",
    "\n",
    "PL = _______(price30, quantity30, method=_________, initial=1.)\n",
    "PP = _______(price30, quantity30, method=_________, initial=1.)\n",
    "\n",
    "plt.plot(PL, label=\"laspeyres\")\n",
    "plt.plot(PP, label=\"paasche\")"
   ]
  },
  {
   "cell_type": "markdown",
   "metadata": {},
   "source": [
    "#### 実質GDP, week04.pdf, p.15 の例"
   ]
  },
  {
   "cell_type": "code",
   "execution_count": null,
   "metadata": {},
   "outputs": [],
   "source": [
    "price15 = np.array([[100, 100, 100],\n",
    "                    [101, 99, 103],\n",
    "                    [100, 98, 104],\n",
    "                    [99, 97, 106.]])\n",
    "quantity15 = np.array([[1000, 2000, 500],\n",
    "                       [980, 1980, 510],\n",
    "                       [1010, 1990, 520],\n",
    "                       [1005, 2005, 530.]])"
   ]
  },
  {
   "cell_type": "markdown",
   "metadata": {},
   "source": [
    "連鎖方式の実質GDPは\n",
    "\n",
    "- 数量指数（数量が target）\n",
    "- Laspeyres 指数\n",
    "- 初期値が基準年の名目GDPである。\n",
    "\n",
    "これに注意して計算してみよう。"
   ]
  },
  {
   "cell_type": "code",
   "execution_count": null,
   "metadata": {},
   "outputs": [],
   "source": [
    "chained_index(_______, _______, method=_______, \n",
    "              initial=np.dot(price15[0, :], quantity15[0, :]))"
   ]
  },
  {
   "cell_type": "markdown",
   "metadata": {},
   "source": [
    "## 課題: 貧困率の計算\n",
    "\n",
    "所得の Numpy array `x` が与えられたときに，\n",
    "\n",
    "- 相対的貧困率を計算する `relative_poverty`\n",
    "- Gini係数を計算する `gini`\n",
    "\n",
    "を定義しよう。\n",
    "\n",
    "参考: \n",
    "- https://github.com/kenjisato/MaD/blob/master/Lecture%20Slides/week05.pdf\n",
    "- https://github.com/kenjisato/MaD/blob/master/Jupyter/week05.ipynb"
   ]
  },
  {
   "cell_type": "markdown",
   "metadata": {},
   "source": [
    "#### 相対的貧困"
   ]
  },
  {
   "cell_type": "code",
   "execution_count": null,
   "metadata": {},
   "outputs": [],
   "source": [
    "def relative_poverty(x):\n",
    "    \"\"\"Computes relative poverty rate\"\"\"\n",
    "    \n",
    "    "
   ]
  },
  {
   "cell_type": "code",
   "execution_count": null,
   "metadata": {},
   "outputs": [],
   "source": [
    "## TEST ##\n",
    "y = np.array([404.145188, 404.145188, 404.145188, 707.106781, 707.106781, 250, 150])\n",
    "assert np.allclose(relative_poverty(y), 14.285714285714285)"
   ]
  },
  {
   "cell_type": "markdown",
   "metadata": {},
   "source": [
    "#### Gini 係数"
   ]
  },
  {
   "cell_type": "code",
   "execution_count": null,
   "metadata": {},
   "outputs": [],
   "source": [
    "def gini(x):\n",
    "    \"\"\"Computes Gini coefficient\"\"\"\n",
    "    "
   ]
  },
  {
   "cell_type": "code",
   "execution_count": null,
   "metadata": {},
   "outputs": [],
   "source": [
    "## TEST ##\n",
    "y = np.array([ 46.,  10.,  37.,  38.,  17.,  30.,  49.,  37.,  21.,  22., 155.,\n",
    "               97., 149., 148., 151., 172., 144., 166., 199.,  95.])\n",
    "assert np.allclose(gini(y), 0.39189568143578235)"
   ]
  }
 ],
 "metadata": {
  "kernelspec": {
   "display_name": "Python 3",
   "language": "python",
   "name": "python3"
  },
  "language_info": {
   "codemirror_mode": {
    "name": "ipython",
    "version": 3
   },
   "file_extension": ".py",
   "mimetype": "text/x-python",
   "name": "python",
   "nbconvert_exporter": "python",
   "pygments_lexer": "ipython3",
   "version": "3.7.6"
  }
 },
 "nbformat": 4,
 "nbformat_minor": 4
}
