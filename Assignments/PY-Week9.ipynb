{
 "cells": [
  {
   "cell_type": "markdown",
   "metadata": {},
   "source": [
    "# Week 9: 資料兼課題\n",
    "\n",
    "## 0. この資料の目標\n",
    "\n",
    "今週の授業では，ソローモデルのシミュレーションを完成させます。\n",
    "\n",
    "下記の課題I, II, III に答えてください。第9週のリアルタイムセッションに参加している方は，授業内で取り組みます。\n",
    "\n",
    "- コードの一部が `_______` となっているものがあります。これは「穴埋め」問題です。適切なコードに書き換えて実行してください。\n",
    "- `assert` から始まる文は書いたコードが期待通り動いているかをチェックするためのテスト用コードです。消さないでください。期待通り動いている場合は何も起こりません。\n",
    "- コードの中には前後に依存関係のあるものがあります。すべてのコードを上から順に実行してください。\n",
    "\n",
    "### 0.1. 提出方法\n",
    "\n",
    "MS Teams の対応する課題に ipynb ファイルを添付して提出する。  \n",
    "\n",
    "- 提出前に Kernel > Restart Kernel and Run All Cells... を実行して，エラーが生じないことを確認してください。\n",
    "\n",
    "### 0.2. 締切\n",
    "\n",
    "2020/7/9"
   ]
  },
  {
   "cell_type": "markdown",
   "metadata": {},
   "source": [
    "### 0.3. 準備\n",
    "\n",
    "まず，必要なライブラリをインポートしてください。"
   ]
  },
  {
   "cell_type": "code",
   "execution_count": null,
   "metadata": {},
   "outputs": [],
   "source": [
    "import _____ as np\n",
    "import _____ as pd\n",
    "import _____.pyplot as plt"
   ]
  },
  {
   "cell_type": "markdown",
   "metadata": {},
   "source": [
    "図の画質を上げるために次のコードを実行しておきます。Word ファイルにドラッグ&ドロップで貼り付ける場合などに便利です。  \n",
    "※ dpi = dot per inch, 1インチにどれだけの点を打つか。"
   ]
  },
  {
   "cell_type": "code",
   "execution_count": null,
   "metadata": {},
   "outputs": [],
   "source": [
    "import matplotlib\n",
    "matplotlib.rcParams['figure.dpi'] = 150"
   ]
  },
  {
   "cell_type": "markdown",
   "metadata": {},
   "source": [
    "## I. ソロー・モデルの時間発展ルール\n",
    "\n",
    "ソローモデルのセットアップをします。\n",
    "\n",
    "$$\n",
    "\\begin{aligned}\n",
    "    K_t &= sF(K_{t-1}, L_{t-1}, A_{t-1}) + (1 - \\delta) K_{t-1}\\\\\n",
    "    L_t &= (1 + n) L_{t-1}\\\\\n",
    "    A_t &= (1 + g) A_{t-1}\n",
    "\\end{aligned}\n",
    "$$\n",
    "\n",
    "ここで各変数，パラメータの意味は以下の通り。\n",
    "\n",
    "- $K$: 資本ストック, 上記の「資本蓄積方程式」に従って変化\n",
    "- $s$: 貯蓄率\n",
    "- $\\delta$: 資本減耗率\n",
    "- $L$: 労働, 成長率 $n$ で変化\n",
    "- $A$: 技術ストック, 成長率 $g$ で変化\n",
    "\n",
    "\n",
    "\n",
    "#### (1) 生産関数\n",
    "\n",
    "生産関数はコブダグラス型，技術進歩は労働節約的とします。\n",
    "\n",
    "$$F_\\alpha (K, L, A) = K^\\alpha (A L)^{1-\\alpha}$$\n",
    "\n",
    "\n",
    "$\\alpha \\in [0, 1]$ を入力すると，コブ=ダグラス型生産関数 $F_\\alpha$ を出力する Python の関数 `cd_factory` を定義しなさい。\n",
    "\n",
    "[解答]"
   ]
  },
  {
   "cell_type": "code",
   "execution_count": null,
   "metadata": {},
   "outputs": [],
   "source": [
    "## EXERCISE ## \n",
    "\n",
    "def cd_factory(a):\n",
    "    def Fa(K, L, A):\n",
    "        return _________\n",
    "    return ________"
   ]
  },
  {
   "cell_type": "code",
   "execution_count": null,
   "metadata": {},
   "outputs": [],
   "source": [
    "## TEST ##\n",
    "assert np.allclose(cd_factory(1)(1, 1, 1), 1)\n",
    "assert np.allclose(cd_factory(0)(1, 1, 2), 2)\n",
    "assert np.allclose(cd_factory(0.5)(4, 2, 2), 4)"
   ]
  },
  {
   "cell_type": "markdown",
   "metadata": {},
   "source": [
    "#### (2) 時間発展ルール\n",
    "\n",
    "上記のソロー・モデルの式は $(t-1)$期の情報から $t$期の情報を作るルールになっています。\n",
    "\n",
    "$$\n",
    "\\begin{bmatrix}\n",
    "  K_{t-1}\\\\\n",
    "  L_{t-1}\\\\\n",
    "  A_{t-1}\n",
    "\\end{bmatrix}\n",
    "\\mapsto\n",
    "\\begin{bmatrix}\n",
    "  K_{t}\\\\\n",
    "  L_{t}\\\\\n",
    "  A_{t}\n",
    "\\end{bmatrix}\n",
    "=\n",
    "\\begin{bmatrix}\n",
    "    sF(K_{t-1}, L_{t-1}, A_{t-1}) + (1 - \\delta) K_{t-1}\\\\\n",
    "    (1 + n) L_{t-1}\\\\\n",
    "    (1 + g) A_{t-1}\n",
    "\\end{bmatrix}\n",
    "$$\n",
    "\n",
    "ここで，\n",
    "\n",
    "$$\n",
    "G(K_{t-1}, L_{t-1}, A_{t-1})\n",
    "=\n",
    "\\begin{bmatrix}\n",
    "    sF(K_{t-1}, L_{t-1}, A_{t-1}) + (1 - \\delta) K_{t-1}\\\\\n",
    "    (1 + n) L_{t-1}\\\\\n",
    "    (1 + g) A_{t-1}\n",
    "\\end{bmatrix}\n",
    "$$\n",
    "\n",
    "とします。ここで，$G$ は\n",
    "\n",
    "- $s$\n",
    "- $\\delta$\n",
    "- $g$\n",
    "- $n$ \n",
    "- $F$\n",
    "\n",
    "に依存して決まります。数値パラメータ $s, \\delta, g, n$ と 関数 $F$ を入力として，$G$ を出力にするPython関数 `solow`を定義してみましょう。出力される関数 `G` は $(t-1)$-期の情報を NumPy 配列として受け取って，同じサイズの NumPy 配列を返すものとします。"
   ]
  },
  {
   "cell_type": "code",
   "execution_count": null,
   "metadata": {},
   "outputs": [],
   "source": [
    "## EXERCISE ##\n",
    "\n",
    "def solow(s, delta, g, n, F):\n",
    "    \n",
    "    def G(x):\n",
    "        K0, L0, A0 = x\n",
    "        K1 = _________\n",
    "        L1 = _________\n",
    "        A1 = _________\n",
    "        \n",
    "        return np.array([K1, L1, A1])\n",
    "    \n",
    "    return _____  "
   ]
  },
  {
   "cell_type": "code",
   "execution_count": null,
   "metadata": {},
   "outputs": [],
   "source": [
    "G_solow = solow(0.1, 0.05, 0.03, 0.01, cd_factory(0.3))\n",
    "x = np.array([2, 2, 2])\n",
    "G_solow(x)"
   ]
  },
  {
   "cell_type": "code",
   "execution_count": null,
   "metadata": {},
   "outputs": [],
   "source": [
    "## TEST ##\n",
    "assert np.allclose(G_solow(np.array([1, 1, 1])), np.array([1.05, 1.01, 1.03]))"
   ]
  },
  {
   "cell_type": "markdown",
   "metadata": {},
   "source": [
    "## II. シミュレーション"
   ]
  },
  {
   "cell_type": "markdown",
   "metadata": {},
   "source": [
    "過去から未来を決める「関数」と初期値 $(K_0, L_0, A_0)$ が定まっているときにはシミュレーションは簡単です。初期値から初めて順々に計算していくだけです。基本的な方法は AR過程のときと同じなので，今回はもう少しスマートな方法を紹介します。\n",
    "\n",
    "シミュレーションとは，\n",
    "\n",
    "- 時間発展ルール $G$ と\n",
    "- 初期値 $(K_0, L_0, A_0)$ \n",
    "\n",
    "から，時系列を計算する作業のことです。\n",
    "\n",
    "$$\n",
    "\\left(G, (K_0, L_0, A_0) \\right)\n",
    "\\mapsto\n",
    "\\begin{bmatrix}\n",
    "    K_0 & L_0 & A_0 \\\\\n",
    "    K_1 & L_1 & A_1 \\\\\n",
    "    K_2 & L_2 & A_2 \\\\\n",
    "    K_3 & L_3 & A_3 \\\\\n",
    "    \\vdots & \\vdots & \\vdots\n",
    "\\end{bmatrix}\n",
    "$$\n",
    "\n",
    "シミュレーションの終了条件としては，次の2通りの考え方があります。\n",
    "\n",
    "1. ある一定の期間で止める，または，\n",
    "1. 収束条件が成り立ったときに止める。ただし，収束条件が成り立たないときは，ある一定の期間で強制的に止める\n",
    "\n",
    "ここではより簡単な 1 の考え方を採用します。シミュレーションの期間を `T` とします。したがって，私たちは\n",
    "\n",
    "\n",
    "- 時間発展ルール $G$ と\n",
    "- 初期値 $(K_0, L_0, A_0)$ \n",
    "- シミュレーションの期間 $T$ \n",
    "\n",
    "から，時系列を計算する作業を関数化すればよいことになります。\n",
    "\n",
    "$$\n",
    "\\left(G, (K_0, L_0, A_0), T \\right)\n",
    "\\mapsto\n",
    "\\begin{bmatrix}\n",
    "    K_0 & L_0 & A_0 \\\\\n",
    "    K_1 & L_1 & A_1 \\\\\n",
    "    K_2 & L_2 & A_2 \\\\\n",
    "    K_3 & L_3 & A_3 \\\\\n",
    "    \\vdots & \\vdots & \\vdots\\\\\n",
    "    K_{T-1} & L_{T-1} & A_{T-1}\n",
    "\\end{bmatrix}\n",
    "$$\n",
    "\n",
    "初期値を `y0` という NumPy 配列に格納すると，結果の配列は初期値よりも次元が 1 つだけ大きくなることに注意します。\n",
    "\n",
    "例えば，\n",
    "\n",
    "- 初期値の shape, `y0.shape` が `(a,)` のとき，シミュレーション結果の shape は `(T, a)`\n",
    "- 初期値の shape が `(a, b)` のとき，シミュレーション結果の shape は `(T, a, b)`\n",
    "\n",
    "初期値の shape に関わらず次の `*` 演算子を使ったコードで結果の配列のサイズを指定できます。\n",
    "\n",
    "\n",
    "**[問題]** 下の `shp` に代入するタプルを書き換えて実験してみよう。"
   ]
  },
  {
   "cell_type": "code",
   "execution_count": null,
   "metadata": {},
   "outputs": [],
   "source": [
    "shp = (3,)\n",
    "(100, *shp)"
   ]
  },
  {
   "cell_type": "code",
   "execution_count": null,
   "metadata": {},
   "outputs": [],
   "source": []
  },
  {
   "cell_type": "markdown",
   "metadata": {},
   "source": [
    "準備が整ったので，シミュレーションの関数を定義します。\n",
    "`np.asarray()` は初期値をリストとしても渡せるようにするためにつけてます。"
   ]
  },
  {
   "cell_type": "code",
   "execution_count": null,
   "metadata": {},
   "outputs": [],
   "source": [
    "## EXERCISE ##\n",
    "\n",
    "def simulate(G, y0, T):\n",
    "    y0 = np.asarray(y0)\n",
    "    y = np.empty(_________)\n",
    "    y[0] = y0\n",
    "    for t in range(1, T):\n",
    "        y[t] = _________\n",
    "    return y"
   ]
  },
  {
   "cell_type": "code",
   "execution_count": null,
   "metadata": {},
   "outputs": [],
   "source": [
    "## EXERCISE ## \n",
    "\n",
    "# パラメータ\n",
    "s = 0.1\n",
    "delta = 0.05\n",
    "g = 0.03\n",
    "n = 0.01\n",
    "\n",
    "# 生産関数\n",
    "F = ________(0.3)\n",
    "\n",
    "# 時間発展ルール\n",
    "G_solow = ______(s=s, delta=delta, g=g, n=n, F=F)\n",
    "\n",
    "# 初期値\n",
    "y0 = np.array([3, 1, 1])\n",
    "\n",
    "# シミュレーションのコード\n",
    "_______(G_solow, y0, 10)"
   ]
  },
  {
   "cell_type": "markdown",
   "metadata": {},
   "source": [
    "## III. ソロー・モデルの長期的な挙動\n",
    "\n",
    "可視化には Pandas を使うと便利。"
   ]
  },
  {
   "cell_type": "code",
   "execution_count": null,
   "metadata": {},
   "outputs": [],
   "source": [
    "## EXERCISE ## \n",
    "\n",
    "y = simulate(G_solow, y0, 150)\n",
    "result = _______(y, columns=['K', 'L', 'A'])\n",
    "result.plot(subplots=True);"
   ]
  },
  {
   "cell_type": "markdown",
   "metadata": {},
   "source": [
    "ソロー・モデルでは効率労働あたりの資本\n",
    "\n",
    "$$\n",
    "k = \\frac{K}{AL}\n",
    "$$\n",
    "\n",
    "がある水準に収束する。これを確認しよう。"
   ]
  },
  {
   "cell_type": "code",
   "execution_count": null,
   "metadata": {},
   "outputs": [],
   "source": [
    "## EXERCISE ##\n",
    "\n",
    "k = _______________\n",
    "k.plot();"
   ]
  },
  {
   "cell_type": "markdown",
   "metadata": {},
   "source": [
    "#### 命題\n",
    "\n",
    "$k$ が十分に収束した後の長期においては，\n",
    "\n",
    "- 総生産 $Y = F(K, L, A)$ は $g + n + gn$ の率で成長する。\n",
    "- 一人あたり総生産 $Y / L$ は $g$ の率で成長する。\n",
    "\n",
    "これを確認しよう。"
   ]
  },
  {
   "cell_type": "code",
   "execution_count": null,
   "metadata": {},
   "outputs": [],
   "source": [
    "## EXERCISE ## \n",
    "Y = _____(result.K, result.L, result.A)\n",
    "Y._________.plot()\n",
    "plt.axhline(____, linestyle='--');"
   ]
  },
  {
   "cell_type": "code",
   "execution_count": null,
   "metadata": {},
   "outputs": [],
   "source": [
    "## EXERCISE ## \n",
    "y = Y / result.L\n",
    "y._________.plot()\n",
    "plt.axhline(____, linestyle='--');"
   ]
  },
  {
   "cell_type": "markdown",
   "metadata": {},
   "source": [
    "## IV. 課題\n",
    "\n",
    "パラメータを変えてもう一度シミュレーションをしてみよう。定義済みの関数を書き換える必要はない。"
   ]
  },
  {
   "cell_type": "code",
   "execution_count": null,
   "metadata": {},
   "outputs": [],
   "source": [
    "## EXERCISE ##\n",
    "\n",
    "# パラメータ\n",
    "s = _____\n",
    "delta = _____\n",
    "g = _____\n",
    "n = _____\n",
    "alpha = _____\n",
    "T = _____"
   ]
  },
  {
   "cell_type": "code",
   "execution_count": null,
   "metadata": {},
   "outputs": [],
   "source": [
    "# 生産関数\n",
    "F = cd_factory(alpha)\n",
    "\n",
    "# 時間発展ルール\n",
    "G_solow = solow(s=s, delta=delta, g=g, n=n, F=F)\n",
    "\n",
    "# 初期値\n",
    "y0 = np.array([3, 1, 1])\n",
    "\n",
    "# シミュレーションのコード\n",
    "y = simulate(G_solow, y0, T)"
   ]
  },
  {
   "cell_type": "code",
   "execution_count": null,
   "metadata": {},
   "outputs": [],
   "source": [
    "result = pd.DataFrame(y, columns=['K', 'L', 'A'])\n",
    "result.plot(subplots=True);"
   ]
  },
  {
   "cell_type": "code",
   "execution_count": null,
   "metadata": {},
   "outputs": [],
   "source": [
    "Y = F(result.K, result.L, result.A)\n",
    "Y.pct_change().plot()\n",
    "plt.axhline(g + n + g*n, linestyle='--');"
   ]
  },
  {
   "cell_type": "code",
   "execution_count": null,
   "metadata": {},
   "outputs": [],
   "source": [
    "y = Y / result.L\n",
    "y.pct_change().plot()\n",
    "plt.axhline(g, linestyle='--');"
   ]
  },
  {
   "cell_type": "markdown",
   "metadata": {},
   "source": [
    "## 終わりに\n",
    "\n",
    "- 上で定義した関数 `simulate` はかなり汎用的に使えます。AR(1) とか AR(2) モデルのシミュレーションに使うにはどのようにすればよいかを考えてみましょう。\n",
    "- ソローモデルの重要な分析として，比較動学というものがあります。経済が，あるパラメータの組み合わせに対する定常状態（$k$ が収束した状態）にあると考えて，1つのパラメータが変化した後にどのような挙動を示すかを分析するものです。2つのシミュレーションをつなぎ合わせればできるので，試してみてください。\n",
    "\n",
    "いずれのケースも Ch06.pdf に解説してありますので，ご確認ください。\n",
    "\n",
    "**穴埋め済みの ipynb ファイルを提出してください。締切: 7/10**"
   ]
  },
  {
   "cell_type": "code",
   "execution_count": null,
   "metadata": {},
   "outputs": [],
   "source": []
  }
 ],
 "metadata": {
  "kernelspec": {
   "display_name": "Python 3",
   "language": "python",
   "name": "python3"
  },
  "language_info": {
   "codemirror_mode": {
    "name": "ipython",
    "version": 3
   },
   "file_extension": ".py",
   "mimetype": "text/x-python",
   "name": "python",
   "nbconvert_exporter": "python",
   "pygments_lexer": "ipython3",
   "version": "3.7.6"
  }
 },
 "nbformat": 4,
 "nbformat_minor": 4
}
