{
 "cells": [
  {
   "cell_type": "markdown",
   "metadata": {},
   "source": [
    "# Week 11: 資料兼課題\n",
    "\n",
    "## 0. この資料の目標\n",
    "\n",
    "### トピック\n",
    "\n",
    "今週の授業では，2期間の最適消費モデルを学びます。ソローモデルの「貯蓄率が外生」という仮定を緩めた成長モデルを組み立てるための準備です。\n",
    "\n",
    "- ソローモデル → 貯蓄率が外生（一定）\n",
    "- 最適消費モデル → 貯蓄率が内生\n",
    "\n",
    "貯蓄率が内生であるような消費モデルを成長モデルに組み込む方法は，\n",
    "\n",
    "- 無限期間生きる代表的個人を考えるモデル（ラムゼーモデル）\n",
    "- 世代が入れ替わっていくようなモデル（ダイアモンドの世代重複モデル）\n",
    "\n",
    "が基本的です。どちらのケースも2期間の最適消費モデルを理解しておくとスムーズです。\n",
    "\n",
    "### モデル\n",
    "\n",
    "2期間生きる個人が1期の消費 $c_1$ と2期の消費 $c_2$ を最適に計画する。各期の所得は $y_1$, $y_2$ で，1期の期首に $s_0$ の初期資産を持っている。この個人の計画問題は次のように定式化できる（詳細は ch07.pdf を参照）。\n",
    "\n",
    "$$\n",
    "\\begin{aligned}\n",
    "&\\max_{c_1, c_2} U = u(c_1) + \\frac{1}{1+\\rho} u(c_2) \\\\\n",
    "&\\text{s.t.}\\quad\n",
    "c_1 + \\frac{c_2}{1 + r} \\leq s_0 + y_1 + \\frac{y_2}{1 + r}\n",
    "\\end{aligned}\n",
    "$$\n",
    "\n",
    "目的関数は期間効用の割引現在価値の総和になっている。$\\rho > 0$は効用の割引率である。制約条件は生涯消費が生涯所得を超えないという条件であり，実質価値の割引には実質利子率 $r$ を用いる。\n",
    "\n",
    "### 目標\n",
    "\n",
    "- 均衡消費計画の計算\n",
    "- $r$, $\\theta$, $\\rho$ などのパラメータが均衡に与える影響を調べる\n",
    "\n",
    "### 課題\n",
    "\n",
    "課題に答えながらノートを完成させてください。第11週のリアルタイムセッションに参加している方は，授業内で取り組みます。\n",
    "\n",
    "- コードの一部が `_______` となっているものがあります。これは「穴埋め」問題です。適切なコードに書き換えて実行してください。\n",
    "- `assert` から始まる文は書いたコードが期待通り動いているかをチェックするためのテスト用コードです。消さないでください。期待通り動いている場合は何も起こりません。\n",
    "- コードの中には前後に依存関係のあるものがあります。すべてのコードを上から順に実行してください。\n",
    "\n",
    "### 提出方法\n",
    "\n",
    "MS Teams の対応する課題に ipynb ファイルを添付して提出する。  \n",
    "\n",
    "- 提出前に Kernel > Restart Kernel and Run All Cells... を実行して，エラーが生じないことを確認してください。\n",
    "\n",
    "### 締切\n",
    "\n",
    "2020/7/23"
   ]
  },
  {
   "cell_type": "markdown",
   "metadata": {},
   "source": [
    "### 準備\n",
    "\n",
    "まず，必要なライブラリをインポートしてください。\n",
    "\n",
    "- sympy - シンボリック計算のためのライブラリ\n",
    "- scipy.optimize - 数値最適化のためのライブラリ（関数がゼロになる点を探す `fsolve` を紹介する）。あとでインポートします。"
   ]
  },
  {
   "cell_type": "code",
   "execution_count": null,
   "metadata": {},
   "outputs": [],
   "source": [
    "import ________ as np\n",
    "import ________ as plt\n",
    "import ________ as sp"
   ]
  },
  {
   "cell_type": "markdown",
   "metadata": {},
   "source": [
    "SymPy を使うときには次のコードを実行しておくと，数式がきれいに表示される。"
   ]
  },
  {
   "cell_type": "code",
   "execution_count": null,
   "metadata": {},
   "outputs": [],
   "source": [
    "sp.init_printing()"
   ]
  },
  {
   "cell_type": "markdown",
   "metadata": {},
   "source": [
    "図の画質を上げるために次のコードを実行しておきます。Word ファイルにドラッグ&ドロップで貼り付ける場合などに便利です。  \n",
    "※ dpi = dot per inch, 1インチにどれだけの点を打つか。"
   ]
  },
  {
   "cell_type": "code",
   "execution_count": null,
   "metadata": {},
   "outputs": [],
   "source": [
    "import matplotlib\n",
    "matplotlib.rcParams['figure.dpi'] = 150"
   ]
  },
  {
   "cell_type": "markdown",
   "metadata": {},
   "source": [
    "## I. SymPy を使って最大化問題を解く\n"
   ]
  },
  {
   "cell_type": "markdown",
   "metadata": {},
   "source": [
    "### I.1. シンボルの定義\n"
   ]
  },
  {
   "cell_type": "code",
   "execution_count": null,
   "metadata": {},
   "outputs": [],
   "source": [
    "## EXERCISE ##\n",
    "\n",
    "c1, c2, y1, y2, r, s0 = sp.symbols(\"___________\")\n",
    "rho, lamda, theta = ________(\"rho, lamda, theta\")"
   ]
  },
  {
   "cell_type": "markdown",
   "metadata": {},
   "source": [
    "### I.2. CRRA型効用関数\n",
    "\n",
    "期間効用関数は CRRA型としよう。$\\theta > 0$ を相対的危険回避度のパラメータとする。\n",
    "\n",
    "$$\n",
    "\\begin{aligned}\n",
    "u(c) = \\begin{cases}\n",
    "    \\frac{c^{1-\\theta}-1}{1-\\theta} & \\text{if} & \\theta \\neq 1\\\\\n",
    "    \\log c & \\text{if} & \\theta = 1\n",
    "\\end{cases}\n",
    "\\end{aligned}\n",
    "$$\n",
    "\n",
    "関数シンボルを定義する `sp.Lambda()` を使おう。"
   ]
  },
  {
   "cell_type": "code",
   "execution_count": null,
   "metadata": {},
   "outputs": [],
   "source": [
    "## EXERCISE ##\n",
    "\n",
    "u = sp.Lambda(c1, _____________)\n",
    "u(c2)"
   ]
  },
  {
   "cell_type": "markdown",
   "metadata": {},
   "source": [
    "$\\theta = 1$ のときは `sp.log()` を使えばよいが，実は1階条件には $u'(c) = \\theta c^{-\\theta})$ しか出てこないのであまり気にしなくてよい。"
   ]
  },
  {
   "cell_type": "code",
   "execution_count": null,
   "metadata": {},
   "outputs": [],
   "source": [
    "sp.log(c1)"
   ]
  },
  {
   "cell_type": "markdown",
   "metadata": {},
   "source": [
    "### I.2. ラグランジアン\n",
    "\n",
    "$$\n",
    "\\mathcal{L}\n",
    "= u(c_1) + \\frac{u(c_2)}{1 + \\rho} + \\lambda \\left[\n",
    "    s_0 + y_1 + \\frac{y_2}{1 + r} - c_1 - \\frac{c_2}{1 + r}\n",
    "\\right]\n",
    "$$\n"
   ]
  },
  {
   "cell_type": "code",
   "execution_count": null,
   "metadata": {},
   "outputs": [],
   "source": [
    "## EXERCISE ##\n",
    "\n",
    "L = _______________\n",
    "L"
   ]
  },
  {
   "cell_type": "markdown",
   "metadata": {},
   "source": [
    "### I.3. 1階条件\n",
    "\n",
    "勾配ベクトル $\\nabla \\mathcal{L}$ をゼロにする $c_1, c_2, \\lambda$ が解の候補である。\n",
    "\n",
    "$$\n",
    "\\nabla \\mathcal{L} = \n",
    "\\begin{bmatrix}\n",
    "  \\frac{\\partial \\mathcal L}{\\partial c_1}\\\\\n",
    "  \\frac{\\partial \\mathcal L}{\\partial c_2}\\\\\n",
    "  \\frac{\\partial \\mathcal L}{\\partial \\lambda}\n",
    "\\end{bmatrix}\n",
    "= 0\n",
    "$$\n",
    "\n",
    "これを `dL` として定義しよう。"
   ]
  },
  {
   "cell_type": "code",
   "execution_count": null,
   "metadata": {},
   "outputs": [],
   "source": [
    "## EXERCISE ##\n",
    "\n",
    "dL = sp.Matrix([L._______(v) for v in (c1, c2, lamda)])\n",
    "dL"
   ]
  },
  {
   "cell_type": "markdown",
   "metadata": {},
   "source": [
    "### I.4. 解く\n",
    "\n",
    "1階条件を解いて解 $(c_1^*, c_2^*, \\lambda^*)$ を求める。\n",
    "これには`sp.solve()` を使う。結果は配列になるので，0個目の要素を取得する。"
   ]
  },
  {
   "cell_type": "code",
   "execution_count": null,
   "metadata": {},
   "outputs": [],
   "source": [
    "## EXERCISE ##\n",
    "\n",
    "c1_opt, c2_opt, lam_opt = sp.solve(_______, (___, ___, ___))[0]"
   ]
  },
  {
   "cell_type": "markdown",
   "metadata": {},
   "source": [
    "結果を見てみよう。"
   ]
  },
  {
   "cell_type": "code",
   "execution_count": null,
   "metadata": {},
   "outputs": [],
   "source": [
    "c1_opt"
   ]
  },
  {
   "cell_type": "code",
   "execution_count": null,
   "metadata": {},
   "outputs": [],
   "source": [
    "c2_opt"
   ]
  },
  {
   "cell_type": "code",
   "execution_count": null,
   "metadata": {},
   "outputs": [],
   "source": [
    "lam_opt"
   ]
  },
  {
   "cell_type": "markdown",
   "metadata": {},
   "source": [
    "### I.5. 貯蓄\n",
    "\n",
    "1期末の貯蓄残高 $s$ を計算する。（経済成長理論に組み込んだ場合，これが貸付資金の供給になる）\n",
    "\n",
    "$s = y_1 + (1 + r)s_0 - c_1$"
   ]
  },
  {
   "cell_type": "code",
   "execution_count": null,
   "metadata": {},
   "outputs": [],
   "source": [
    "s = y1 + (1 + r) * s0 - c1_opt\n",
    "s"
   ]
  },
  {
   "cell_type": "markdown",
   "metadata": {},
   "source": [
    "### I.6. 利子率と貯蓄の関係\n",
    "\n",
    "「利子率が上昇すると貯蓄は増えるだろうか？」\n",
    "\n",
    "#### 微分を調べてみよう\n",
    "\n",
    "何かわかるだろうか？"
   ]
  },
  {
   "cell_type": "code",
   "execution_count": null,
   "metadata": {},
   "outputs": [],
   "source": [
    "## EXERCISE ##\n",
    "\n"
   ]
  },
  {
   "cell_type": "markdown",
   "metadata": {},
   "source": [
    "#### パラメータを設定してグラフを描いてみよう\n",
    "\n",
    "まず，以下のようなパラメータを考えてみよう。\n",
    "\n",
    "| パラメータ | 値 |\n",
    "|-|-|\n",
    "| $y_1$ | 100 |\n",
    "| $y_2$ | 0 |\n",
    "| $s_0$ | 0 |\n",
    "| $\\rho$ | 0.02 |\n",
    "| $\\theta$ | 1.5 |\n",
    "\n",
    "辞書としてまとめて定義すると便利。"
   ]
  },
  {
   "cell_type": "code",
   "execution_count": null,
   "metadata": {},
   "outputs": [],
   "source": [
    "## EXERCISE ##\n",
    "\n",
    "params = {\n",
    "    y1: 100, \n",
    "    y2: 0,\n",
    "    s0: 0,\n",
    "    _____,\n",
    "    _____\n",
    "}"
   ]
  },
  {
   "cell_type": "markdown",
   "metadata": {},
   "source": [
    "パラメータを代入して関数化し，プロットする。"
   ]
  },
  {
   "cell_type": "code",
   "execution_count": null,
   "metadata": {},
   "outputs": [],
   "source": [
    "## EXERCISE ##\n",
    "\n",
    "s_fun = sp._______(r, s.______(params))\n",
    "r_grid = np.linspace(0, 0.10, 100)\n",
    "plt.plot(r_grid, s_fun(r_grid))"
   ]
  },
  {
   "cell_type": "markdown",
   "metadata": {},
   "source": [
    "#### θ を変更してみる\n",
    "\n",
    "辞書の一部を変更するには `update` メソッドを使う。"
   ]
  },
  {
   "cell_type": "code",
   "execution_count": null,
   "metadata": {},
   "outputs": [],
   "source": [
    "params._______({theta: 1.0})\n",
    "\n",
    "s_fun = _________(r, ________(params))\n",
    "plt.plot(r_grid, s_fun(r_grid))"
   ]
  },
  {
   "cell_type": "markdown",
   "metadata": {},
   "source": [
    "#### θ を動かしてプロットする\n",
    "\n",
    "\n",
    "$\\theta = [0.3, 0.8, 1.0, 1.2, 1.5]$ と動かしてみよう。"
   ]
  },
  {
   "cell_type": "code",
   "execution_count": null,
   "metadata": {},
   "outputs": [],
   "source": [
    "## EXERCISE ##\n",
    "\n",
    "for thta in [0.6, 0.8, 1.0, 1.2, 1.5]:\n",
    "    params.update({theta: ________})\n",
    "    s_fun2 = ______________\n",
    "    plt.plot(r_grid, s_fun2(r_grid), label=f\"θ = {thta}\")\n",
    "\n",
    "plt.legend()\n",
    "plt.xlabel(\"Real interest rate\")\n",
    "plt.ylabel(\"Savings\")\n",
    "plt.show()"
   ]
  },
  {
   "cell_type": "markdown",
   "metadata": {},
   "source": [
    "#### 結果を解釈する\n",
    "\n",
    "次のような結果になった。ただし，$y_2 = s_0 = 0$ というやや強い仮定を置いていることに注意する。\n",
    "\n",
    "- $\\theta$ が 1 より小さいとき，貯蓄は利子率の減少関数である。\n",
    "- $\\theta$ が 1 のとき，貯蓄は利子率によらず一定である。\n",
    "- $\\theta$ が 1 より大きいとき，貯蓄は利子率の増加関数である。\n",
    "\n",
    "\n",
    "利子率が上昇すると次の 2つのことがおこる。\n",
    "\n",
    "1. 貯蓄のリターンが上昇するので，1期から2期に消費を先送りするインセンティブが強まる。（代替効果）\n",
    "1. 生涯所得を増加させるので，1期，2期ともに消費を増やす。（所得効果）\n",
    "\n",
    "代替効果は1期の消費を減らして貯蓄を増やす。所得効果は1期の消費を増やす。\n",
    "\n",
    "\n",
    "- $\\theta$ が 1 より小さいとき，代替効果が所得効果を上回るので，利子率の上昇にともなって貯蓄が増加する。\n",
    "- $\\theta$ が 1 のとき，代替効果と所得効果がちょうど釣り合って貯蓄が一定になる。\n",
    "- $\\theta$ が 1 より大きいとき，所得効果が代替効果を上回るので，利子率の上昇にともなって貯蓄が減少する。\n",
    "\n",
    "\n",
    "#### 消費の変化率\n",
    "\n",
    "消費の変化を調べると，$\\theta$ の役割がよく分かる。$c_2 / c_1$ をプロットしてみよう。\n",
    "\n",
    "- $c_2 / c_1 > 1 \\Longleftrightarrow c_2 > c_1$"
   ]
  },
  {
   "cell_type": "code",
   "execution_count": null,
   "metadata": {},
   "outputs": [],
   "source": [
    "## EXERCISE ##\n",
    "\n",
    "for thta in [0.6, 0.8, 1.0, 1.2, 1.5, 2, 3]:\n",
    "    params.update(__________)\n",
    "    c_fun = ___________(r, (c2_opt / c1_opt).subs(params))\n",
    "    plt.plot(r_grid, c_fun(r_grid), label=f\"θ = {thta}\")\n",
    "\n",
    "plt.leg_______()\n",
    "plt.xlab______(\"Real interest rate\")\n",
    "plt.ylab______(\"c2 / c1\")\n",
    "plt.show()"
   ]
  },
  {
   "cell_type": "markdown",
   "metadata": {},
   "source": [
    "#### クイズ\n",
    "\n",
    "`s` のグラフ，`c2/c1` のグラフともに，$r = 0.02$ のところでグラフが交差しているのはなぜか？"
   ]
  },
  {
   "cell_type": "markdown",
   "metadata": {},
   "source": [
    "#### 回答 (ダブルクリックして開いてください)\n",
    "\n",
    "\n",
    "\n",
    "\n",
    "\n",
    "\n",
    "\n"
   ]
  },
  {
   "cell_type": "markdown",
   "metadata": {},
   "source": [
    "## II. 最大化問題を数値的に解く\n",
    "\n",
    "\n",
    "### II.1. CARA型効用関数\n",
    "\n",
    "効用関数を次の形に特定してみよう。\n",
    "\n",
    "$$\n",
    "u(c) = 1 - e^{-a c}, \\qquad a > 0\n",
    "$$\n",
    "\n",
    "この効用関数は CARA型効用関数という。CARA = Constant Absolute Risk Aversion。\n",
    "\n",
    "ARA （絶対的危険回避度）とは，次のように定義される。\n",
    "\n",
    "$$\n",
    "\\frac{u''}{u'} = a\n",
    "$$\n",
    "\n",
    "\n",
    "### II.2. 最適消費モデル\n",
    "\n",
    "効用関数をCARA型に変更し上と同じ効用最大化問題を解いてみよう。\n",
    "\n",
    "$$\n",
    "\\begin{aligned}\n",
    "&\\max_{c_1, c_2} U = u(c_1) + \\frac{1}{1+\\rho} u(c_2) \\\\\n",
    "&\\text{s.t.}\\quad\n",
    "c_1 + \\frac{c_2}{1 + r} \\leq s_0 + y_1 + \\frac{y_2}{1 + r}\n",
    "\\end{aligned}\n",
    "$$\n",
    "\n",
    "#### シンボル\n",
    "\n",
    "シンボル `a` はまだ定義していないので，定義しよう。"
   ]
  },
  {
   "cell_type": "code",
   "execution_count": null,
   "metadata": {},
   "outputs": [],
   "source": [
    "## EXERCISE ##\n",
    "\n",
    "a = ___________(\"a\")"
   ]
  },
  {
   "cell_type": "markdown",
   "metadata": {},
   "source": [
    "#### 効用関数\n",
    "\n",
    "効用関数 `u` を定義せよ。\n",
    "\n",
    "$$\n",
    "u(c) = 1 - e^{-a c}, \\qquad a > 0\n",
    "$$"
   ]
  },
  {
   "cell_type": "code",
   "execution_count": null,
   "metadata": {},
   "outputs": [],
   "source": [
    "## EXERCISE ##\n",
    "\n",
    "u = ____________(c1, __________)\n",
    "u(c2)"
   ]
  },
  {
   "cell_type": "markdown",
   "metadata": {},
   "source": [
    "### II.3. ラグランジアン\n",
    "\n",
    "ラグランジアン\n",
    "$$\n",
    "\\mathcal{L}\n",
    "= u(c_1) + \\frac{u(c_2)}{1 + \\rho} + \\lambda \\left[\n",
    "    s_0 + y_1 + \\frac{y_2}{1 + r} - c_1 - \\frac{c_2}{1 + r}\n",
    "\\right]\n",
    "$$\n",
    "\n",
    "を定義して，その勾配ベクトル\n",
    "\n",
    "$$\n",
    "\\nabla \\mathcal{L} = \n",
    "\\begin{bmatrix}\n",
    "  \\frac{\\partial \\mathcal L}{\\partial c_1}\\\\\n",
    "  \\frac{\\partial \\mathcal L}{\\partial c_2}\\\\\n",
    "  \\frac{\\partial \\mathcal L}{\\partial \\lambda}\n",
    "\\end{bmatrix}\n",
    "= 0\n",
    "$$\n",
    "\n",
    "を計算する。"
   ]
  },
  {
   "cell_type": "code",
   "execution_count": null,
   "metadata": {},
   "outputs": [],
   "source": [
    "## EXERCISE ##\n",
    "\n",
    "L = ______________\n",
    "dL = sp.Matrix([L.diff(v) for v in (c1, c2, lamda)])\n",
    "dL"
   ]
  },
  {
   "cell_type": "markdown",
   "metadata": {},
   "source": [
    "### II.4 シンボリックに解を求める（求められる？）\n",
    "\n",
    "$\\nabla \\mathcal{L} = 0$ を満たす $c_1, c_2, \\lambda$ が解の候補である。\n",
    "シンボリックな方法で求めてみよう。"
   ]
  },
  {
   "cell_type": "code",
   "execution_count": null,
   "metadata": {},
   "outputs": [],
   "source": [
    "## EXERCISE ##\n",
    "\n",
    "sp._______(dL, (c1, c2, lamda))"
   ]
  },
  {
   "cell_type": "markdown",
   "metadata": {},
   "source": [
    "### II.5 数値解\n",
    "\n",
    "シンボリックに解けない場合は数値的に解くしかない。1階条件（ラグランジアンの微分 = 0）を満たす解を見つけるには，$\\nabla \\mathcal{L} = 0$ を満たす $(c_1, c_2, \\lambda)$ を見つければよい。\n",
    "\n",
    "つまり，\n",
    "\n",
    "$$\n",
    "f(x) = 0 \n",
    "$$\n",
    "\n",
    "になる $x$ を探す数値計算アルゴリズムを， $f = \\nabla \\mathcal{L}$ に対して適用すればよい。非常に一般的な問題なので，数多くのアルゴリズムが提案されている。ここでは `scipy.optimize.fsolve()` を使う。\n",
    "\n",
    "特定の関数だけをインポートするには次のようなインポート文を実行する。"
   ]
  },
  {
   "cell_type": "code",
   "execution_count": null,
   "metadata": {},
   "outputs": [],
   "source": [
    "from scipy.optimize import fsolve"
   ]
  },
  {
   "cell_type": "markdown",
   "metadata": {},
   "source": [
    "関数 `fsolve` に渡す引数は，\n",
    "\n",
    "- 関数 $f$\n",
    "- アルゴリズムの初期値 $x_0$\n",
    "- 手に入るならば $f$ のヤコビ行列（なければ，ヤコビ行列を使わないアルゴリズムが用いられる）\n",
    "\n",
    "私たちはシンボリックにモデルを定義しているので $\\nabla \\mathcal{L}$ のヤコビ行列 $J = \\nabla^2 \\mathcal{L}$ を簡単に計算できる。（これはラグランジアンのヘッセ行列である）"
   ]
  },
  {
   "cell_type": "code",
   "execution_count": null,
   "metadata": {},
   "outputs": [],
   "source": [
    "## EXERCISE ##\n",
    "\n",
    "J = sp.Matrix(sp.BlockMatrix([____________ for v in (c1, c2, lamda)]))\n",
    "J"
   ]
  },
  {
   "cell_type": "markdown",
   "metadata": {},
   "source": [
    "数値的に解くにはパラメータの数値をすべて指定する必要がある。ラグランジアンの勾配ベクトルを行列にしてしまったので， `np.squeeze()` でベクトルに変換していることに注意。（このあたりはややこしいので手探りでやる）"
   ]
  },
  {
   "cell_type": "markdown",
   "metadata": {},
   "source": [
    "#### 1回限りの計算"
   ]
  },
  {
   "cell_type": "code",
   "execution_count": null,
   "metadata": {},
   "outputs": [],
   "source": [
    "## EXERCISE ##\n",
    "\n",
    "params = {\n",
    "    y1: 100, \n",
    "    y2: 0,\n",
    "    s0: 0,\n",
    "    rho: 0.05,\n",
    "    a: 0.002,\n",
    "    r: 0.04\n",
    "}\n",
    "\n",
    "dL_fun = __________([(c1, c2, lamda)], np.squeeze(dL.subs(params)))\n",
    "J_fun = __________([(c1, c2, lamda)], J.subs(params))"
   ]
  },
  {
   "cell_type": "markdown",
   "metadata": {},
   "source": [
    "`fsolve()` にわたす引数は\n",
    "\n",
    "- `func`: ゼロになる点を求めたい関数。\n",
    "- `x0`: 探索の初期値。\n",
    "- `fprime`: ヤコビ行列\n"
   ]
  },
  {
   "cell_type": "code",
   "execution_count": null,
   "metadata": {},
   "outputs": [],
   "source": [
    "## EXERCISE ##\n",
    "\n",
    "c1_star, c2_star, lam_star = ______(func=____, x0=np.array([50, 50, 1]), fprime=_____)\n",
    "c1_star, c2_star"
   ]
  },
  {
   "cell_type": "markdown",
   "metadata": {},
   "source": [
    "#### 繰り返し計算\n",
    "\n",
    "$r$ を変化させたときの $c_2/c_1$ の変化を見てみよう。$r$ を変えるたびに数値解を求める。\n",
    "特別な工夫をせずに単純なループを書いて処理しよう。"
   ]
  },
  {
   "cell_type": "code",
   "execution_count": null,
   "metadata": {},
   "outputs": [],
   "source": [
    "## EXERCISE ##\n",
    "\n",
    "c_growth = np.______(r_grid)\n",
    "\n",
    "for i, rval in enumerate(r_grid):\n",
    "    \n",
    "    params.update(______)\n",
    "    func = sp.lambdify([(c1, c2, lamda)], np.squeeze(dL.subs(params)))\n",
    "    fprime = sp.lambdify([(c1, c2, lamda)], J.subs(params))\n",
    "    c1_star, c2_star, lam_star = fsolve(func=_____, x0=np.array([50, 50, 1]), \n",
    "                                        fprime=_____)\n",
    "    c_growth[i] = ______ / ______\n",
    "    \n",
    "plt.plot(r_grid, c_growth)"
   ]
  },
  {
   "cell_type": "markdown",
   "metadata": {},
   "source": [
    "### 課題 \n",
    "\n",
    "$a$ の値を変えると結果はどのように変わるか？あるいは変わらないか？調べてみよう。\n",
    "\n",
    "ヒント：先程のコードの外側にもう一つループを作って $a$ を変化させるとよい。"
   ]
  },
  {
   "cell_type": "code",
   "execution_count": null,
   "metadata": {},
   "outputs": [],
   "source": [
    "## EXERCISE ##\n",
    "\n",
    "for aval in [0.001, 0.002, 0.003, 0.005]:\n",
    "    # ここに必要なコードを書く\n",
    "    \n",
    "    \n",
    "    \n",
    "    \n",
    "plt.legend()\n",
    "plt.xlabel(\"r\")\n",
    "plt.ylabel(\"c2 / c1\")"
   ]
  },
  {
   "cell_type": "markdown",
   "metadata": {},
   "source": [
    "## III. まとめ\n",
    "\n",
    "与えられた所得系列に対して，最適に消費計画を立てる個人の行動を調べた。利子率や効用関数の形状によって消費行動，貯蓄行動が変化する。\n",
    "来週学ぶ最適成長モデルは，企業行動のモデルを使って所得や利子率を内生化したものである。\n",
    "\n",
    "シンボリック計算と数値最適化を組み合わせることで複雑なモデルに対しても色々な計算ができる。"
   ]
  },
  {
   "cell_type": "code",
   "execution_count": null,
   "metadata": {},
   "outputs": [],
   "source": []
  }
 ],
 "metadata": {
  "kernelspec": {
   "display_name": "Python 3",
   "language": "python",
   "name": "python3"
  },
  "language_info": {
   "codemirror_mode": {
    "name": "ipython",
    "version": 3
   },
   "file_extension": ".py",
   "mimetype": "text/x-python",
   "name": "python",
   "nbconvert_exporter": "python",
   "pygments_lexer": "ipython3",
   "version": "3.7.6"
  }
 },
 "nbformat": 4,
 "nbformat_minor": 4
}
