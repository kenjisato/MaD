{
 "cells": [
  {
   "cell_type": "markdown",
   "metadata": {},
   "source": [
    "# Week 6: 課題\n",
    "\n",
    "## 課題\n",
    "\n",
    "下記の問題1, 2に答えなさい。\n",
    "\n",
    "### 提出方法\n",
    "\n",
    "MS Teams の対応する課題に ipynb ファイルを添付して提出する。  \n",
    "\n",
    "- 提出前に Kernel > Restart Kernel and Run All Cells... を実行して，エラーが生じないことを確認してください。\n",
    "\n",
    "### 締切\n",
    "\n",
    "2020/6/18"
   ]
  },
  {
   "cell_type": "markdown",
   "metadata": {},
   "source": [
    "## 問題1\n",
    "\n",
    "スライドと同様に AR(2) の状態空間表現\n",
    "\n",
    "$$\n",
    "\\begin{aligned}\n",
    "\\boldsymbol{x}_{t}&=\\boldsymbol{A}\\boldsymbol{x}_{t-1}+\\boldsymbol{B}\\varepsilon_{t}\\\\y_{t}&=\\boldsymbol{C}\\boldsymbol{x}_{t}\n",
    "\\end{aligned}\n",
    "$$\n",
    "\n",
    "を考える。係数行列は下のように設定する。\n",
    "\n",
    "\n",
    "$$\n",
    "\\boldsymbol{A}=\\begin{bmatrix}0.6 & 0.3\\\\\n",
    "1 & 0\n",
    "\\end{bmatrix},\\qquad\\boldsymbol{B}=\\begin{bmatrix}1\\\\\n",
    "0\n",
    "\\end{bmatrix},\\qquad\\boldsymbol{C}=\\begin{bmatrix}1 & 0\\end{bmatrix}\n",
    "$$\n",
    "\n",
    "Week06 のスライド, p. 24, において，乱数 $\\varepsilon$ を生成するコード `rng.normal(loc=0, scale=0.3, size=(T, 1, 1))` のパラメータ `loc`, `scale` はどのような役割を果たしているか。下の [1], [2] に答えなさい。\n",
    "\n",
    "### [1]\n",
    "\n",
    "設定を様々に変えて実験を行い，`loc`, `scale` とシミュレーション結果との関係を見出し，説明しなさい。ただし，議論の根拠となるコードや図は消さずに残すこと。\n",
    "\n",
    "[解答]"
   ]
  },
  {
   "cell_type": "code",
   "execution_count": null,
   "metadata": {},
   "outputs": [],
   "source": []
  },
  {
   "cell_type": "markdown",
   "metadata": {},
   "source": [
    "### [2]\n",
    "\n",
    "テキスト ch04.pdf の記述を読んで，これらのパラメータとグラフの形状の厳密な関係を説明しなさい。\n",
    "\n",
    "[解答]"
   ]
  },
  {
   "cell_type": "code",
   "execution_count": null,
   "metadata": {},
   "outputs": [],
   "source": []
  },
  {
   "cell_type": "markdown",
   "metadata": {},
   "source": [
    "## 問題2\n",
    "\n",
    "$A^n \\to O$ とならない係数 $a_1$, $a_2$ を1つ見つけなさい。その $A$ に対して， Week06 のスライド p.24 と同様のシミュレーションを行うとどのような結果となるか。図とともに説明しなさい。\n",
    "\n",
    "$$\n",
    "\\boldsymbol{A}=\\begin{bmatrix}a_1 & a_2\\\\\n",
    "1 & 0\n",
    "\\end{bmatrix}\n",
    "$$"
   ]
  },
  {
   "cell_type": "code",
   "execution_count": null,
   "metadata": {},
   "outputs": [],
   "source": []
  }
 ],
 "metadata": {
  "kernelspec": {
   "display_name": "Python 3",
   "language": "python",
   "name": "python3"
  },
  "language_info": {
   "codemirror_mode": {
    "name": "ipython",
    "version": 3
   },
   "file_extension": ".py",
   "mimetype": "text/x-python",
   "name": "python",
   "nbconvert_exporter": "python",
   "pygments_lexer": "ipython3",
   "version": "3.7.7"
  }
 },
 "nbformat": 4,
 "nbformat_minor": 4
}
