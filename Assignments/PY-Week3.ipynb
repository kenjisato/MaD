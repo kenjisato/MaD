{
 "cells": [
  {
   "cell_type": "markdown",
   "metadata": {},
   "source": [
    "# Week 3: 課題\n",
    "\n",
    "## 課題\n",
    "\n",
    "下記の問題 1, 2に答えなさい。\n",
    "\n",
    "### 提出方法\n",
    "\n",
    "MS Teams の対応する課題に ipynb ファイルを添付して提出する。  \n",
    "\n",
    "### 締切\n",
    "\n",
    "2020/5/27"
   ]
  },
  {
   "cell_type": "markdown",
   "metadata": {},
   "source": [
    "## 問題 1\n",
    "\n",
    "3商品の価格と取引量について，次のデータが得られた。\n",
    "[Source](https://www.slideshare.net/jillmitchell8778/statistics-lecture-12-chapter-12)\n",
    "\n",
    "|                  |  2007 |      |  2008 |      |  2009 |      |\n",
    "|------------------|------:|-----:|------:|-----:|------:|-----:|\n",
    "|                  |  価格 |   量 |  価格 |   量 |  価格 |   量 |\n",
    "| コーヒー (500 g) | 10.49 | 13.1 | 15.99 | 12.8 | 17.99 | 14.2 |\n",
    "| 砂糖 (500 g)     |  4.99 | 17.3 |  5.29 | 18.7 |  7.49 | 18.2 |\n",
    "| 牛乳 (1 l)       |  7.39 | 48.9 |  8.99 | 53.6 |  9.39 | 59.2 |\n",
    "\n",
    "以下の (1), (2), (3) に答えなさい。**解答には NumPy を使うこと。for 文を使うべき局面ではあるが使用を禁止する。**\n",
    "\n",
    "### (1)\n",
    "\n",
    "テキスト・スライドに倣って，価格の配列（行列） `price` と量の配列（行列） `quantity` を定義しなさい。\n",
    "\n",
    "[解答]"
   ]
  },
  {
   "cell_type": "code",
   "execution_count": null,
   "metadata": {},
   "outputs": [],
   "source": []
  },
  {
   "cell_type": "markdown",
   "metadata": {},
   "source": [
    "### (2)\n",
    "\n",
    "2007-2009年の期間における3通りの価格指数を求めるコードを書き，結果を出力しなさい。ただし，2007年の指数を1とする。結果を格納する変数名は以下の通りとせよ。\n",
    "\n",
    "1. ラスパイレス式価格指数（連鎖方式） : `PL`\n",
    "2. パーシェ式価格指数（連鎖方式） : `PP`\n",
    "3. フィッシャー式価格指数（連鎖方式） : `PF`\n",
    "\n",
    "[解答]"
   ]
  },
  {
   "cell_type": "code",
   "execution_count": null,
   "metadata": {},
   "outputs": [],
   "source": [
    "# Laspeyres, PL\n",
    "\n",
    "\n"
   ]
  },
  {
   "cell_type": "code",
   "execution_count": null,
   "metadata": {},
   "outputs": [],
   "source": [
    "# Paasche, PP\n",
    "\n"
   ]
  },
  {
   "cell_type": "code",
   "execution_count": null,
   "metadata": {},
   "outputs": [],
   "source": [
    "# Fisher, PF\n",
    "\n",
    "\n"
   ]
  },
  {
   "cell_type": "markdown",
   "metadata": {},
   "source": [
    "### (3)\n",
    "\n",
    "Python でグラフをプロットする目的では Matplotlib が最もよく使われている。`matplotlib.pyplot` を `plt` という名前でインポートして `plt.plot()` を呼び出せば最も基本的な折れ線グラフを描くことができる。\n",
    "\n",
    "以下のコードを実行して出力結果を確認せよ。（練習のために手入力することをおすすめする）\n",
    "\n",
    "```python\n",
    "import matplotlib.pyplot as plt \n",
    "\n",
    "plt.plot(PL, label = 'Laspeyres') \n",
    "plt.plot(PP, label = 'Paasche') \n",
    "plt.plot(PF, label = 'Fisher')\n",
    "plt.legend()\n",
    "plt.show()\n",
    "```\n",
    "    \n",
    "[解答]"
   ]
  },
  {
   "cell_type": "code",
   "execution_count": null,
   "metadata": {},
   "outputs": [],
   "source": []
  },
  {
   "cell_type": "markdown",
   "metadata": {},
   "source": [
    "## 問題 2\n",
    "\n",
    "先ほど定義した変数を再利用する。以下のコードはすべてエラーになる。\n",
    "\n",
    "```python\n",
    "price[0, 5]\n",
    "quantity[3, 1]\n",
    "PF[10]\n",
    "```\n",
    "\n",
    "エラーメッセージを読んで，次の2点について説明しなさい。\n",
    "\n",
    "1. エラーの原因, \n",
    "2. `axis 0`, `axis 1` とは何か。"
   ]
  },
  {
   "cell_type": "code",
   "execution_count": null,
   "metadata": {},
   "outputs": [],
   "source": []
  },
  {
   "cell_type": "markdown",
   "metadata": {},
   "source": [
    "[説明] (ダブルクリックして開く)\n",
    "\n",
    "\n",
    "\n",
    "\n",
    "\n"
   ]
  }
 ],
 "metadata": {
  "kernelspec": {
   "display_name": "Python 3",
   "language": "python",
   "name": "python3"
  },
  "language_info": {
   "codemirror_mode": {
    "name": "ipython",
    "version": 3
   },
   "file_extension": ".py",
   "mimetype": "text/x-python",
   "name": "python",
   "nbconvert_exporter": "python",
   "pygments_lexer": "ipython3",
   "version": "3.7.6"
  }
 },
 "nbformat": 4,
 "nbformat_minor": 4
}
