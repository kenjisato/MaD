{
 "cells": [
  {
   "cell_type": "markdown",
   "metadata": {},
   "source": [
    "# Week 7（プロジェクト課題）\n",
    "\n",
    "## 課題\n",
    "\n",
    "Pandas, pandas-datareader を使って自由にデータ分析をしてみましょう。\n",
    "\n",
    "ただし，\n",
    "\n",
    "- マクロ経済学，ミクロ経済学の理論を念頭においていること。\n",
    "- 理論が予測する関係がデータに表れているかどうかを確認し，議論すること。\n",
    "- 少なくとも1つ以上のグラフを提示すること。\n",
    "- 統計的な相関関係の分析（重回帰分析，VAR など）はやってもいいし，やらなくてもいい。\n",
    "- 因果推論のような難しい計量分析は必要ではない。\n",
    "\n",
    "pandas-datareader では取得できないデータを使いたい場合は，データのダウンロードリンクを明示する。Excel ファイルを手作業で操作するような加工は禁止，すべて Python のコードだけで行うこと。（教員が分析を再現できなくなるので）\n",
    "\n",
    "分量の目安はA4プリントで4〜5ページくらい。\n",
    "\n",
    "### 提出方法\n",
    "\n",
    "MS Teams の対応する課題に ipynb ファイルを添付して提出する。 \n",
    "数式・文章は Word，コードは Notebook のように分けて書いてもよい。\n",
    "\n",
    "- 提出前に Kernel > Restart Kernel and Run All Cells... を実行して，エラーが生じないことを確認してください。\n",
    "\n",
    "### 締切\n",
    "\n",
    "2020/7/24 23:59"
   ]
  },
  {
   "cell_type": "code",
   "execution_count": null,
   "metadata": {},
   "outputs": [],
   "source": []
  }
 ],
 "metadata": {
  "kernelspec": {
   "display_name": "Python 3",
   "language": "python",
   "name": "python3"
  },
  "language_info": {
   "codemirror_mode": {
    "name": "ipython",
    "version": 3
   },
   "file_extension": ".py",
   "mimetype": "text/x-python",
   "name": "python",
   "nbconvert_exporter": "python",
   "pygments_lexer": "ipython3",
   "version": "3.7.6"
  }
 },
 "nbformat": 4,
 "nbformat_minor": 4
}
