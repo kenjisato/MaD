{
 "cells": [
  {
   "cell_type": "markdown",
   "metadata": {},
   "source": [
    "# 第7章\n",
    "\n",
    "## 挿入用のコード"
   ]
  },
  {
   "cell_type": "markdown",
   "metadata": {},
   "source": [
    "## シンボリック計算"
   ]
  },
  {
   "cell_type": "code",
   "execution_count": 1,
   "metadata": {},
   "outputs": [],
   "source": [
    "#---- ch07/import-sympy\n",
    "import sympy as sp\n",
    "sp.init_printing()"
   ]
  },
  {
   "cell_type": "code",
   "execution_count": 2,
   "metadata": {},
   "outputs": [],
   "source": [
    "#---- ch07/define-alph-symbol\n",
    "from sympy.abc import x, y, a, b, c, f"
   ]
  },
  {
   "cell_type": "code",
   "execution_count": 3,
   "metadata": {},
   "outputs": [
    {
     "data": {
      "image/png": "[encoded data removed]",
      "text/latex": [
       "$\\displaystyle x y$"
      ],
      "text/plain": [
       "x⋅y"
      ]
     },
     "execution_count": 3,
     "metadata": {},
     "output_type": "execute_result"
    }
   ],
   "source": [
    "#---- ch07/use-alph-symbol\n",
    "x ** 2 *  y / x"
   ]
  },
  {
   "cell_type": "code",
   "execution_count": 4,
   "metadata": {},
   "outputs": [
    {
     "data": {
      "image/png": "[encoded data removed]",
      "text/latex": [
       "$\\displaystyle \\left[ \\frac{- b + \\sqrt{- 4 a c + b^{2}}}{2 a}, \\  - \\frac{b + \\sqrt{- 4 a c + b^{2}}}{2 a}\\right]$"
      ],
      "text/plain": [
       "⎡        _____________   ⎛       _____________⎞ ⎤\n",
       "⎢       ╱           2    ⎜      ╱           2 ⎟ ⎥\n",
       "⎢-b + ╲╱  -4⋅a⋅c + b    -⎝b + ╲╱  -4⋅a⋅c + b  ⎠ ⎥\n",
       "⎢─────────────────────, ────────────────────────⎥\n",
       "⎣         2⋅a                     2⋅a           ⎦"
      ]
     },
     "execution_count": 4,
     "metadata": {},
     "output_type": "execute_result"
    }
   ],
   "source": [
    "#---- ch07/solve-quadratic\n",
    "sp.solve(a * x**2 + b * x + c, x)"
   ]
  },
  {
   "cell_type": "code",
   "execution_count": 5,
   "metadata": {},
   "outputs": [
    {
     "data": {
      "image/png": "[encoded data removed]",
      "text/latex": [
       "$\\displaystyle \\frac{a x^{a} y^{b}}{x}$"
      ],
      "text/plain": [
       "   a  b\n",
       "a⋅x ⋅y \n",
       "───────\n",
       "   x   "
      ]
     },
     "execution_count": 5,
     "metadata": {},
     "output_type": "execute_result"
    }
   ],
   "source": [
    "#---- ch07/sympy-diff1\n",
    "f = x**a * y**b\n",
    "f.diff(x)"
   ]
  },
  {
   "cell_type": "code",
   "execution_count": 6,
   "metadata": {},
   "outputs": [
    {
     "data": {
      "image/png": "[encoded data removed]",
      "text/latex": [
       "$\\displaystyle a x^{a - 1} y^{b}$"
      ],
      "text/plain": [
       "   a - 1  b\n",
       "a⋅x     ⋅y "
      ]
     },
     "execution_count": 6,
     "metadata": {},
     "output_type": "execute_result"
    }
   ],
   "source": [
    "#---- ch07/sympy-diff2\n",
    "f.diff(x).simplify()"
   ]
  },
  {
   "cell_type": "code",
   "execution_count": 7,
   "metadata": {},
   "outputs": [],
   "source": [
    "#---- ch07/two-period-symbols\n",
    "c, c_1, c_2, y1, y2 = sp.symbols(\"c, c_1, c_2, y_1, y_2\")\n",
    "r, rho, theta, s0 = sp.symbols(\"r rho theta s_0\")"
   ]
  },
  {
   "cell_type": "code",
   "execution_count": 8,
   "metadata": {},
   "outputs": [
    {
     "data": {
      "image/png": "[encoded data removed]",
      "text/latex": [
       "$\\displaystyle \\frac{c^{1 - \\theta} - 1}{1 - \\theta}$"
      ],
      "text/plain": [
       " 1 - θ    \n",
       "c      - 1\n",
       "──────────\n",
       "  1 - θ   "
      ]
     },
     "execution_count": 8,
     "metadata": {},
     "output_type": "execute_result"
    }
   ],
   "source": [
    "#---- ch07/utility\n",
    "c, theta = sp.symbols(\"c theta\")\n",
    "u = (c**(1 - theta) - 1) / (1 - theta)\n",
    "u"
   ]
  },
  {
   "cell_type": "code",
   "execution_count": 9,
   "metadata": {},
   "outputs": [
    {
     "data": {
      "image/png": "[encoded data removed]",
      "text/latex": [
       "$\\displaystyle \\theta$"
      ],
      "text/plain": [
       "θ"
      ]
     },
     "execution_count": 9,
     "metadata": {},
     "output_type": "execute_result"
    }
   ],
   "source": [
    "#---- ch07/crra\n",
    "(- c * u.diff(c, 2) / u.diff(c)).simplify()"
   ]
  },
  {
   "cell_type": "code",
   "execution_count": 10,
   "metadata": {},
   "outputs": [
    {
     "data": {
      "image/png": "[encoded data removed]",
      "text/latex": [
       "$\\displaystyle \\left[ \\left(\\frac{\\delta + g n + g + n}{s}\\right)^{\\frac{1}{\\alpha - 1}}\\right]$"
      ],
      "text/plain": [
       "⎡                   1  ⎤\n",
       "⎢                 ─────⎥\n",
       "⎢                 α - 1⎥\n",
       "⎢⎛δ + g⋅n + g + n⎞     ⎥\n",
       "⎢⎜───────────────⎟     ⎥\n",
       "⎣⎝       s       ⎠     ⎦"
      ]
     },
     "execution_count": 10,
     "metadata": {},
     "output_type": "execute_result"
    }
   ],
   "source": [
    "#---- ch07/solow-ss\n",
    "k, s, delta, alpha, g, n = sp.symbols(\"k s delta alpha g n\")\n",
    "ss = sp.solve(s * k**alpha - (delta + g + n + g * n) * k, k)\n",
    "ss"
   ]
  },
  {
   "cell_type": "code",
   "execution_count": 11,
   "metadata": {},
   "outputs": [
    {
     "data": {
      "image/png": "[encoded data removed]",
      "text/latex": [
       "$\\displaystyle 11.9145868157865$"
      ],
      "text/plain": [
       "11.9145868157865"
      ]
     },
     "execution_count": 11,
     "metadata": {},
     "output_type": "execute_result"
    }
   ],
   "source": [
    "#---- ch07/solow-ss-subs\n",
    "ss[0].subs({alpha: 0.3, s: 0.4, delta: 0.02, g: 0.03, n: 0.02})"
   ]
  },
  {
   "cell_type": "code",
   "execution_count": 12,
   "metadata": {},
   "outputs": [
    {
     "data": {
      "image/png": "[encoded data removed]",
      "text/latex": [
       "$\\displaystyle \\frac{44.1128089260847}{\\left(\\frac{1}{s}\\right)^{1.42857142857143}}$"
      ],
      "text/plain": [
       "                    -1.42857142857143\n",
       "                 ⎛1⎞                 \n",
       "44.1128089260847⋅⎜─⎟                 \n",
       "                 ⎝s⎠                 "
      ]
     },
     "execution_count": 12,
     "metadata": {},
     "output_type": "execute_result"
    }
   ],
   "source": [
    "#---- ch07/solow-ss-subs2\n",
    "ks = ss[0].subs({alpha: 0.3, delta: 0.02, g: 0.03, n: 0.02})\n",
    "ks"
   ]
  },
  {
   "cell_type": "code",
   "execution_count": 13,
   "metadata": {},
   "outputs": [
    {
     "data": {
      "image/png": "[encoded data removed]",
      "text/latex": [
       "$\\displaystyle 7.899417661971007$"
      ],
      "text/plain": [
       "7.899417661971007"
      ]
     },
     "execution_count": 13,
     "metadata": {},
     "output_type": "execute_result"
    }
   ],
   "source": [
    "#---- ch07/lambdify\n",
    "f_ks = sp.lambdify(s, ks)\n",
    "f_ks(0.3)"
   ]
  },
  {
   "cell_type": "code",
   "execution_count": 14,
   "metadata": {},
   "outputs": [
    {
     "data": {
      "image/png": "[encoded data removed]",
      "text/plain": [
       "<Figure size 432x288 with 1 Axes>"
      ]
     },
     "metadata": {
      "needs_background": "light"
     },
     "output_type": "display_data"
    }
   ],
   "source": [
    "#---- ch07/lambdify-plot/plot\n",
    "import numpy as np\n",
    "import matplotlib.pyplot as plt\n",
    "\n",
    "sgrid = np.linspace(0.001, 1, 100)\n",
    "plt.plot(sgrid, f_ks(sgrid))\n",
    "plt.xlabel(\"s\")\n",
    "plt.ylabel(\"k*\")\n",
    "plt.show()"
   ]
  },
  {
   "cell_type": "markdown",
   "metadata": {},
   "source": [
    "### Example"
   ]
  },
  {
   "cell_type": "code",
   "execution_count": 15,
   "metadata": {},
   "outputs": [
    {
     "data": {
      "image/png": "[encoded data removed]",
      "text/latex": [
       "$\\displaystyle \\left[ \\left\\{ \\lambda : \\frac{\\sqrt{3}}{6}, \\  x : 50, \\  y : \\frac{50}{3}\\right\\}\\right]$"
      ],
      "text/plain": [
       "⎡⎧   √3                ⎫⎤\n",
       "⎢⎨λ: ──, x: 50, y: 50/3⎬⎥\n",
       "⎣⎩   6                 ⎭⎦"
      ]
     },
     "execution_count": 15,
     "metadata": {},
     "output_type": "execute_result"
    }
   ],
   "source": [
    "#---- ch07/lagrangian\n",
    "lamda = sp.symbols(\"lamda\")\n",
    "L = sp.sqrt(x * y) + lamda * (100 - x - 3 * y)\n",
    "L\n",
    "sp.solve([L.diff(x), L.diff(y), L.diff(lamda)])"
   ]
  },
  {
   "cell_type": "code",
   "execution_count": 16,
   "metadata": {},
   "outputs": [
    {
     "data": {
      "image/png": "[encoded data removed]",
      "text/latex": [
       "$\\displaystyle e^{\\frac{x}{2}} + \\sin{\\left(3 x \\right)}$"
      ],
      "text/plain": [
       " x           \n",
       " ─           \n",
       " 2           \n",
       "ℯ  + sin(3⋅x)"
      ]
     },
     "execution_count": 16,
     "metadata": {},
     "output_type": "execute_result"
    }
   ],
   "source": [
    "#---- ch07/approximation1\n",
    "fx = sp.sin(3 * x) + sp.exp(x / 2)\n",
    "fx"
   ]
  },
  {
   "cell_type": "code",
   "execution_count": 17,
   "metadata": {},
   "outputs": [
    {
     "data": {
      "image/png": "[encoded data removed]",
      "text/latex": [
       "$\\displaystyle \\frac{\\left(x - y\\right)^{2} \\left(\\frac{e^{\\frac{y}{2}}}{4} - 9 \\sin{\\left(3 y \\right)}\\right)}{2} + \\left(x - y\\right) \\left(\\frac{e^{\\frac{y}{2}}}{2} + 3 \\cos{\\left(3 y \\right)}\\right) + e^{\\frac{y}{2}} + \\sin{\\left(3 y \\right)}$"
      ],
      "text/plain": [
       "         ⎛ y             ⎞                                            \n",
       "         ⎜ ─             ⎟                                            \n",
       "         ⎜ 2             ⎟           ⎛ y             ⎞                \n",
       "       2 ⎜ℯ              ⎟           ⎜ ─             ⎟    y           \n",
       "(x - y) ⋅⎜── - 9⋅sin(3⋅y)⎟           ⎜ 2             ⎟    ─           \n",
       "         ⎝4              ⎠           ⎜ℯ              ⎟    2           \n",
       "────────────────────────── + (x - y)⋅⎜── + 3⋅cos(3⋅y)⎟ + ℯ  + sin(3⋅y)\n",
       "            2                        ⎝2              ⎠                "
      ]
     },
     "execution_count": 17,
     "metadata": {},
     "output_type": "execute_result"
    }
   ],
   "source": [
    "#---- ch07/approximation2\n",
    "fx_quad_withloop = (fx.subs({x: y}) \n",
    "                    + sum(fx.diff(x, i).subs({x: y}) * (x - y)**i / i \n",
    "                          for i in range(1, 3)))\n",
    "fx_quad_withloop"
   ]
  },
  {
   "cell_type": "code",
   "execution_count": 18,
   "metadata": {},
   "outputs": [
    {
     "data": {
      "image/png": "[encoded data removed]",
      "text/latex": [
       "$\\displaystyle \\left(x - y\\right)^{2} \\left(\\frac{\\sqrt{e^{y}}}{8} - \\frac{9 \\sin{\\left(3 y \\right)}}{2}\\right) + \\left(x - y\\right) \\left(\\frac{\\sqrt{e^{y}}}{2} + 3 \\cos{\\left(3 y \\right)}\\right) + e^{\\frac{y}{2}} + \\sin{\\left(3 y \\right)}$"
      ],
      "text/plain": [
       "         ⎛   ____             ⎞           ⎛   ____             ⎞    y         \n",
       "         ⎜  ╱  y              ⎟           ⎜  ╱  y              ⎟    ─         \n",
       "       2 ⎜╲╱  ℯ     9⋅sin(3⋅y)⎟           ⎜╲╱  ℯ               ⎟    2         \n",
       "(x - y) ⋅⎜─────── - ──────────⎟ + (x - y)⋅⎜─────── + 3⋅cos(3⋅y)⎟ + ℯ  + sin(3⋅\n",
       "         ⎝   8          2     ⎠           ⎝   2                ⎠              \n",
       "\n",
       "  \n",
       "  \n",
       "  \n",
       "y)\n",
       "  "
      ]
     },
     "execution_count": 18,
     "metadata": {},
     "output_type": "execute_result"
    }
   ],
   "source": [
    "#---- ch07/approximation3\n",
    "fx_quad = fx.series(x, y, n=3).removeO()\n",
    "fx_quad"
   ]
  },
  {
   "cell_type": "code",
   "execution_count": 19,
   "metadata": {},
   "outputs": [
    {
     "data": {
      "image/png": "[encoded data removed]",
      "text/plain": [
       "<Figure size 432x288 with 1 Axes>"
      ]
     },
     "metadata": {
      "needs_background": "light"
     },
     "output_type": "display_data"
    }
   ],
   "source": [
    "#---- ch07/approximation-plot/plot\n",
    "fx_fun = sp.lambdify(x, fx)\n",
    "fx_quad_fun = sp.lambdify(x, fx_quad.subs({y: 2}))\n",
    "\n",
    "xgrid = np.linspace(1, 3)\n",
    "plt.plot(xgrid, fx_fun(xgrid), label='Original')\n",
    "plt.plot(xgrid, fx_quad_fun(xgrid), label='Quadratic')\n",
    "plt.legend()\n",
    "plt.show()"
   ]
  },
  {
   "cell_type": "markdown",
   "metadata": {},
   "source": [
    "## 数値計算"
   ]
  },
  {
   "cell_type": "code",
   "execution_count": 33,
   "metadata": {},
   "outputs": [],
   "source": [
    "#---- ch07/scipy.optimize\n",
    "from scipy.optimize import newton, fsolve"
   ]
  },
  {
   "cell_type": "code",
   "execution_count": 34,
   "metadata": {},
   "outputs": [
    {
     "data": {
      "image/png": "[encoded data removed]",
      "text/latex": [
       "$\\displaystyle 1.7320508075688772$"
      ],
      "text/plain": [
       "1.7320508075688772"
      ]
     },
     "execution_count": 34,
     "metadata": {},
     "output_type": "execute_result"
    }
   ],
   "source": [
    "#---- ch07/newton-single\n",
    "def f(x):\n",
    "    return x**2 - 3\n",
    "\n",
    "def df(x):\n",
    "    return 2 * x\n",
    "    \n",
    "newton(f, x0=3, fprime=df)"
   ]
  },
  {
   "cell_type": "code",
   "execution_count": 35,
   "metadata": {},
   "outputs": [
    {
     "data": {
      "text/plain": [
       "array([-1.73205081,  1.73205081])"
      ]
     },
     "execution_count": 35,
     "metadata": {},
     "output_type": "execute_result"
    }
   ],
   "source": [
    "#---- ch07/newton-ndarray\n",
    "newton(f, x0=np.array([-3, 3]), fprime=df)"
   ]
  },
  {
   "cell_type": "code",
   "execution_count": 61,
   "metadata": {},
   "outputs": [
    {
     "data": {
      "text/plain": [
       "array([5.12820513e+02, 5.11538462e+02, 1.95000000e-03])"
      ]
     },
     "execution_count": 61,
     "metadata": {},
     "output_type": "execute_result"
    }
   ],
   "source": [
    "#---- ch07/fsolve\n",
    "beta, r = 0.95, 0.05\n",
    "\n",
    "def f(x):\n",
    "    c1, c2, lam = x\n",
    "    return [1 / c1 - lam,\n",
    "            beta / c2 - lam / (1 + r),\n",
    "            1000 - c1 - c2 / (1 + r)]\n",
    "\n",
    "def df(x):\n",
    "    c1, c2, lam = x\n",
    "    return [[-1 / c1**2, 0,             -1],\n",
    "            [0,          -beta / c2**2, -1 / (1 + r)],\n",
    "            [-1,         -1 / (1 + r),  0]]\n",
    "\n",
    "fsolve(f, x0=[100, 100, 0.1], fprime=df)"
   ]
  },
  {
   "cell_type": "markdown",
   "metadata": {},
   "source": [
    "### シンボリック＋数値計算"
   ]
  },
  {
   "cell_type": "code",
   "execution_count": 106,
   "metadata": {},
   "outputs": [
    {
     "data": {
      "image/png": "[encoded data removed]",
      "text/latex": [
       "$\\displaystyle \\frac{\\beta c_{2}^{1 - \\theta}}{1 - \\theta} + \\frac{c_{1}^{1 - \\theta}}{1 - \\theta}$"
      ],
      "text/plain": [
       "    1 - θ     1 - θ\n",
       "β⋅c₂        c₁     \n",
       "───────── + ───────\n",
       "  1 - θ      1 - θ "
      ]
     },
     "execution_count": 106,
     "metadata": {},
     "output_type": "execute_result"
    }
   ],
   "source": [
    "#---- ch07/full-workflow-utility\n",
    "c1, c2, theta, r, beta, lamda = sp.symbols(\"c_1 c_2 theta r beta lamda\")\n",
    "U = c1**(1 - theta) / (1 - theta) + beta * c2**(1 - theta) / (1 - theta)\n",
    "U"
   ]
  },
  {
   "cell_type": "code",
   "execution_count": 107,
   "metadata": {},
   "outputs": [
    {
     "data": {
      "image/png": "[encoded data removed]",
      "text/latex": [
       "$\\displaystyle \\frac{\\beta c_{2}^{1 - \\theta}}{1 - \\theta} + \\frac{c_{1}^{1 - \\theta}}{1 - \\theta} + \\lambda \\left(- c_{1} - \\frac{c_{2}}{r + 1} + 1000\\right)$"
      ],
      "text/plain": [
       "    1 - θ     1 - θ                         \n",
       "β⋅c₂        c₁          ⎛        c₂        ⎞\n",
       "───────── + ─────── + λ⋅⎜-c₁ - ───── + 1000⎟\n",
       "  1 - θ      1 - θ      ⎝      r + 1       ⎠"
      ]
     },
     "execution_count": 107,
     "metadata": {},
     "output_type": "execute_result"
    }
   ],
   "source": [
    "#---- ch07/full-workflow-lagrangian\n",
    "L = U + lamda * (1000 - c1 - c2 / (1 + r))\n",
    "L"
   ]
  },
  {
   "cell_type": "code",
   "execution_count": 108,
   "metadata": {},
   "outputs": [
    {
     "data": {
      "text/latex": [
       "$\\displaystyle \\left[\\begin{matrix}- \\lambda + \\frac{c_{1}^{1 - \\theta}}{c_{1}}\\\\\\frac{\\beta c_{2}^{1 - \\theta}}{c_{2}} - \\frac{\\lambda}{r + 1}\\\\- c_{1} - \\frac{c_{2}}{r + 1} + 1000\\end{matrix}\\right]$"
      ],
      "text/plain": [
       "⎡          1 - θ   ⎤\n",
       "⎢        c₁        ⎥\n",
       "⎢   -λ + ───────   ⎥\n",
       "⎢           c₁     ⎥\n",
       "⎢                  ⎥\n",
       "⎢    1 - θ         ⎥\n",
       "⎢β⋅c₂          λ   ⎥\n",
       "⎢───────── - ───── ⎥\n",
       "⎢    c₂      r + 1 ⎥\n",
       "⎢                  ⎥\n",
       "⎢        c₂        ⎥\n",
       "⎢-c₁ - ───── + 1000⎥\n",
       "⎣      r + 1       ⎦"
      ]
     },
     "execution_count": 108,
     "metadata": {},
     "output_type": "execute_result"
    }
   ],
   "source": [
    "#---- ch07/full-workflow-deriv1\n",
    "f_sp = sp.Matrix([L.diff(v) for v in (c1, c2, lamda)])\n",
    "f_sp"
   ]
  },
  {
   "cell_type": "code",
   "execution_count": 109,
   "metadata": {},
   "outputs": [
    {
     "data": {
      "text/latex": [
       "$\\displaystyle \\left[\\begin{matrix}\\frac{c_{1}^{1 - \\theta} \\left(1 - \\theta\\right)}{c_{1}^{2}} - \\frac{c_{1}^{1 - \\theta}}{c_{1}^{2}} & 0 & -1\\\\0 & \\frac{\\beta c_{2}^{1 - \\theta} \\left(1 - \\theta\\right)}{c_{2}^{2}} - \\frac{\\beta c_{2}^{1 - \\theta}}{c_{2}^{2}} & - \\frac{1}{r + 1}\\\\-1 & - \\frac{1}{r + 1} & 0\\end{matrix}\\right]$"
      ],
      "text/plain": [
       "⎡  1 - θ             1 - θ                                      ⎤\n",
       "⎢c₁     ⋅(1 - θ)   c₁                                           ⎥\n",
       "⎢─────────────── - ───────                0                 -1  ⎥\n",
       "⎢        2             2                                        ⎥\n",
       "⎢      c₁            c₁                                         ⎥\n",
       "⎢                                                               ⎥\n",
       "⎢                               1 - θ               1 - θ       ⎥\n",
       "⎢                           β⋅c₂     ⋅(1 - θ)   β⋅c₂        -1  ⎥\n",
       "⎢            0              ───────────────── - ─────────  ─────⎥\n",
       "⎢                                    2               2     r + 1⎥\n",
       "⎢                                  c₂              c₂           ⎥\n",
       "⎢                                                               ⎥\n",
       "⎢                                        -1                     ⎥\n",
       "⎢           -1                          ─────                0  ⎥\n",
       "⎣                                       r + 1                   ⎦"
      ]
     },
     "execution_count": 109,
     "metadata": {},
     "output_type": "execute_result"
    }
   ],
   "source": [
    "#---- ch07/full-workflow-deriv2\n",
    "Df_sp = sp.Matrix(sp.BlockMatrix([f_sp.diff(v) for v in (c1, c2, lamda)]))\n",
    "Df_sp"
   ]
  },
  {
   "cell_type": "code",
   "execution_count": 122,
   "metadata": {},
   "outputs": [],
   "source": [
    "#---- ch07/full-workflow-numeric\n",
    "params = {beta: 0.90, theta: 0.3, r: 0.1}\n",
    "f = sp.lambdify([(c1, c2, lamda)], np.squeeze(f_sp.subs(params)))\n",
    "Df = sp.lambdify([(c1, c2, lamda)], Df_sp.subs(params))"
   ]
  },
  {
   "cell_type": "code",
   "execution_count": 124,
   "metadata": {},
   "outputs": [
    {
     "data": {
      "image/png": "[encoded data removed]",
      "text/latex": [
       "$\\displaystyle \\left( 532.158371871505, \\  514.6257909413446, \\  0.15212049514587525\\right)$"
      ],
      "text/plain": [
       "(532.158371871505, 514.6257909413446, 0.15212049514587525)"
      ]
     },
     "execution_count": 124,
     "metadata": {},
     "output_type": "execute_result"
    }
   ],
   "source": [
    "#---- ch07/full-workflow-fsolve\n",
    "c1_star, c2_star, lam_star = fsolve(f, x0=[500, 500, 1], fprime=Df)\n",
    "c1_star, c2_star, lam_star"
   ]
  },
  {
   "cell_type": "code",
   "execution_count": 125,
   "metadata": {},
   "outputs": [
    {
     "data": {
      "image/png": "[encoded data removed]",
      "text/latex": [
       "$\\displaystyle -0.03294617139725056$"
      ],
      "text/plain": [
       "-0.03294617139725056"
      ]
     },
     "execution_count": 125,
     "metadata": {},
     "output_type": "execute_result"
    }
   ],
   "source": [
    "#---- ch07/full-workflow-change\n",
    "(c2_star - c1_star) / c1_star"
   ]
  },
  {
   "cell_type": "code",
   "execution_count": 145,
   "metadata": {},
   "outputs": [
    {
     "data": {
      "image/png": "[encoded data removed]",
      "text/plain": [
       "<Figure size 432x288 with 1 Axes>"
      ]
     },
     "metadata": {
      "needs_background": "light"
     },
     "output_type": "display_data"
    }
   ],
   "source": [
    "#---- ch07/full-workflow-loop/plot\n",
    "N = 30\n",
    "rv = np.linspace(0.01, 0.2, N)\n",
    "theta_v = np.array([0.3, 1.0, 5])\n",
    "\n",
    "for thta in theta_v:\n",
    "    change = np.empty(N)\n",
    "    for i in range(N):\n",
    "        # Step 4\n",
    "        params = {beta: 0.90, theta: thta, r: rv[i]}\n",
    "        f = sp.lambdify([(c1, c2, lamda)], np.squeeze(f_sp.subs(params)))\n",
    "        Df = sp.lambdify([(c1, c2, lamda)], Df_sp.subs(params))\n",
    "\n",
    "        # Step 5\n",
    "        c1_star, c2_star, lam_star = fsolve(f, x0=[500, 500, 1], fprime=Df)\n",
    "\n",
    "        # Step 6\n",
    "        change[i] = (c2_star - c1_star) / c1_star\n",
    "\n",
    "    plt.plot(rv, change, label=f\"theta={thta}\")\n",
    "    \n",
    "plt.legend()\n",
    "plt.xlabel(\"r\")\n",
    "plt.ylabel(\"Growth rate of c\")\n",
    "plt.show()"
   ]
  },
  {
   "cell_type": "markdown",
   "metadata": {},
   "source": [
    "## 編集用コード"
   ]
  },
  {
   "cell_type": "raw",
   "metadata": {},
   "source": [
    "#---- ch07/for-pdf-only/noinc\n",
    "# PDF出力用のコード\n",
    "sp.init_printing(pretty_printer=sp.printing.latex)"
   ]
  },
  {
   "cell_type": "code",
   "execution_count": null,
   "metadata": {},
   "outputs": [],
   "source": []
  }
 ],
 "metadata": {
  "kernelspec": {
   "display_name": "Python 3",
   "language": "python",
   "name": "python3"
  },
  "language_info": {
   "codemirror_mode": {
    "name": "ipython",
    "version": 3
   },
   "file_extension": ".py",
   "mimetype": "text/x-python",
   "name": "python",
   "nbconvert_exporter": "python",
   "pygments_lexer": "ipython3",
   "version": "3.7.7"
  }
 },
 "nbformat": 4,
 "nbformat_minor": 4
}
