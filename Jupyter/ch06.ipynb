{
 "cells": [
  {
   "cell_type": "code",
   "execution_count": null,
   "metadata": {},
   "outputs": [],
   "source": [
    "#---- for high-quality plots\n",
    "# import matplotlib\n",
    "# matplotlib.rcParams['figure.dpi'] = 196"
   ]
  },
  {
   "cell_type": "markdown",
   "metadata": {},
   "source": [
    "## 挿入用のコード"
   ]
  },
  {
   "cell_type": "code",
   "execution_count": 2,
   "metadata": {},
   "outputs": [],
   "source": [
    "#---- ch06/import\n",
    "import numpy as np\n",
    "import pandas as pd\n",
    "import matplotlib.pyplot as plt"
   ]
  },
  {
   "cell_type": "code",
   "execution_count": 3,
   "metadata": {},
   "outputs": [],
   "source": [
    "#---- ch06/function-1\n",
    "def f(x):\n",
    "    return x ** 3 - 10 * x"
   ]
  },
  {
   "cell_type": "code",
   "execution_count": 4,
   "metadata": {},
   "outputs": [
    {
     "data": {
      "text/plain": [
       "-24"
      ]
     },
     "execution_count": 4,
     "metadata": {},
     "output_type": "execute_result"
    }
   ],
   "source": [
    "#---- ch06/function-2\n",
    "f(3)\n",
    "f(-4)"
   ]
  },
  {
   "cell_type": "code",
   "execution_count": 5,
   "metadata": {},
   "outputs": [
    {
     "data": {
      "text/plain": [
       "array([ -9, -12,  -3])"
      ]
     },
     "execution_count": 5,
     "metadata": {},
     "output_type": "execute_result"
    }
   ],
   "source": [
    "#---- ch06/function-3\n",
    "a = np.array([1, 2, 3])\n",
    "f(a)"
   ]
  },
  {
   "cell_type": "raw",
   "metadata": {},
   "source": [
    "#---- ch06/function-error/dnr\n",
    "b = [1, 2, 3]\n",
    "f(b)"
   ]
  },
  {
   "cell_type": "code",
   "execution_count": 6,
   "metadata": {},
   "outputs": [
    {
     "data": {
      "image/png": "[encoded data removed]",
      "text/plain": [
       "<Figure size 432x288 with 1 Axes>"
      ]
     },
     "metadata": {
      "needs_background": "light"
     },
     "output_type": "display_data"
    }
   ],
   "source": [
    "#---- ch06/function-np/plot\n",
    "x = np.linspace(-4, 4, 200)\n",
    "plt.plot(x, f(x))\n",
    "plt.show()"
   ]
  },
  {
   "cell_type": "code",
   "execution_count": 7,
   "metadata": {},
   "outputs": [],
   "source": [
    "#---- ch06/define-multivar-func\n",
    "def cd(x, y):\n",
    "    alpha = 0.3\n",
    "    return x**alpha * y**(1 - alpha)"
   ]
  },
  {
   "cell_type": "code",
   "execution_count": 8,
   "metadata": {},
   "outputs": [
    {
     "data": {
      "text/plain": [
       "2.6564024798866686"
      ]
     },
     "execution_count": 8,
     "metadata": {},
     "output_type": "execute_result"
    }
   ],
   "source": [
    "#---- ch06/use-multivar-func-1\n",
    "cd(2, 3)"
   ]
  },
  {
   "cell_type": "code",
   "execution_count": 9,
   "metadata": {},
   "outputs": [
    {
     "data": {
      "text/plain": [
       "array([3., 4., 6.])"
      ]
     },
     "execution_count": 9,
     "metadata": {},
     "output_type": "execute_result"
    }
   ],
   "source": [
    "#---- ch06/one-line\n",
    "def digits(x): return np.ceil(np.log10(x + 1))\n",
    "\n",
    "digits(np.array([102, 2020, 155550]))"
   ]
  },
  {
   "cell_type": "markdown",
   "metadata": {},
   "source": [
    "#### ラムダ式"
   ]
  },
  {
   "cell_type": "code",
   "execution_count": 10,
   "metadata": {},
   "outputs": [
    {
     "data": {
      "text/plain": [
       "3.0"
      ]
     },
     "execution_count": 10,
     "metadata": {},
     "output_type": "execute_result"
    }
   ],
   "source": [
    "#---- ch06/simple-lambda\n",
    "digits2 = lambda x: np.ceil(np.log10(x + 1))\n",
    "digits2(993)"
   ]
  },
  {
   "cell_type": "code",
   "execution_count": 11,
   "metadata": {},
   "outputs": [
    {
     "data": {
      "text/html": [
       "<div>\n",
       "<style scoped>\n",
       "    .dataframe tbody tr th:only-of-type {\n",
       "        vertical-align: middle;\n",
       "    }\n",
       "\n",
       "    .dataframe tbody tr th {\n",
       "        vertical-align: top;\n",
       "    }\n",
       "\n",
       "    .dataframe thead th {\n",
       "        text-align: right;\n",
       "    }\n",
       "</style>\n",
       "<table border=\"1\" class=\"dataframe\">\n",
       "  <thead>\n",
       "    <tr style=\"text-align: right;\">\n",
       "      <th></th>\n",
       "      <th>A</th>\n",
       "      <th>B</th>\n",
       "      <th>C</th>\n",
       "    </tr>\n",
       "  </thead>\n",
       "  <tbody>\n",
       "    <tr>\n",
       "      <th>0</th>\n",
       "      <td>0</td>\n",
       "      <td>1</td>\n",
       "      <td>4</td>\n",
       "    </tr>\n",
       "    <tr>\n",
       "      <th>1</th>\n",
       "      <td>9</td>\n",
       "      <td>16</td>\n",
       "      <td>25</td>\n",
       "    </tr>\n",
       "    <tr>\n",
       "      <th>2</th>\n",
       "      <td>36</td>\n",
       "      <td>49</td>\n",
       "      <td>64</td>\n",
       "    </tr>\n",
       "    <tr>\n",
       "      <th>3</th>\n",
       "      <td>81</td>\n",
       "      <td>100</td>\n",
       "      <td>121</td>\n",
       "    </tr>\n",
       "  </tbody>\n",
       "</table>\n",
       "</div>"
      ],
      "text/plain": [
       "    A    B    C\n",
       "0   0    1    4\n",
       "1   9   16   25\n",
       "2  36   49   64\n",
       "3  81  100  121"
      ]
     },
     "execution_count": 11,
     "metadata": {},
     "output_type": "execute_result"
    }
   ],
   "source": [
    "#---- ch06/pandas-apply\n",
    "x = pd.DataFrame(np.arange(12).reshape(4, 3), columns=list(\"ABC\"))\n",
    "x.apply(lambda x: x ** 2)"
   ]
  },
  {
   "cell_type": "markdown",
   "metadata": {},
   "source": [
    "### 引数に関するテクニック\n",
    "\n",
    "#### 位置引数とキーワード引数"
   ]
  },
  {
   "cell_type": "code",
   "execution_count": 12,
   "metadata": {},
   "outputs": [
    {
     "data": {
      "text/plain": [
       "2.6564024798866686"
      ]
     },
     "execution_count": 12,
     "metadata": {},
     "output_type": "execute_result"
    }
   ],
   "source": [
    "#---- ch06/use-multivar-func-2\n",
    "cd(x=2, y=3)"
   ]
  },
  {
   "cell_type": "code",
   "execution_count": 13,
   "metadata": {},
   "outputs": [
    {
     "data": {
      "text/plain": [
       "2.6564024798866686"
      ]
     },
     "execution_count": 13,
     "metadata": {},
     "output_type": "execute_result"
    }
   ],
   "source": [
    "#---- ch06/use-multivar-func-3\n",
    "cd(y=3, x=2)"
   ]
  },
  {
   "cell_type": "code",
   "execution_count": 14,
   "metadata": {},
   "outputs": [
    {
     "data": {
      "text/plain": [
       "2.6564024798866686"
      ]
     },
     "execution_count": 14,
     "metadata": {},
     "output_type": "execute_result"
    }
   ],
   "source": [
    "#---- ch06/use-multivar-ok\n",
    "cd(2, y=3)"
   ]
  },
  {
   "cell_type": "raw",
   "metadata": {},
   "source": [
    "#---- ch06/use-multivar-error/dnr\n",
    "cd(x=2, 3)"
   ]
  },
  {
   "cell_type": "markdown",
   "metadata": {},
   "source": [
    "#### オプション引数"
   ]
  },
  {
   "cell_type": "code",
   "execution_count": 15,
   "metadata": {},
   "outputs": [],
   "source": [
    "#---- ch06/optional-argument\n",
    "def production(k, l, a=1):\n",
    "    alpha = 0.3\n",
    "    return a * k**alpha * l**(1 - alpha)"
   ]
  },
  {
   "cell_type": "code",
   "execution_count": 16,
   "metadata": {},
   "outputs": [
    {
     "data": {
      "text/plain": [
       "2.6564024798866686"
      ]
     },
     "execution_count": 16,
     "metadata": {},
     "output_type": "execute_result"
    }
   ],
   "source": [
    "#---- ch06/optional-argument-1\n",
    "production(2, 3)"
   ]
  },
  {
   "cell_type": "code",
   "execution_count": 17,
   "metadata": {},
   "outputs": [
    {
     "data": {
      "text/plain": [
       "5.312804959773337"
      ]
     },
     "execution_count": 17,
     "metadata": {},
     "output_type": "execute_result"
    }
   ],
   "source": [
    "#---- ch06/optional-argument-2\n",
    "production(2, 3, 2)"
   ]
  },
  {
   "cell_type": "markdown",
   "metadata": {},
   "source": [
    "#### * と **"
   ]
  },
  {
   "cell_type": "code",
   "execution_count": 18,
   "metadata": {},
   "outputs": [
    {
     "data": {
      "text/plain": [
       "4"
      ]
     },
     "execution_count": 18,
     "metadata": {},
     "output_type": "execute_result"
    }
   ],
   "source": [
    "#---- ch06/arbitrary-number\n",
    "def number_of_args(*args):\n",
    "    return len(args)\n",
    "\n",
    "number_of_args(\"First\", 2, [3, 2, 1], \"End\")"
   ]
  },
  {
   "cell_type": "code",
   "execution_count": 19,
   "metadata": {},
   "outputs": [
    {
     "data": {
      "text/plain": [
       "{'x': 1, 'y': 2, 'z': [1, 2]}"
      ]
     },
     "execution_count": 19,
     "metadata": {},
     "output_type": "execute_result"
    }
   ],
   "source": [
    "#---- ch06/kwargs\n",
    "def show_arguments(**kwargs):\n",
    "    return kwargs\n",
    "\n",
    "show_arguments(x=1, y=2, z=[1, 2])"
   ]
  },
  {
   "cell_type": "code",
   "execution_count": 20,
   "metadata": {},
   "outputs": [
    {
     "data": {
      "text/plain": [
       "(('x', 'y'), {'a': 1, 'b': 2, 'c': 3})"
      ]
     },
     "execution_count": 20,
     "metadata": {},
     "output_type": "execute_result"
    }
   ],
   "source": [
    "#---- ch06/star-both\n",
    "def function(*args, **kwargs):\n",
    "    return (args, kwargs)\n",
    "\n",
    "function(\"x\", \"y\", a=1, b=2, c=3)"
   ]
  },
  {
   "cell_type": "code",
   "execution_count": 21,
   "metadata": {},
   "outputs": [
    {
     "data": {
      "text/plain": [
       "2.6564024798866686"
      ]
     },
     "execution_count": 21,
     "metadata": {},
     "output_type": "execute_result"
    }
   ],
   "source": [
    "#---- ch06/call-with-star\n",
    "xy = (2, 3)\n",
    "cd(*xy)"
   ]
  },
  {
   "cell_type": "code",
   "execution_count": 22,
   "metadata": {},
   "outputs": [
    {
     "data": {
      "text/plain": [
       "2.6564024798866686"
      ]
     },
     "execution_count": 22,
     "metadata": {},
     "output_type": "execute_result"
    }
   ],
   "source": [
    "#---- ch06/call-with-2stars\n",
    "xydict = {'x': 2, 'y': 3}\n",
    "cd(**xydict)"
   ]
  },
  {
   "cell_type": "markdown",
   "metadata": {},
   "source": [
    "### 副作用"
   ]
  },
  {
   "cell_type": "code",
   "execution_count": 23,
   "metadata": {},
   "outputs": [
    {
     "name": "stdout",
     "output_type": "stream",
     "text": [
      "3\n",
      "Doubling...\n"
     ]
    },
    {
     "data": {
      "text/plain": [
       "6"
      ]
     },
     "execution_count": 23,
     "metadata": {},
     "output_type": "execute_result"
    }
   ],
   "source": [
    "#---- ch06/function-print\n",
    "def g(x):\n",
    "    print(x)\n",
    "    print(\"Doubling...\")\n",
    "    return 2 * x\n",
    "\n",
    "g(3)"
   ]
  },
  {
   "cell_type": "raw",
   "metadata": {},
   "source": [
    "#---- ch06/function-print-error/dnr\n",
    "def h(x):\n",
    "    print(2 * x)\n",
    "    \n",
    "4 * h(3)    # 4 * 2 * 3 のつもり"
   ]
  },
  {
   "cell_type": "code",
   "execution_count": 24,
   "metadata": {},
   "outputs": [
    {
     "data": {
      "text/plain": [
       "[2, 2, 3]"
      ]
     },
     "execution_count": 24,
     "metadata": {},
     "output_type": "execute_result"
    }
   ],
   "source": [
    "#---- ch06/change-copy-hopefully\n",
    "def double_1st_elem(x):\n",
    "    y = x\n",
    "    y[0] = 2 * x[0]\n",
    "    return y\n",
    "\n",
    "x = [1, 2, 3]\n",
    "double_1st_elem(x)"
   ]
  },
  {
   "cell_type": "code",
   "execution_count": 25,
   "metadata": {},
   "outputs": [
    {
     "data": {
      "text/plain": [
       "[2, 2, 3]"
      ]
     },
     "execution_count": 25,
     "metadata": {},
     "output_type": "execute_result"
    }
   ],
   "source": [
    "#---- ch06/check-x\n",
    "x"
   ]
  },
  {
   "cell_type": "code",
   "execution_count": 26,
   "metadata": {},
   "outputs": [
    {
     "data": {
      "text/plain": [
       "[1, 2, 3]"
      ]
     },
     "execution_count": 26,
     "metadata": {},
     "output_type": "execute_result"
    }
   ],
   "source": [
    "#---- ch06/change-copy-really\n",
    "def double_1st(x):\n",
    "    y = x[:]\n",
    "    y[0] = 2 * x[0]\n",
    "    return y\n",
    "\n",
    "x = [1, 2, 3]\n",
    "double_1st(x)\n",
    "x"
   ]
  },
  {
   "cell_type": "markdown",
   "metadata": {},
   "source": [
    "### 関数のスコープ"
   ]
  },
  {
   "cell_type": "code",
   "execution_count": 27,
   "metadata": {},
   "outputs": [
    {
     "name": "stdout",
     "output_type": "stream",
     "text": [
      "0\n",
      "3\n"
     ]
    }
   ],
   "source": [
    "#---- ch06/scope\n",
    "a = 3                # (1) a==3\n",
    "\n",
    "def fun(x):\n",
    "    a = 0            # (2) a==0\n",
    "    return x + a\n",
    "\n",
    "print(fun(0))        # (3) a==0\n",
    "print(a)             # (4) a==3"
   ]
  },
  {
   "cell_type": "code",
   "execution_count": 28,
   "metadata": {},
   "outputs": [
    {
     "data": {
      "text/plain": [
       "6"
      ]
     },
     "execution_count": 28,
     "metadata": {},
     "output_type": "execute_result"
    }
   ],
   "source": [
    "#---- ch06/scope2\n",
    "b = 3\n",
    "def fun2(x):\n",
    "    y = b\n",
    "    return x + y\n",
    "\n",
    "fun2(3)"
   ]
  },
  {
   "cell_type": "markdown",
   "metadata": {},
   "source": [
    "### 高階関数"
   ]
  },
  {
   "cell_type": "code",
   "execution_count": 29,
   "metadata": {},
   "outputs": [
    {
     "data": {
      "text/plain": [
       "2.624285852902312"
      ]
     },
     "execution_count": 29,
     "metadata": {},
     "output_type": "execute_result"
    }
   ],
   "source": [
    "#---- ch06/cobb-doublas-factory\n",
    "def cd_factory(a):\n",
    "    def F(K, L, A):\n",
    "        return K**a * (A * L)**(1 - a)\n",
    "    return F\n",
    "\n",
    "cobb_douglas = cd_factory(0.33)\n",
    "cobb_douglas(2, 3, 1)"
   ]
  },
  {
   "cell_type": "code",
   "execution_count": 30,
   "metadata": {},
   "outputs": [],
   "source": [
    "#---- ch06/recursive-formula\n",
    "def makeG(a, b):\n",
    "    def G(y):\n",
    "        return a * y + b\n",
    "    return G"
   ]
  },
  {
   "cell_type": "code",
   "execution_count": 31,
   "metadata": {},
   "outputs": [
    {
     "data": {
      "text/plain": [
       "array([10.        ,  7.        ,  5.2       ,  4.12      ,  3.472     ,\n",
       "        3.0832    ,  2.84992   ,  2.709952  ,  2.6259712 ,  2.57558272,\n",
       "        2.54534963,  2.52720978,  2.51632587,  2.50979552,  2.50587731,\n",
       "        2.50352639,  2.50211583,  2.5012695 ,  2.5007617 ,  2.50045702])"
      ]
     },
     "execution_count": 31,
     "metadata": {},
     "output_type": "execute_result"
    }
   ],
   "source": [
    "#---- ch06/recursive-formula-simulate\n",
    "def simulate(update_rule, y0, T):\n",
    "    y0 = np.asarray(y0)\n",
    "    y = np.empty((T, *y0.shape))\n",
    "    y[0] = y0\n",
    "    for t in range(1, T):\n",
    "        y[t] = update_rule(y[t-1])\n",
    "    return y\n",
    "\n",
    "G = makeG(a=0.6, b=1)\n",
    "simulate(G, y0=10, T=20)"
   ]
  },
  {
   "cell_type": "code",
   "execution_count": 32,
   "metadata": {},
   "outputs": [
    {
     "data": {
      "text/plain": [
       "array([10.        ,  6.01087865,  4.23874054,  4.83116958,  4.09267617,\n",
       "        4.3758366 ,  4.20260575,  2.8850998 ,  3.2730121 ,  2.64721181,\n",
       "        2.26593797,  2.4567301 ,  0.94810765,  2.7610307 ,  1.98552874,\n",
       "        3.19158667,  3.05127312,  4.36279695,  2.95770876,  2.4628304 ])"
      ]
     },
     "execution_count": 32,
     "metadata": {},
     "output_type": "execute_result"
    }
   ],
   "source": [
    "#---- ch06/randomize\n",
    "def randomize(g, random):\n",
    "    def randomized(*args, **kwargs):\n",
    "        return g(*args, **kwargs) + random()\n",
    "    return randomized\n",
    "\n",
    "rng = np.random.default_rng(123)\n",
    "Ge = randomize(G, random=rng.normal)\n",
    "simulate(Ge, y0=10, T=20)"
   ]
  },
  {
   "cell_type": "markdown",
   "metadata": {},
   "source": [
    "## ソロー・モデル"
   ]
  },
  {
   "cell_type": "code",
   "execution_count": 33,
   "metadata": {},
   "outputs": [],
   "source": [
    "#---- ch06/solow-model\n",
    "def solow(s, delta, g, n, F):\n",
    "    def solow_g(x):\n",
    "        K0, L0, A0 = x\n",
    "        K1 = s * F(K0, L0, A0) + (1 - delta) * K0\n",
    "        L1 = (1 + n) * L0\n",
    "        A1 = (1 + g) * A0\n",
    "        return np.array([K1, L1, A1])\n",
    "    return solow_g"
   ]
  },
  {
   "cell_type": "code",
   "execution_count": 34,
   "metadata": {},
   "outputs": [],
   "source": [
    "#---- c06/set-parameters\n",
    "params = {'s': 0.3,\n",
    "          'delta': 0.05,\n",
    "          'g': 0.03,\n",
    "          'n': 0.01,\n",
    "          'F': cd_factory(0.33)}\n",
    "\n",
    "G = solow(**params)"
   ]
  },
  {
   "cell_type": "code",
   "execution_count": 35,
   "metadata": {},
   "outputs": [
    {
     "data": {
      "text/html": [
       "<div>\n",
       "<style scoped>\n",
       "    .dataframe tbody tr th:only-of-type {\n",
       "        vertical-align: middle;\n",
       "    }\n",
       "\n",
       "    .dataframe tbody tr th {\n",
       "        vertical-align: top;\n",
       "    }\n",
       "\n",
       "    .dataframe thead th {\n",
       "        text-align: right;\n",
       "    }\n",
       "</style>\n",
       "<table border=\"1\" class=\"dataframe\">\n",
       "  <thead>\n",
       "    <tr style=\"text-align: right;\">\n",
       "      <th></th>\n",
       "      <th>K</th>\n",
       "      <th>L</th>\n",
       "      <th>A</th>\n",
       "    </tr>\n",
       "  </thead>\n",
       "  <tbody>\n",
       "    <tr>\n",
       "      <th>95</th>\n",
       "      <td>255.371753</td>\n",
       "      <td>2.573538</td>\n",
       "      <td>16.578161</td>\n",
       "    </tr>\n",
       "    <tr>\n",
       "      <th>96</th>\n",
       "      <td>265.704289</td>\n",
       "      <td>2.599273</td>\n",
       "      <td>17.075506</td>\n",
       "    </tr>\n",
       "    <tr>\n",
       "      <th>97</th>\n",
       "      <td>276.452398</td>\n",
       "      <td>2.625266</td>\n",
       "      <td>17.587771</td>\n",
       "    </tr>\n",
       "    <tr>\n",
       "      <th>98</th>\n",
       "      <td>287.632845</td>\n",
       "      <td>2.651518</td>\n",
       "      <td>18.115404</td>\n",
       "    </tr>\n",
       "    <tr>\n",
       "      <th>99</th>\n",
       "      <td>299.263070</td>\n",
       "      <td>2.678033</td>\n",
       "      <td>18.658866</td>\n",
       "    </tr>\n",
       "  </tbody>\n",
       "</table>\n",
       "</div>"
      ],
      "text/plain": [
       "             K         L          A\n",
       "95  255.371753  2.573538  16.578161\n",
       "96  265.704289  2.599273  17.075506\n",
       "97  276.452398  2.625266  17.587771\n",
       "98  287.632845  2.651518  18.115404\n",
       "99  299.263070  2.678033  18.658866"
      ]
     },
     "execution_count": 35,
     "metadata": {},
     "output_type": "execute_result"
    }
   ],
   "source": [
    "#---- ch06/simulate-solow\n",
    "sol = pd.DataFrame(simulate(G, [2, 1, 1], 100), \n",
    "                   columns=['K', 'L', 'A'])\n",
    "sol.tail(5)"
   ]
  },
  {
   "cell_type": "code",
   "execution_count": 36,
   "metadata": {},
   "outputs": [
    {
     "data": {
      "image/png": "[encoded data removed]",
      "text/plain": [
       "<Figure size 864x288 with 3 Axes>"
      ]
     },
     "metadata": {
      "needs_background": "light"
     },
     "output_type": "display_data"
    }
   ],
   "source": [
    "#---- ch06/simulate-solow/plot\n",
    "fig, axes = plt.subplots(1, 3, figsize=(12, 4))\n",
    "\n",
    "for var, ax in zip(['K', 'A', 'L'], axes):\n",
    "    sol[var].plot(ax=ax, title=var)\n",
    "\n",
    "plt.show()"
   ]
  },
  {
   "cell_type": "raw",
   "metadata": {},
   "source": [
    "#---- ch06/reset-figsize/noinc\n",
    "import matplotlib\n",
    "matplotlib.rcParams.update({'figure.figsize': [12, 8]}) "
   ]
  },
  {
   "cell_type": "code",
   "execution_count": 37,
   "metadata": {},
   "outputs": [
    {
     "data": {
      "image/png": "[encoded data removed]",
      "text/plain": [
       "<Figure size 432x288 with 1 Axes>"
      ]
     },
     "metadata": {
      "needs_background": "light"
     },
     "output_type": "display_data"
    }
   ],
   "source": [
    "#---- ch06/small-k/plot\n",
    "fig, ax = plt.subplots()\n",
    "\n",
    "sol['k'] = sol.K / sol.A / sol.L\n",
    "sol.k.plot(ax=ax)\n",
    "plt.show()"
   ]
  },
  {
   "cell_type": "code",
   "execution_count": 38,
   "metadata": {},
   "outputs": [],
   "source": [
    "#---- ch06/saving-change-initial-params\n",
    "params = {'s': 0.2,\n",
    "          'delta': 0.05,\n",
    "          'g': 0.03,\n",
    "          'n': 0.01,\n",
    "          'F': cd_factory(0.33)}\n",
    "\n",
    "G = solow(**params)\n",
    "T = 20\n",
    "initial = [6, 1, 1]"
   ]
  },
  {
   "cell_type": "code",
   "execution_count": 39,
   "metadata": {},
   "outputs": [],
   "source": [
    "#---- ch6/saving-change-helper\n",
    "def computeYC(frame):\n",
    "    frame['Y'] = params['F'](frame.K, frame.L, frame.A)\n",
    "    frame['C'] = (1 - params['s']) * frame.Y\n",
    "    return frame"
   ]
  },
  {
   "cell_type": "code",
   "execution_count": 40,
   "metadata": {},
   "outputs": [],
   "source": [
    "#---- ch06/saving-no-change\n",
    "nochange = pd.DataFrame(simulate(G, initial, 3*T),\n",
    "                        columns=['K', 'L', 'A'],\n",
    "                        index=range(3*T))\n",
    "nochange = computeYC(nochange)"
   ]
  },
  {
   "cell_type": "code",
   "execution_count": 41,
   "metadata": {},
   "outputs": [
    {
     "data": {
      "text/html": [
       "<div>\n",
       "<style scoped>\n",
       "    .dataframe tbody tr th:only-of-type {\n",
       "        vertical-align: middle;\n",
       "    }\n",
       "\n",
       "    .dataframe tbody tr th {\n",
       "        vertical-align: top;\n",
       "    }\n",
       "\n",
       "    .dataframe thead th {\n",
       "        text-align: right;\n",
       "    }\n",
       "</style>\n",
       "<table border=\"1\" class=\"dataframe\">\n",
       "  <thead>\n",
       "    <tr style=\"text-align: right;\">\n",
       "      <th></th>\n",
       "      <th>K</th>\n",
       "      <th>L</th>\n",
       "      <th>A</th>\n",
       "      <th>Y</th>\n",
       "      <th>C</th>\n",
       "    </tr>\n",
       "  </thead>\n",
       "  <tbody>\n",
       "    <tr>\n",
       "      <th>15</th>\n",
       "      <td>7.806981</td>\n",
       "      <td>1.160969</td>\n",
       "      <td>1.557967</td>\n",
       "      <td>2.930646</td>\n",
       "      <td>2.344517</td>\n",
       "    </tr>\n",
       "    <tr>\n",
       "      <th>16</th>\n",
       "      <td>8.002761</td>\n",
       "      <td>1.172579</td>\n",
       "      <td>1.604706</td>\n",
       "      <td>3.033956</td>\n",
       "      <td>2.427165</td>\n",
       "    </tr>\n",
       "    <tr>\n",
       "      <th>17</th>\n",
       "      <td>8.209414</td>\n",
       "      <td>1.184304</td>\n",
       "      <td>1.652848</td>\n",
       "      <td>3.141662</td>\n",
       "      <td>2.513330</td>\n",
       "    </tr>\n",
       "    <tr>\n",
       "      <th>18</th>\n",
       "      <td>8.427276</td>\n",
       "      <td>1.196147</td>\n",
       "      <td>1.702433</td>\n",
       "      <td>3.253940</td>\n",
       "      <td>2.603152</td>\n",
       "    </tr>\n",
       "    <tr>\n",
       "      <th>19</th>\n",
       "      <td>8.656700</td>\n",
       "      <td>1.208109</td>\n",
       "      <td>1.753506</td>\n",
       "      <td>3.370973</td>\n",
       "      <td>2.696778</td>\n",
       "    </tr>\n",
       "  </tbody>\n",
       "</table>\n",
       "</div>"
      ],
      "text/plain": [
       "           K         L         A         Y         C\n",
       "15  7.806981  1.160969  1.557967  2.930646  2.344517\n",
       "16  8.002761  1.172579  1.604706  3.033956  2.427165\n",
       "17  8.209414  1.184304  1.652848  3.141662  2.513330\n",
       "18  8.427276  1.196147  1.702433  3.253940  2.603152\n",
       "19  8.656700  1.208109  1.753506  3.370973  2.696778"
      ]
     },
     "execution_count": 41,
     "metadata": {},
     "output_type": "execute_result"
    }
   ],
   "source": [
    "#---- ch06/saving-before\n",
    "before = pd.DataFrame(simulate(G, initial, T), \n",
    "                      columns=['K', 'L', 'A'],\n",
    "                      index=range(T))\n",
    "before = computeYC(before)\n",
    "before.tail()"
   ]
  },
  {
   "cell_type": "code",
   "execution_count": 42,
   "metadata": {},
   "outputs": [],
   "source": [
    "#---- ch06/saving-change-new-param\n",
    "params['s'] = 0.3\n",
    "G_new = solow(**params)\n",
    "new_initial = before.iloc[-1, :3].to_numpy()"
   ]
  },
  {
   "cell_type": "code",
   "execution_count": 43,
   "metadata": {},
   "outputs": [],
   "source": [
    "#---- ch06/saving-after\n",
    "after = pd.DataFrame(simulate(G_new, new_initial, 2 * T + 1), \n",
    "                     columns=['K', 'L', 'A'],\n",
    "                     index=range(T-1, 3*T))\n",
    "after = computeYC(after)\n",
    "saving_increased = pd.concat([before, after.iloc[1:]])"
   ]
  },
  {
   "cell_type": "code",
   "execution_count": 44,
   "metadata": {},
   "outputs": [
    {
     "data": {
      "image/png": "[encoded data removed]",
      "text/plain": [
       "<Figure size 432x288 with 1 Axes>"
      ]
     },
     "metadata": {
      "needs_background": "light"
     },
     "output_type": "display_data"
    }
   ],
   "source": [
    "#---- ch06/saving-change/plot\n",
    "saving_increased.C.plot()\n",
    "nochange.C.plot();\n",
    "plt.legend(['Saving rate increased', 'No change'])\n",
    "plt.show()"
   ]
  },
  {
   "cell_type": "code",
   "execution_count": null,
   "metadata": {},
   "outputs": [],
   "source": []
  }
 ],
 "metadata": {
  "kernelspec": {
   "display_name": "Python 3",
   "language": "python",
   "name": "python3"
  },
  "language_info": {
   "codemirror_mode": {
    "name": "ipython",
    "version": 3
   },
   "file_extension": ".py",
   "mimetype": "text/x-python",
   "name": "python",
   "nbconvert_exporter": "python",
   "pygments_lexer": "ipython3",
   "version": "3.7.6"
  }
 },
 "nbformat": 4,
 "nbformat_minor": 4
}
