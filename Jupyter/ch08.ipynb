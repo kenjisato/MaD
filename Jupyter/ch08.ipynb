{
 "cells": [
  {
   "cell_type": "markdown",
   "metadata": {},
   "source": [
    "# 第8章\n",
    "\n",
    "## 挿入用のコード"
   ]
  },
  {
   "cell_type": "code",
   "execution_count": 1,
   "metadata": {},
   "outputs": [],
   "source": [
    "#---- ch08/import\n",
    "import numpy as np\n",
    "from scipy.optimize import fsolve\n",
    "import matplotlib.pyplot as plt\n",
    "import sympy as sp\n",
    "sp.init_printing()"
   ]
  },
  {
   "cell_type": "code",
   "execution_count": 2,
   "metadata": {},
   "outputs": [],
   "source": [
    "#---- ch08/define-symbols\n",
    "k1, k0, c1, c0, g, n = sp.symbols(\"k1 k0 c1 c0 g n\")\n",
    "alpha, beta, delta, theta = sp.symbols(\"alpha beta delta theta\")"
   ]
  },
  {
   "cell_type": "code",
   "execution_count": 3,
   "metadata": {},
   "outputs": [
    {
     "data": {
      "image/png": "[encoded data removed]",
      "text/latex": [
       "$\\displaystyle k_{0}^{\\alpha}$"
      ],
      "text/plain": [
       "  α\n",
       "k₀ "
      ]
     },
     "execution_count": 3,
     "metadata": {},
     "output_type": "execute_result"
    }
   ],
   "source": [
    "#---- ch08/production\n",
    "f = sp.Lambda(k0, k0**alpha)\n",
    "f(k0)"
   ]
  },
  {
   "cell_type": "code",
   "execution_count": 4,
   "metadata": {},
   "outputs": [
    {
     "data": {
      "image/png": "[encoded data removed]",
      "text/latex": [
       "$\\displaystyle k_{1} - \\frac{- c_{0} + k_{0} \\left(1 - \\delta\\right) + k_{0}^{\\alpha}}{\\left(g + 1\\right) \\left(n + 1\\right)}$"
      ],
      "text/plain": [
       "                          α\n",
       "     -c₀ + k₀⋅(1 - δ) + k₀ \n",
       "k₁ - ──────────────────────\n",
       "        (g + 1)⋅(n + 1)    "
      ]
     },
     "execution_count": 4,
     "metadata": {},
     "output_type": "execute_result"
    }
   ],
   "source": [
    "#---- ch08/dynamics-k\n",
    "EK = k1 - (f(k0) - c0 + (1 - delta) * k0) / (1 + g) / (1 + n) \n",
    "EK"
   ]
  },
  {
   "cell_type": "code",
   "execution_count": 5,
   "metadata": {},
   "outputs": [
    {
     "data": {
      "image/png": "[encoded data removed]",
      "text/latex": [
       "$\\displaystyle - \\frac{c_{0} \\left(\\beta \\left(\\frac{\\alpha k_{0}^{\\alpha}}{k_{0}} - \\delta + 1\\right)\\right)^{\\frac{1}{\\theta}}}{g + 1} + c_{1}$"
      ],
      "text/plain": [
       "             ___________________     \n",
       "            ╱   ⎛    α        ⎞      \n",
       "           ╱    ⎜α⋅k₀         ⎟      \n",
       "  c₀⋅theta╱   β⋅⎜───── - δ + 1⎟      \n",
       "        ╲╱      ⎝  k₀         ⎠      \n",
       "- ────────────────────────────── + c₁\n",
       "              g + 1                  "
      ]
     },
     "execution_count": 5,
     "metadata": {},
     "output_type": "execute_result"
    }
   ],
   "source": [
    "#---- ch08/dynamics-c\n",
    "EC = c1 - c0 * (beta * (f(k0).diff(k0) + 1 - delta)) ** (1 / theta) / (1 + g)\n",
    "EC"
   ]
  },
  {
   "cell_type": "code",
   "execution_count": 6,
   "metadata": {},
   "outputs": [
    {
     "data": {
      "text/latex": [
       "$\\displaystyle \\left[\\begin{matrix}k_{0} - \\frac{- c_{0} + k_{0} \\left(1 - \\delta\\right) + k_{0}^{\\alpha}}{\\left(g + 1\\right) \\left(n + 1\\right)}\\\\- \\frac{c_{0} \\left(\\beta \\left(\\frac{\\alpha k_{0}^{\\alpha}}{k_{0}} - \\delta + 1\\right)\\right)^{\\frac{1}{\\theta}}}{g + 1} + c_{0}\\end{matrix}\\right]$"
      ],
      "text/plain": [
       "⎡                               α     ⎤\n",
       "⎢          -c₀ + k₀⋅(1 - δ) + k₀      ⎥\n",
       "⎢     k₀ - ──────────────────────     ⎥\n",
       "⎢             (g + 1)⋅(n + 1)         ⎥\n",
       "⎢                                     ⎥\n",
       "⎢             ___________________     ⎥\n",
       "⎢            ╱   ⎛    α        ⎞      ⎥\n",
       "⎢           ╱    ⎜α⋅k₀         ⎟      ⎥\n",
       "⎢  c₀⋅theta╱   β⋅⎜───── - δ + 1⎟      ⎥\n",
       "⎢        ╲╱      ⎝  k₀         ⎠      ⎥\n",
       "⎢- ────────────────────────────── + c₀⎥\n",
       "⎣              g + 1                  ⎦"
      ]
     },
     "execution_count": 6,
     "metadata": {},
     "output_type": "execute_result"
    }
   ],
   "source": [
    "#---- ch08/steady-state\n",
    "E = sp.Matrix([EK, EC]).subs({k1: k0, c1: c0})\n",
    "E"
   ]
  },
  {
   "cell_type": "code",
   "execution_count": 7,
   "metadata": {},
   "outputs": [],
   "source": [
    "#---- ch08/parameters\n",
    "params = {\n",
    "    alpha: 0.33,\n",
    "    delta: 0.03,\n",
    "    g: 0.02,\n",
    "    n: 0.01,\n",
    "    theta: 0.8,\n",
    "    beta: 0.98\n",
    "}"
   ]
  },
  {
   "cell_type": "code",
   "execution_count": 8,
   "metadata": {},
   "outputs": [],
   "source": [
    "#---- ch08/lambdify\n",
    "E_lam = sp.lambdify([[k0, c0]], np.squeeze(E.subs(params)))\n",
    "J_lam = sp.lambdify([[k0, c0]], E.jacobian([k0, c0]).subs(params))"
   ]
  },
  {
   "cell_type": "code",
   "execution_count": 9,
   "metadata": {},
   "outputs": [
    {
     "data": {
      "text/plain": [
       "array([10.87371171,  1.54328611])"
      ]
     },
     "execution_count": 9,
     "metadata": {},
     "output_type": "execute_result"
    }
   ],
   "source": [
    "#---- ch08/solve-for-ss\n",
    "ss = fsolve(func=E_lam, x0=[4, 4], fprime=J_lam)\n",
    "ss"
   ]
  },
  {
   "cell_type": "code",
   "execution_count": 10,
   "metadata": {},
   "outputs": [
    {
     "data": {
      "image/png": "[encoded data removed]",
      "text/latex": [
       "$\\displaystyle \\left( \\left( c[0], \\  c[1], \\  c[2]\\right), \\  \\left( c[79], \\  c[80], \\  c[81]\\right)\\right)$"
      ],
      "text/plain": [
       "((c[0], c[1], c[2]), (c[79], c[80], c[81]))"
      ]
     },
     "execution_count": 10,
     "metadata": {},
     "output_type": "execute_result"
    }
   ],
   "source": [
    "#---- ch08/many-symbols\n",
    "T = 80\n",
    "c = sp.symbols(f\"c[0:{T+2}]\")\n",
    "k = sp.symbols(f\"k[0:{T+1}]\")\n",
    "\n",
    "c[:3], c[-3:]"
   ]
  },
  {
   "cell_type": "code",
   "execution_count": 11,
   "metadata": {},
   "outputs": [
    {
     "data": {
      "text/latex": [
       "$\\displaystyle \\left[\\begin{matrix}k[1] - \\frac{- c[1] + k[0] \\left(1 - \\delta\\right) + k[0]^{\\alpha}}{\\left(g + 1\\right) \\left(n + 1\\right)} & - \\frac{c[1] \\left(\\beta \\left(\\frac{\\alpha k[0]^{\\alpha}}{k[0]} - \\delta + 1\\right)\\right)^{\\frac{1}{\\theta}}}{g + 1} + c[2]\\\\k[2] - \\frac{- c[2] + k[1] \\left(1 - \\delta\\right) + k[1]^{\\alpha}}{\\left(g + 1\\right) \\left(n + 1\\right)} & - \\frac{c[2] \\left(\\beta \\left(\\frac{\\alpha k[1]^{\\alpha}}{k[1]} - \\delta + 1\\right)\\right)^{\\frac{1}{\\theta}}}{g + 1} + c[3]\\\\k[3] - \\frac{- c[3] + k[2] \\left(1 - \\delta\\right) + k[2]^{\\alpha}}{\\left(g + 1\\right) \\left(n + 1\\right)} & - \\frac{c[3] \\left(\\beta \\left(\\frac{\\alpha k[2]^{\\alpha}}{k[2]} - \\delta + 1\\right)\\right)^{\\frac{1}{\\theta}}}{g + 1} + c[4]\\end{matrix}\\right]$"
      ],
      "text/plain": [
       "⎡                                                    _____________________    \n",
       "⎢                                                   ╱   ⎛      α        ⎞     \n",
       "⎢                                                  ╱    ⎜α⋅k[0]         ⎟     \n",
       "⎢                                  α    c[1]⋅theta╱   β⋅⎜─────── - δ + 1⎟     \n",
       "⎢       -c[1] + k[0]⋅(1 - δ) + k[0]             ╲╱      ⎝  k[0]         ⎠     \n",
       "⎢k[1] - ────────────────────────────  - ────────────────────────────────── + c\n",
       "⎢             (g + 1)⋅(n + 1)                         g + 1                   \n",
       "⎢                                                                             \n",
       "⎢                                                    _____________________    \n",
       "⎢                                                   ╱   ⎛      α        ⎞     \n",
       "⎢                                                  ╱    ⎜α⋅k[1]         ⎟     \n",
       "⎢                                  α    c[2]⋅theta╱   β⋅⎜─────── - δ + 1⎟     \n",
       "⎢       -c[2] + k[1]⋅(1 - δ) + k[1]             ╲╱      ⎝  k[1]         ⎠     \n",
       "⎢k[2] - ────────────────────────────  - ────────────────────────────────── + c\n",
       "⎢             (g + 1)⋅(n + 1)                         g + 1                   \n",
       "⎢                                                                             \n",
       "⎢                                                    _____________________    \n",
       "⎢                                                   ╱   ⎛      α        ⎞     \n",
       "⎢                                                  ╱    ⎜α⋅k[2]         ⎟     \n",
       "⎢                                  α    c[3]⋅theta╱   β⋅⎜─────── - δ + 1⎟     \n",
       "⎢       -c[3] + k[2]⋅(1 - δ) + k[2]             ╲╱      ⎝  k[2]         ⎠     \n",
       "⎢k[3] - ────────────────────────────  - ────────────────────────────────── + c\n",
       "⎣             (g + 1)⋅(n + 1)                         g + 1                   \n",
       "\n",
       "   ⎤\n",
       "   ⎥\n",
       "   ⎥\n",
       "   ⎥\n",
       "   ⎥\n",
       "[2]⎥\n",
       "   ⎥\n",
       "   ⎥\n",
       "   ⎥\n",
       "   ⎥\n",
       "   ⎥\n",
       "   ⎥\n",
       "   ⎥\n",
       "[3]⎥\n",
       "   ⎥\n",
       "   ⎥\n",
       "   ⎥\n",
       "   ⎥\n",
       "   ⎥\n",
       "   ⎥\n",
       "   ⎥\n",
       "[4]⎥\n",
       "   ⎦"
      ]
     },
     "execution_count": 11,
     "metadata": {},
     "output_type": "execute_result"
    }
   ],
   "source": [
    "#---- ch08/equilibrium-equation\n",
    "eqm = sp.Matrix([[EK.subs({k0: k[i], k1: k[i+1], c0: c[i+1], c1: c[i+2]}),\n",
    "                  EC.subs({k0: k[i], k1: k[i+1], c0: c[i+1], c1: c[i+2]})] \n",
    "                  for i in range(T)])\n",
    "eqm[:3, :]"
   ]
  },
  {
   "cell_type": "code",
   "execution_count": 12,
   "metadata": {},
   "outputs": [
    {
     "data": {
      "text/latex": [
       "$\\displaystyle \\left( \\left[\\begin{matrix}k[1] - \\frac{- c[1] + k[0] \\left(1 - \\delta\\right) + k[0]^{\\alpha}}{\\left(g + 1\\right) \\left(n + 1\\right)}\\\\k[2] - \\frac{- c[2] + k[1] \\left(1 - \\delta\\right) + k[1]^{\\alpha}}{\\left(g + 1\\right) \\left(n + 1\\right)}\\\\k[3] - \\frac{- c[3] + k[2] \\left(1 - \\delta\\right) + k[2]^{\\alpha}}{\\left(g + 1\\right) \\left(n + 1\\right)}\\end{matrix}\\right], \\  \\left[\\begin{matrix}- \\frac{c[1] \\left(\\beta \\left(\\frac{\\alpha k[0]^{\\alpha}}{k[0]} - \\delta + 1\\right)\\right)^{\\frac{1}{\\theta}}}{g + 1} + c[2]\\\\- \\frac{c[2] \\left(\\beta \\left(\\frac{\\alpha k[1]^{\\alpha}}{k[1]} - \\delta + 1\\right)\\right)^{\\frac{1}{\\theta}}}{g + 1} + c[3]\\\\- \\frac{c[3] \\left(\\beta \\left(\\frac{\\alpha k[2]^{\\alpha}}{k[2]} - \\delta + 1\\right)\\right)^{\\frac{1}{\\theta}}}{g + 1} + c[4]\\end{matrix}\\right]\\right)$"
      ],
      "text/plain": [
       "⎛                                       ⎡               _____________________ \n",
       "⎜                                       ⎢              ╱   ⎛      α        ⎞  \n",
       "⎜                                       ⎢             ╱    ⎜α⋅k[0]         ⎟  \n",
       "⎜                                       ⎢  c[1]⋅theta╱   β⋅⎜─────── - δ + 1⎟  \n",
       "⎜⎡                                  α⎤  ⎢          ╲╱      ⎝  k[0]         ⎠  \n",
       "⎜⎢       -c[1] + k[0]⋅(1 - δ) + k[0] ⎥  ⎢- ────────────────────────────────── \n",
       "⎜⎢k[1] - ────────────────────────────⎥  ⎢                g + 1                \n",
       "⎜⎢             (g + 1)⋅(n + 1)       ⎥  ⎢                                     \n",
       "⎜⎢                                   ⎥  ⎢               _____________________ \n",
       "⎜⎢                                  α⎥  ⎢              ╱   ⎛      α        ⎞  \n",
       "⎜⎢       -c[2] + k[1]⋅(1 - δ) + k[1] ⎥  ⎢             ╱    ⎜α⋅k[1]         ⎟  \n",
       "⎜⎢k[2] - ────────────────────────────⎥, ⎢  c[2]⋅theta╱   β⋅⎜─────── - δ + 1⎟  \n",
       "⎜⎢             (g + 1)⋅(n + 1)       ⎥  ⎢          ╲╱      ⎝  k[1]         ⎠  \n",
       "⎜⎢                                   ⎥  ⎢- ────────────────────────────────── \n",
       "⎜⎢                                  α⎥  ⎢                g + 1                \n",
       "⎜⎢       -c[3] + k[2]⋅(1 - δ) + k[2] ⎥  ⎢                                     \n",
       "⎜⎢k[3] - ────────────────────────────⎥  ⎢               _____________________ \n",
       "⎜⎣             (g + 1)⋅(n + 1)       ⎦  ⎢              ╱   ⎛      α        ⎞  \n",
       "⎜                                       ⎢             ╱    ⎜α⋅k[2]         ⎟  \n",
       "⎜                                       ⎢  c[3]⋅theta╱   β⋅⎜─────── - δ + 1⎟  \n",
       "⎜                                       ⎢          ╲╱      ⎝  k[2]         ⎠  \n",
       "⎜                                       ⎢- ────────────────────────────────── \n",
       "⎝                                       ⎣                g + 1                \n",
       "\n",
       "      ⎤⎞\n",
       "      ⎥⎟\n",
       "      ⎥⎟\n",
       "      ⎥⎟\n",
       "      ⎥⎟\n",
       "+ c[2]⎥⎟\n",
       "      ⎥⎟\n",
       "      ⎥⎟\n",
       "      ⎥⎟\n",
       "      ⎥⎟\n",
       "      ⎥⎟\n",
       "      ⎥⎟\n",
       "      ⎥⎟\n",
       "+ c[3]⎥⎟\n",
       "      ⎥⎟\n",
       "      ⎥⎟\n",
       "      ⎥⎟\n",
       "      ⎥⎟\n",
       "      ⎥⎟\n",
       "      ⎥⎟\n",
       "      ⎥⎟\n",
       "+ c[4]⎥⎟\n",
       "      ⎦⎠"
      ]
     },
     "execution_count": 12,
     "metadata": {},
     "output_type": "execute_result"
    }
   ],
   "source": [
    "#---- ch08/make-column\n",
    "eqm_col = eqm.T.reshape(2*T, 1)\n",
    "eqm_col[:3, :], eqm_col[T:T+3, :]"
   ]
  },
  {
   "cell_type": "code",
   "execution_count": 13,
   "metadata": {},
   "outputs": [],
   "source": [
    "#---- ch08/solve\n",
    "k_init = 1.0\n",
    "\n",
    "eqm_param = eqm_col.subs(params).subs({k[0]: k_init, c[-1]: ss[1]})\n",
    "eqm_param = np.squeeze(eqm_param)\n",
    "eqm_num = sp.lambdify([[*k[1:], *c[1:-1]]], eqm_param)\n",
    "solution = fsolve(eqm_num, x0=np.ones(2*T))"
   ]
  },
  {
   "cell_type": "code",
   "execution_count": 14,
   "metadata": {},
   "outputs": [],
   "source": [
    "#---- ch08/k-and-c\n",
    "k_sol = np.r_[k_init, solution[:T]]\n",
    "c_sol = np.r_[solution[T:], ss[1]]"
   ]
  },
  {
   "cell_type": "code",
   "execution_count": 15,
   "metadata": {},
   "outputs": [
    {
     "data": {
      "image/png": "[encoded data removed]",
      "text/plain": [
       "<Figure size 432x288 with 1 Axes>"
      ]
     },
     "metadata": {
      "needs_background": "light"
     },
     "output_type": "display_data"
    }
   ],
   "source": [
    "#---- ch08/show/plot\n",
    "plt.quiver(k_sol[1:], c_sol[1:], \n",
    "           k_sol[1:] - k_sol[:-1], \n",
    "           c_sol[1:] - c_sol[:-1],\n",
    "           scale_units='xy', angles='xy', scale=1)\n",
    "\n",
    "plt.xlabel(r\"$k_{t}$\")\n",
    "plt.ylabel(r\"$c_{t+1}$\")\n",
    "plt.show()"
   ]
  },
  {
   "cell_type": "code",
   "execution_count": 16,
   "metadata": {},
   "outputs": [],
   "source": [
    "#---- ch08/function\n",
    "def solve_optimal_growth(eqm_k, eqm_c, k_init, c_final, param, T):\n",
    "    \n",
    "    c = sp.symbols(f\"c[0:{T+2}]\")\n",
    "    k = sp.symbols(f\"k[0:{T+1}]\")\n",
    "    eqm = sp.Matrix([[EK.subs({k0: k[i], k1: k[i+1], c0: c[i+1], c1: c[i+2]}),\n",
    "                  EC.subs({k0: k[i], k1: k[i+1], c0: c[i+1], c1: c[i+2]})] \n",
    "                  for i in range(T)])\n",
    "    eqm_col = eqm.T.reshape(2*T, 1)\n",
    "    \n",
    "    eqm_param = eqm_col.subs(params).subs({k[0]: k_init, c[-1]: ss[1]})\n",
    "    eqm_param = np.squeeze(eqm_param)\n",
    "    \n",
    "    eqm_num = sp.lambdify([[*k[1:], *c[1:-1]]], eqm_param)\n",
    "    solution = fsolve(eqm_num, x0=np.ones(2*T))\n",
    "    \n",
    "    k_sol = np.r_[k_init, solution[:T]]\n",
    "    c_sol = np.r_[solution[T:], c_final]\n",
    "    \n",
    "    return (k_sol, c_sol)"
   ]
  },
  {
   "cell_type": "code",
   "execution_count": 17,
   "metadata": {},
   "outputs": [
    {
     "data": {
      "image/png": "[encoded data removed]",
      "text/plain": [
       "<Figure size 432x288 with 1 Axes>"
      ]
     },
     "metadata": {
      "needs_background": "light"
     },
     "output_type": "display_data"
    }
   ],
   "source": [
    "#---- ch08/example/plot\n",
    "k_sol, c_sol = solve_optimal_growth(EK, EC, 30.0, ss[1], params, 60)\n",
    "\n",
    "plt.quiver(k_sol[1:], c_sol[1:], \n",
    "          k_sol[1:] - k_sol[:-1], \n",
    "          c_sol[1:] - c_sol[:-1],\n",
    "          scale_units='xy', angles='xy', scale=1)\n",
    "\n",
    "plt.xlabel(r\"$k_{t}$\")\n",
    "plt.ylabel(r\"$c_{t+1}$\")\n",
    "plt.show()"
   ]
  },
  {
   "cell_type": "markdown",
   "metadata": {},
   "source": [
    "## 編集用コード"
   ]
  },
  {
   "cell_type": "code",
   "execution_count": 18,
   "metadata": {},
   "outputs": [],
   "source": [
    "#---- ch08/for-pdf-only/noinc\n",
    "# PDF出力用のコード\n",
    "sp.init_printing(pretty_printer=sp.printing.latex)"
   ]
  }
 ],
 "metadata": {
  "kernelspec": {
   "display_name": "Python 3",
   "language": "python",
   "name": "python3"
  },
  "language_info": {
   "codemirror_mode": {
    "name": "ipython",
    "version": 3
   },
   "file_extension": ".py",
   "mimetype": "text/x-python",
   "name": "python",
   "nbconvert_exporter": "python",
   "pygments_lexer": "ipython3",
   "version": "3.7.7"
  }
 },
 "nbformat": 4,
 "nbformat_minor": 4
}
