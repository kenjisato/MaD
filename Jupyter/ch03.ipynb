{
 "cells": [
  {
   "cell_type": "markdown",
   "metadata": {},
   "source": [
    "## 作図用コード"
   ]
  },
  {
   "cell_type": "code",
   "execution_count": 1,
   "metadata": {},
   "outputs": [],
   "source": [
    "%matplotlib inline"
   ]
  },
  {
   "cell_type": "code",
   "execution_count": 2,
   "metadata": {},
   "outputs": [
    {
     "data": {
      "image/png": "[encoded data removed]",
      "text/plain": [
       "<Figure size 432x288 with 1 Axes>"
      ]
     },
     "metadata": {
      "needs_background": "light"
     },
     "output_type": "display_data"
    }
   ],
   "source": [
    "#---- ch03/plot-lorenz/graphics\n",
    "import numpy as np\n",
    "import matplotlib.pyplot as plt\n",
    "\n",
    "# Fix random numbers\n",
    "np.random.seed(101)\n",
    "\n",
    "# Income\n",
    "y = np.random.choice(range(1, 10), 7)\n",
    "\n",
    "Y = np.r_[0, np.sort(y).cumsum() / y.sum()]\n",
    "X = np.linspace(0, 1, y.size + 1)\n",
    "\n",
    "fig, ax = plt.subplots(1, 1)\n",
    "ax.plot(X, Y, 'k')\n",
    "ax.plot(X, X, 'k--')\n",
    "ax.fill_between(X, X, Y, color='gray', alpha=0.3)\n",
    "ax.set_aspect('equal')\n",
    "\n",
    "plt.show()"
   ]
  },
  {
   "cell_type": "markdown",
   "metadata": {},
   "source": [
    "## 挿入用のコード"
   ]
  },
  {
   "cell_type": "code",
   "execution_count": 3,
   "metadata": {},
   "outputs": [],
   "source": [
    "#---- ch03/def-functions/dnr\n",
    "def f(): print(\"f is called.\")\n",
    "def g(): print(\"g is called.\")\n",
    "def h(): print(\"h is called.\")"
   ]
  },
  {
   "cell_type": "code",
   "execution_count": 4,
   "metadata": {},
   "outputs": [
    {
     "name": "stdout",
     "output_type": "stream",
     "text": [
      "f is called.\n",
      "g is called.\n",
      "h is called.\n"
     ]
    }
   ],
   "source": [
    "#---- ch03/sequential/dnr\n",
    "f()\n",
    "g()\n",
    "h()"
   ]
  },
  {
   "cell_type": "code",
   "execution_count": 5,
   "metadata": {},
   "outputs": [
    {
     "name": "stdout",
     "output_type": "stream",
     "text": [
      "f is called.\n",
      "f is called.\n",
      "f is called.\n",
      "g is called.\n"
     ]
    }
   ],
   "source": [
    "#---- ch03/no-loop/dnr\n",
    "f()    # 0回目\n",
    "f()    # 1回目\n",
    "f()    # 2回目\n",
    "g()"
   ]
  },
  {
   "cell_type": "markdown",
   "metadata": {},
   "source": [
    "#### for ループ"
   ]
  },
  {
   "cell_type": "code",
   "execution_count": 6,
   "metadata": {},
   "outputs": [
    {
     "name": "stdout",
     "output_type": "stream",
     "text": [
      "f is called.\n",
      "f is called.\n",
      "f is called.\n",
      "g is called.\n"
     ]
    }
   ],
   "source": [
    "#---- ch03/for-loop/dnr\n",
    "for i in [0, 1, 2]:\n",
    "    f()\n",
    "\n",
    "g()"
   ]
  },
  {
   "cell_type": "code",
   "execution_count": 7,
   "metadata": {},
   "outputs": [
    {
     "name": "stdout",
     "output_type": "stream",
     "text": [
      "f is called.\n",
      "f is called.\n",
      "f is called.\n",
      "g is called.\n"
     ]
    }
   ],
   "source": [
    "#---- ch03/for-loop-equiv/dnr\n",
    "i = 0\n",
    "f()\n",
    "\n",
    "i = 1\n",
    "f()\n",
    "\n",
    "i = 2\n",
    "f()\n",
    "\n",
    "g()"
   ]
  },
  {
   "cell_type": "code",
   "execution_count": 8,
   "metadata": {},
   "outputs": [
    {
     "name": "stdout",
     "output_type": "stream",
     "text": [
      "0\n",
      "1\n",
      "2\n"
     ]
    }
   ],
   "source": [
    "#---- ch03/for-loop-print\n",
    "for i in [0, 1, 2]:\n",
    "    print(i)"
   ]
  },
  {
   "cell_type": "code",
   "execution_count": 9,
   "metadata": {},
   "outputs": [
    {
     "name": "stdout",
     "output_type": "stream",
     "text": [
      "0\n",
      "1\n",
      "2\n"
     ]
    }
   ],
   "source": [
    "#---- ch03/for-with-range\n",
    "for i in range(3):\n",
    "    print(i)"
   ]
  },
  {
   "cell_type": "markdown",
   "metadata": {},
   "source": [
    "#### 真偽値"
   ]
  },
  {
   "cell_type": "code",
   "execution_count": 10,
   "metadata": {},
   "outputs": [
    {
     "data": {
      "text/plain": [
       "True"
      ]
     },
     "execution_count": 10,
     "metadata": {},
     "output_type": "execute_result"
    }
   ],
   "source": [
    "#---- ch03/boolean\n",
    "True"
   ]
  },
  {
   "cell_type": "code",
   "execution_count": 11,
   "metadata": {},
   "outputs": [
    {
     "data": {
      "text/plain": [
       "False"
      ]
     },
     "execution_count": 11,
     "metadata": {},
     "output_type": "execute_result"
    }
   ],
   "source": [
    "False"
   ]
  },
  {
   "cell_type": "code",
   "execution_count": 12,
   "metadata": {},
   "outputs": [
    {
     "data": {
      "text/plain": [
       "[True, False, False, False]"
      ]
     },
     "execution_count": 12,
     "metadata": {},
     "output_type": "execute_result"
    }
   ],
   "source": [
    "#---- ch03/boolean-and\n",
    "[True and True, True and False, False and True, False and False]"
   ]
  },
  {
   "cell_type": "code",
   "execution_count": 13,
   "metadata": {},
   "outputs": [
    {
     "data": {
      "text/plain": [
       "[True, True, True, False]"
      ]
     },
     "execution_count": 13,
     "metadata": {},
     "output_type": "execute_result"
    }
   ],
   "source": [
    "#---- ch03/boolean-or\n",
    "[True or True, True or False, False or True, False or False]"
   ]
  },
  {
   "cell_type": "code",
   "execution_count": 14,
   "metadata": {},
   "outputs": [
    {
     "data": {
      "text/plain": [
       "[False, True]"
      ]
     },
     "execution_count": 14,
     "metadata": {},
     "output_type": "execute_result"
    }
   ],
   "source": [
    "#---- ch03/boolean-not\n",
    "[not True, not False]"
   ]
  },
  {
   "cell_type": "code",
   "execution_count": 15,
   "metadata": {},
   "outputs": [
    {
     "data": {
      "text/plain": [
       "[True, True, False, False, False]"
      ]
     },
     "execution_count": 15,
     "metadata": {},
     "output_type": "execute_result"
    }
   ],
   "source": [
    "#---- ch03/boolean-inequality\n",
    "[1 < 2, 1 <= 2, 1 == 2, 1 > 2, 1 >= 2]"
   ]
  },
  {
   "cell_type": "markdown",
   "metadata": {},
   "source": [
    "#### 真偽値の四則演算"
   ]
  },
  {
   "cell_type": "code",
   "execution_count": 16,
   "metadata": {},
   "outputs": [
    {
     "data": {
      "text/plain": [
       "2"
      ]
     },
     "execution_count": 16,
     "metadata": {},
     "output_type": "execute_result"
    }
   ],
   "source": [
    "#---- ch03/boolean-addition\n",
    "True + True + False"
   ]
  },
  {
   "cell_type": "markdown",
   "metadata": {},
   "source": [
    "#### 浮動小数点数の比較"
   ]
  },
  {
   "cell_type": "code",
   "execution_count": 17,
   "metadata": {},
   "outputs": [
    {
     "data": {
      "text/plain": [
       "True"
      ]
     },
     "execution_count": 17,
     "metadata": {},
     "output_type": "execute_result"
    }
   ],
   "source": [
    "#---- ch03/compare-real-numbers\n",
    "0.1 + 0.3 + 0.6 == 1.0"
   ]
  },
  {
   "cell_type": "code",
   "execution_count": 18,
   "metadata": {},
   "outputs": [
    {
     "data": {
      "text/plain": [
       "False"
      ]
     },
     "execution_count": 18,
     "metadata": {},
     "output_type": "execute_result"
    }
   ],
   "source": [
    "0.3 + 0.6 + 0.1 == 1.0"
   ]
  },
  {
   "cell_type": "code",
   "execution_count": 19,
   "metadata": {},
   "outputs": [
    {
     "data": {
      "text/plain": [
       "True"
      ]
     },
     "execution_count": 19,
     "metadata": {},
     "output_type": "execute_result"
    }
   ],
   "source": [
    "#---- ch03/compare-real-numbers2\n",
    "import numpy as np\n",
    "np.allclose(0.1 + 0.3 + 0.6, 1.0, rtol=1e-15)"
   ]
  },
  {
   "cell_type": "markdown",
   "metadata": {},
   "source": [
    "#### while ループ"
   ]
  },
  {
   "cell_type": "code",
   "execution_count": 20,
   "metadata": {},
   "outputs": [],
   "source": [
    "#---- ch03/condition/noinc\n",
    "condition = False\n",
    "condition1 = True\n",
    "condition2 = False"
   ]
  },
  {
   "cell_type": "code",
   "execution_count": 21,
   "metadata": {},
   "outputs": [],
   "source": [
    "#---- ch03/while-loop-equiv/dnr\n",
    "while condition:\n",
    "    f()"
   ]
  },
  {
   "cell_type": "code",
   "execution_count": 22,
   "metadata": {},
   "outputs": [
    {
     "name": "stdout",
     "output_type": "stream",
     "text": [
      "f is called.\n",
      "f is called.\n",
      "f is called.\n",
      "g is called.\n"
     ]
    }
   ],
   "source": [
    "#---- ch03/while-loop/dnr\n",
    "i = 0\n",
    "while i < 3:\n",
    "    f()\n",
    "    i += 1\n",
    "    \n",
    "g()"
   ]
  },
  {
   "cell_type": "code",
   "execution_count": 23,
   "metadata": {},
   "outputs": [
    {
     "ename": "BaseException",
     "evalue": "Comment out before executing this cell.",
     "output_type": "error",
     "traceback": [
      "\u001b[0;31m---------------------------------------------------------------------------\u001b[0m",
      "\u001b[0;31mBaseException\u001b[0m                             Traceback (most recent call last)",
      "\u001b[0;32m<ipython-input-23-98ccdddfe926>\u001b[0m in \u001b[0;36m<module>\u001b[0;34m\u001b[0m\n\u001b[1;32m      1\u001b[0m \u001b[0;31m#---- ch03/inf-loop/error\u001b[0m\u001b[0;34m\u001b[0m\u001b[0;34m\u001b[0m\u001b[0;34m\u001b[0m\u001b[0m\n\u001b[0;32m----> 2\u001b[0;31m \u001b[0;32mraise\u001b[0m\u001b[0;34m(\u001b[0m\u001b[0mBaseException\u001b[0m\u001b[0;34m(\u001b[0m\u001b[0;34m'Comment out before executing this cell.'\u001b[0m\u001b[0;34m)\u001b[0m\u001b[0;34m)\u001b[0m\u001b[0;34m\u001b[0m\u001b[0;34m\u001b[0m\u001b[0m\n\u001b[0m\u001b[1;32m      3\u001b[0m \u001b[0;34m\u001b[0m\u001b[0m\n\u001b[1;32m      4\u001b[0m \u001b[0;31m#---- ch03/inf-loop/dnr\u001b[0m\u001b[0;34m\u001b[0m\u001b[0;34m\u001b[0m\u001b[0;34m\u001b[0m\u001b[0m\n\u001b[1;32m      5\u001b[0m \u001b[0;32mwhile\u001b[0m \u001b[0;32mTrue\u001b[0m\u001b[0;34m:\u001b[0m\u001b[0;34m\u001b[0m\u001b[0;34m\u001b[0m\u001b[0m\n",
      "\u001b[0;31mBaseException\u001b[0m: Comment out before executing this cell."
     ]
    }
   ],
   "source": [
    "#---- ch03/inf-loop/error\n",
    "raise(BaseException('Comment out before executing this cell.'))\n",
    "\n",
    "#---- ch03/inf-loop/dnr\n",
    "while True:\n",
    "    print(i)\n",
    "    i += 1"
   ]
  },
  {
   "cell_type": "markdown",
   "metadata": {},
   "source": [
    "#### if-elif-else"
   ]
  },
  {
   "cell_type": "code",
   "execution_count": 24,
   "metadata": {},
   "outputs": [],
   "source": [
    "#---- ch03/if/dnr\n",
    "if condition:\n",
    "    f()"
   ]
  },
  {
   "cell_type": "code",
   "execution_count": 25,
   "metadata": {},
   "outputs": [
    {
     "name": "stdout",
     "output_type": "stream",
     "text": [
      "g is called.\n"
     ]
    }
   ],
   "source": [
    "#---- ch03/if-else/dnr\n",
    "if condition:\n",
    "    f()\n",
    "else:\n",
    "    g()"
   ]
  },
  {
   "cell_type": "code",
   "execution_count": 26,
   "metadata": {},
   "outputs": [
    {
     "name": "stdout",
     "output_type": "stream",
     "text": [
      "f is called.\n"
     ]
    }
   ],
   "source": [
    "#---- ch03/if-elif-else/dnr\n",
    "if condition1:\n",
    "    f()\n",
    "elif condition2:\n",
    "    g()\n",
    "else:\n",
    "    h()"
   ]
  },
  {
   "cell_type": "code",
   "execution_count": 27,
   "metadata": {},
   "outputs": [
    {
     "data": {
      "text/plain": [
       "2500"
      ]
     },
     "execution_count": 27,
     "metadata": {},
     "output_type": "execute_result"
    }
   ],
   "source": [
    "#---- ch03/if-odds-total\n",
    "total = 0\n",
    "for i in range(1, 101):\n",
    "    if i % 2 == 1:\n",
    "        total += i\n",
    "\n",
    "total"
   ]
  },
  {
   "cell_type": "markdown",
   "metadata": {},
   "source": [
    "#### ジェネレータ内包表記"
   ]
  },
  {
   "cell_type": "code",
   "execution_count": 28,
   "metadata": {},
   "outputs": [
    {
     "data": {
      "text/plain": [
       "2500"
      ]
     },
     "execution_count": 28,
     "metadata": {},
     "output_type": "execute_result"
    }
   ],
   "source": [
    "#---- ch03/if-odds-total-comprehension\n",
    "sum(i for i in range(1, 101) if i % 2 == 1)"
   ]
  },
  {
   "cell_type": "markdown",
   "metadata": {},
   "source": [
    "#### 真偽値の配列"
   ]
  },
  {
   "cell_type": "code",
   "execution_count": 29,
   "metadata": {},
   "outputs": [
    {
     "data": {
      "text/plain": [
       "array([ True, False, False])"
      ]
     },
     "execution_count": 29,
     "metadata": {},
     "output_type": "execute_result"
    }
   ],
   "source": [
    "#---- ch03/boolean-array\n",
    "x = np.array([1, 2, 3])\n",
    "y = np.array([3, 2, 1])\n",
    "x < y"
   ]
  },
  {
   "cell_type": "code",
   "execution_count": 30,
   "metadata": {},
   "outputs": [
    {
     "data": {
      "text/plain": [
       "array([1])"
      ]
     },
     "execution_count": 30,
     "metadata": {},
     "output_type": "execute_result"
    }
   ],
   "source": [
    "#---- ch03/boolean-array2\n",
    "x[x < y]"
   ]
  },
  {
   "cell_type": "code",
   "execution_count": 31,
   "metadata": {},
   "outputs": [],
   "source": [
    "#---- ch03/set-random/noinc\n",
    "np.random.seed(101)"
   ]
  },
  {
   "cell_type": "code",
   "execution_count": 32,
   "metadata": {},
   "outputs": [
    {
     "data": {
      "text/plain": [
       "0.053"
      ]
     },
     "execution_count": 32,
     "metadata": {},
     "output_type": "execute_result"
    }
   ],
   "source": [
    "#---- ch03/boolean-random\n",
    "z = np.random.random(1000)\n",
    "np.mean(z > 0.95)"
   ]
  },
  {
   "cell_type": "markdown",
   "metadata": {},
   "source": [
    "#### 連鎖方式の実質GDPとGDPデフレータ"
   ]
  },
  {
   "cell_type": "code",
   "execution_count": 33,
   "metadata": {},
   "outputs": [],
   "source": [
    "#---- ch03/gdp-data\n",
    "price = np.array([[100, 100, 100],\n",
    "                  [101, 99, 103],\n",
    "                  [100, 98, 104],\n",
    "                  [99, 97, 106.]])\n",
    "quantity = np.array([[1000, 2000, 500],\n",
    "                     [980, 1980, 510],\n",
    "                     [1010, 1990, 520],\n",
    "                     [1005, 2005, 530.]])"
   ]
  },
  {
   "cell_type": "code",
   "execution_count": 34,
   "metadata": {},
   "outputs": [
    {
     "data": {
      "text/plain": [
       "array([350000., 347530., 350100., 350160.])"
      ]
     },
     "execution_count": 34,
     "metadata": {},
     "output_type": "execute_result"
    }
   ],
   "source": [
    "#---- ch03/gdp-nominal\n",
    "nominal_gdp = np.sum(price * quantity, axis=1)\n",
    "nominal_gdp"
   ]
  },
  {
   "cell_type": "code",
   "execution_count": 35,
   "metadata": {},
   "outputs": [
    {
     "data": {
      "text/plain": [
       "array([100.        , 100.15273775,  99.44827695,  98.89752821])"
      ]
     },
     "execution_count": 35,
     "metadata": {},
     "output_type": "execute_result"
    }
   ],
   "source": [
    "#---- ch03/gdp-deflator\n",
    "dfl = np.empty_like(nominal_gdp)\n",
    "dfl[0] = 1.\n",
    "for t in range(1, len(dfl)):\n",
    "    dfl[t] = dfl[t-1] * (np.sum(price[t, :] * quantity[t, :]) \n",
    "                            / np.sum(price[t-1, :] * quantity[t, :]))\n",
    "    \n",
    "dfl * 100"
   ]
  },
  {
   "cell_type": "code",
   "execution_count": 36,
   "metadata": {},
   "outputs": [
    {
     "data": {
      "text/plain": [
       "array([350000.        , 347000.        , 352042.2985066 , 354063.44966341])"
      ]
     },
     "execution_count": 36,
     "metadata": {},
     "output_type": "execute_result"
    }
   ],
   "source": [
    "#---- ch03/gdp-real\n",
    "real_gdp = nominal_gdp / dfl\n",
    "real_gdp"
   ]
  },
  {
   "cell_type": "markdown",
   "metadata": {},
   "source": [
    "#### 寄与率と寄与度"
   ]
  },
  {
   "cell_type": "code",
   "execution_count": 37,
   "metadata": {},
   "outputs": [
    {
     "data": {
      "text/plain": [
       "array([-2.22222222,  4.44444444,  2.22222222])"
      ]
     },
     "execution_count": 37,
     "metadata": {},
     "output_type": "execute_result"
    }
   ],
   "source": [
    "#---- ch03/toy-example\n",
    "x0 = np.array([10, 20, 15])\n",
    "x1 = np.array([9, 22, 16])\n",
    "contribution = (x1 - x0) / x0.sum() * 100\n",
    "contribution"
   ]
  },
  {
   "cell_type": "code",
   "execution_count": 38,
   "metadata": {},
   "outputs": [
    {
     "data": {
      "text/plain": [
       "array([[100000., 200000.,  50000.],\n",
       "       [ 98980., 196020.,  52530.],\n",
       "       [101000., 195020.,  54080.],\n",
       "       [ 99495., 194485.,  56180.]])"
      ]
     },
     "execution_count": 38,
     "metadata": {},
     "output_type": "execute_result"
    }
   ],
   "source": [
    "#---- ch03/contribution-data\n",
    "value = price * quantity\n",
    "value"
   ]
  },
  {
   "cell_type": "code",
   "execution_count": 39,
   "metadata": {},
   "outputs": [
    {
     "data": {
      "text/plain": [
       "True"
      ]
     },
     "execution_count": 39,
     "metadata": {},
     "output_type": "execute_result"
    }
   ],
   "source": [
    "#---- ch03/contribution-nominal-gdp\n",
    "np.allclose(nominal_gdp, np.sum(value, axis=1), rtol=1e-15)"
   ]
  },
  {
   "cell_type": "code",
   "execution_count": 40,
   "metadata": {},
   "outputs": [
    {
     "data": {
      "text/plain": [
       "array([        nan, -0.00705714,  0.00739505,  0.00017138])"
      ]
     },
     "execution_count": 40,
     "metadata": {},
     "output_type": "execute_result"
    }
   ],
   "source": [
    "#---- ch03/nominal-growth\n",
    "np.diff(nominal_gdp, prepend=np.nan) / np.roll(nominal_gdp, shift=1)"
   ]
  },
  {
   "cell_type": "code",
   "execution_count": 41,
   "metadata": {},
   "outputs": [
    {
     "data": {
      "text/plain": [
       "array([[        nan,         nan,         nan],\n",
       "       [-0.29142857, -1.13714286,  0.72285714],\n",
       "       [ 0.58124478, -0.28774494,  0.44600466],\n",
       "       [-0.42987718, -0.15281348,  0.59982862]])"
      ]
     },
     "execution_count": 41,
     "metadata": {},
     "output_type": "execute_result"
    }
   ],
   "source": [
    "#---- ch03/nominal-contribution\n",
    "contribution = (np.diff(value, prepend=np.nan, axis=0) \n",
    "                / np.roll(nominal_gdp, shift=1).reshape(4, 1)) * 100\n",
    "contribution"
   ]
  },
  {
   "cell_type": "code",
   "execution_count": 42,
   "metadata": {},
   "outputs": [
    {
     "data": {
      "text/plain": [
       "array([        nan, -0.70571429,  0.7395045 ,  0.01713796])"
      ]
     },
     "execution_count": 42,
     "metadata": {},
     "output_type": "execute_result"
    }
   ],
   "source": [
    "#---- ch03/contribution-sum\n",
    "contribution.sum(axis=1)"
   ]
  },
  {
   "cell_type": "markdown",
   "metadata": {},
   "source": [
    "#### 不平等指数"
   ]
  },
  {
   "cell_type": "markdown",
   "metadata": {},
   "source": [
    "##### 1. 相対的貧困率"
   ]
  },
  {
   "cell_type": "code",
   "execution_count": 43,
   "metadata": {},
   "outputs": [
    {
     "data": {
      "text/plain": [
       "3.0"
      ]
     },
     "execution_count": 43,
     "metadata": {},
     "output_type": "execute_result"
    }
   ],
   "source": [
    "#---- ch03/median\n",
    "x = np.array([3, 6, 10, 14, 3, 2, 1, 1])\n",
    "np.median(x)"
   ]
  },
  {
   "cell_type": "code",
   "execution_count": 44,
   "metadata": {},
   "outputs": [
    {
     "data": {
      "text/plain": [
       "array([False, False, False, False, False, False,  True,  True])"
      ]
     },
     "execution_count": 44,
     "metadata": {},
     "output_type": "execute_result"
    }
   ],
   "source": [
    "#---- ch03/relative-poverty\n",
    "x < np.median(x) / 2"
   ]
  },
  {
   "cell_type": "code",
   "execution_count": 45,
   "metadata": {},
   "outputs": [
    {
     "data": {
      "text/plain": [
       "0.25"
      ]
     },
     "execution_count": 45,
     "metadata": {},
     "output_type": "execute_result"
    }
   ],
   "source": [
    "#---- ch03/relative-poverty-rate\n",
    "np.mean(x < np.median(x) / 2)"
   ]
  },
  {
   "cell_type": "markdown",
   "metadata": {},
   "source": [
    "##### 2. ジニ係数"
   ]
  },
  {
   "cell_type": "code",
   "execution_count": 46,
   "metadata": {},
   "outputs": [
    {
     "data": {
      "text/plain": [
       "array([24., 19., 29., 14., 20., 23., 21.,  0., 24., 19.])"
      ]
     },
     "execution_count": 46,
     "metadata": {},
     "output_type": "execute_result"
    }
   ],
   "source": [
    "#---- ch03/gini-random-data\n",
    "x = np.random.choice(np.arange(30.), 10)\n",
    "x"
   ]
  },
  {
   "cell_type": "code",
   "execution_count": 47,
   "metadata": {},
   "outputs": [
    {
     "data": {
      "text/plain": [
       "array([ 0., 14., 19., 19., 20., 21., 23., 24., 24., 29.])"
      ]
     },
     "execution_count": 47,
     "metadata": {},
     "output_type": "execute_result"
    }
   ],
   "source": [
    "#---- ch03/gini-sorted-data\n",
    "y = np.sort(x)\n",
    "y"
   ]
  },
  {
   "cell_type": "code",
   "execution_count": 48,
   "metadata": {},
   "outputs": [
    {
     "data": {
      "text/plain": [
       "array([0.        , 0.        , 0.07253886, 0.17098446, 0.26943005,\n",
       "       0.37305699, 0.48186528, 0.60103627, 0.7253886 , 0.84974093,\n",
       "       1.        ])"
      ]
     },
     "execution_count": 48,
     "metadata": {},
     "output_type": "execute_result"
    }
   ],
   "source": [
    "#---- ch03/gini-cum-income\n",
    "Y = np.r_[0, y.cumsum()] / y.sum()\n",
    "Y"
   ]
  },
  {
   "cell_type": "code",
   "execution_count": 49,
   "metadata": {},
   "outputs": [
    {
     "data": {
      "text/plain": [
       "0.19119170984455958"
      ]
     },
     "execution_count": 49,
     "metadata": {},
     "output_type": "execute_result"
    }
   ],
   "source": [
    "#---- ch03/gini-formula\n",
    "gini = 1 - (2 * np.sum(Y) - 1) / y.size\n",
    "gini"
   ]
  },
  {
   "cell_type": "markdown",
   "metadata": {},
   "source": [
    "##### 3. トップ 1% 所得シェア"
   ]
  },
  {
   "cell_type": "code",
   "execution_count": 50,
   "metadata": {},
   "outputs": [
    {
     "data": {
      "text/plain": [
       "array([29.])"
      ]
     },
     "execution_count": 50,
     "metadata": {},
     "output_type": "execute_result"
    }
   ],
   "source": [
    "#---- ch03/top-1percent\n",
    "x[x >= np.quantile(x, 0.99)]"
   ]
  },
  {
   "cell_type": "code",
   "execution_count": 51,
   "metadata": {},
   "outputs": [
    {
     "data": {
      "text/plain": [
       "0.15025906735751296"
      ]
     },
     "execution_count": 51,
     "metadata": {},
     "output_type": "execute_result"
    }
   ],
   "source": [
    "#---- ch03/top-1percent-share\n",
    "x[x >= np.quantile(x, 0.99)].sum() / x.sum()"
   ]
  },
  {
   "cell_type": "code",
   "execution_count": null,
   "metadata": {},
   "outputs": [],
   "source": []
  }
 ],
 "metadata": {
  "kernelspec": {
   "display_name": "Python 3",
   "language": "python",
   "name": "python3"
  },
  "language_info": {
   "codemirror_mode": {
    "name": "ipython",
    "version": 3
   },
   "file_extension": ".py",
   "mimetype": "text/x-python",
   "name": "python",
   "nbconvert_exporter": "python",
   "pygments_lexer": "ipython3",
   "version": "3.8.5"
  }
 },
 "nbformat": 4,
 "nbformat_minor": 4
}
